{
 "cells": [
  {
   "cell_type": "markdown",
   "id": "509beab2-90f5-4f51-9f11-f86354f7ba2f",
   "metadata": {},
   "source": [
    "# De-Identification: Model Training and Evaluation"
   ]
  },
  {
   "cell_type": "markdown",
   "id": "1471a509-999a-4ff7-84f1-be8a30c0d460",
   "metadata": {
    "jp-MarkdownHeadingCollapsed": true
   },
   "source": [
    "### Import Libraries"
   ]
  },
  {
   "cell_type": "code",
   "execution_count": 1,
   "id": "7b6251a9-a5a7-4a14-8649-b5307586ec78",
   "metadata": {},
   "outputs": [],
   "source": [
    "import re, json\n",
    "import pandas as pd\n",
    "from pandas import DataFrame\n",
    "from typing import List, Dict, Any, Tuple\n",
    "\n",
    "import numpy as np\n",
    "np.int = np.int32\n",
    "np.float = np.float64\n",
    "np.bool = np.bool_\n",
    "import sklearn"
   ]
  },
  {
   "cell_type": "markdown",
   "id": "e3922686-2056-4fd3-9a67-25315af99b5d",
   "metadata": {},
   "source": [
    "Local Library"
   ]
  },
  {
   "cell_type": "code",
   "execution_count": 2,
   "id": "e4e854c7-db8f-4eca-9849-bce756938375",
   "metadata": {},
   "outputs": [],
   "source": [
    "from deid_utils import add_basic_features, add_contextual_features, REGEX_postprocessing\n",
    "from deid_utils import crf_feature_format, robe_dataset, group_words_into_sentences"
   ]
  },
  {
   "cell_type": "markdown",
   "id": "a8e104ec-5baf-4acc-b788-f2cbfe3dae7b",
   "metadata": {
    "jp-MarkdownHeadingCollapsed": true
   },
   "source": [
    "### Loading the Data"
   ]
  },
  {
   "cell_type": "code",
   "execution_count": 3,
   "id": "f47cc627-299f-4f77-ad6e-a9d49db262a4",
   "metadata": {},
   "outputs": [
    {
     "data": {
      "text/html": [
       "<div>\n",
       "<style scoped>\n",
       "    .dataframe tbody tr th:only-of-type {\n",
       "        vertical-align: middle;\n",
       "    }\n",
       "\n",
       "    .dataframe tbody tr th {\n",
       "        vertical-align: top;\n",
       "    }\n",
       "\n",
       "    .dataframe thead th {\n",
       "        text-align: right;\n",
       "    }\n",
       "</style>\n",
       "<table border=\"1\" class=\"dataframe\">\n",
       "  <thead>\n",
       "    <tr style=\"text-align: right;\">\n",
       "      <th></th>\n",
       "      <th>id</th>\n",
       "      <th>sentence</th>\n",
       "      <th>word</th>\n",
       "      <th>start</th>\n",
       "      <th>end</th>\n",
       "      <th>true_label</th>\n",
       "    </tr>\n",
       "  </thead>\n",
       "  <tbody>\n",
       "    <tr>\n",
       "      <th>0</th>\n",
       "      <td>3</td>\n",
       "      <td>0</td>\n",
       "      <td>Ke</td>\n",
       "      <td>0</td>\n",
       "      <td>2</td>\n",
       "      <td>O</td>\n",
       "    </tr>\n",
       "    <tr>\n",
       "      <th>1</th>\n",
       "      <td>3</td>\n",
       "      <td>0</td>\n",
       "      <td>kontrole</td>\n",
       "      <td>3</td>\n",
       "      <td>11</td>\n",
       "      <td>O</td>\n",
       "    </tr>\n",
       "    <tr>\n",
       "      <th>2</th>\n",
       "      <td>3</td>\n",
       "      <td>0</td>\n",
       "      <td>,</td>\n",
       "      <td>11</td>\n",
       "      <td>12</td>\n",
       "      <td>O</td>\n",
       "    </tr>\n",
       "    <tr>\n",
       "      <th>3</th>\n",
       "      <td>3</td>\n",
       "      <td>0</td>\n",
       "      <td>k</td>\n",
       "      <td>13</td>\n",
       "      <td>14</td>\n",
       "      <td>O</td>\n",
       "    </tr>\n",
       "    <tr>\n",
       "      <th>4</th>\n",
       "      <td>3</td>\n",
       "      <td>0</td>\n",
       "      <td>pokračování</td>\n",
       "      <td>15</td>\n",
       "      <td>26</td>\n",
       "      <td>O</td>\n",
       "    </tr>\n",
       "  </tbody>\n",
       "</table>\n",
       "</div>"
      ],
      "text/plain": [
       "   id  sentence         word  start  end true_label\n",
       "0   3         0           Ke      0    2          O\n",
       "1   3         0     kontrole      3   11          O\n",
       "2   3         0            ,     11   12          O\n",
       "3   3         0            k     13   14          O\n",
       "4   3         0  pokračování     15   26          O"
      ]
     },
     "execution_count": 3,
     "metadata": {},
     "output_type": "execute_result"
    }
   ],
   "source": [
    "data = pd.read_csv(\"../home/patient_records.csv\")\n",
    "data.head()"
   ]
  },
  {
   "cell_type": "code",
   "execution_count": 4,
   "id": "02f68e10-6c8c-4b83-bbb7-206d0f884c6a",
   "metadata": {},
   "outputs": [
    {
     "name": "stdout",
     "output_type": "stream",
     "text": [
      "<class 'pandas.core.frame.DataFrame'>\n",
      "RangeIndex: 53767 entries, 0 to 53766\n",
      "Data columns (total 6 columns):\n",
      " #   Column      Non-Null Count  Dtype \n",
      "---  ------      --------------  ----- \n",
      " 0   id          53767 non-null  int64 \n",
      " 1   sentence    53767 non-null  int64 \n",
      " 2   word        53766 non-null  object\n",
      " 3   start       53767 non-null  int64 \n",
      " 4   end         53767 non-null  int64 \n",
      " 5   true_label  53767 non-null  object\n",
      "dtypes: int64(4), object(2)\n",
      "memory usage: 2.5+ MB\n"
     ]
    }
   ],
   "source": [
    "data.info()"
   ]
  },
  {
   "cell_type": "code",
   "execution_count": 5,
   "id": "da18ef6d-8b58-4df3-badd-4869fa49e520",
   "metadata": {},
   "outputs": [
    {
     "name": "stdout",
     "output_type": "stream",
     "text": [
      "Rows with NaN or None values: [52958]\n"
     ]
    }
   ],
   "source": [
    "rows_with_NaN = data.isnull().any(axis=1)[data.isnull().any(axis=1)].index.tolist()\n",
    "print(\"Rows with NaN or None values:\", rows_with_NaN )"
   ]
  },
  {
   "cell_type": "code",
   "execution_count": 6,
   "id": "83bedc6f-ca3c-48d6-9f55-68b20727a00f",
   "metadata": {},
   "outputs": [
    {
     "data": {
      "text/plain": [
       "id            122\n",
       "sentence        3\n",
       "word          NaN\n",
       "start         237\n",
       "end           239\n",
       "true_label      O\n",
       "Name: 52958, dtype: object"
      ]
     },
     "execution_count": 6,
     "metadata": {},
     "output_type": "execute_result"
    }
   ],
   "source": [
    "data.loc[rows_with_NaN[0]]"
   ]
  },
  {
   "cell_type": "code",
   "execution_count": 7,
   "id": "8e34f9e8-438c-4284-bb76-b5785e5a3a15",
   "metadata": {},
   "outputs": [],
   "source": [
    "data.loc[data.isnull().any(axis=1)[data.isnull().any(axis=1)].index, \"word\"] = \"Nan\""
   ]
  },
  {
   "cell_type": "code",
   "execution_count": 8,
   "id": "45e77878-7ddf-42e8-b27f-28609b4fbe36",
   "metadata": {},
   "outputs": [
    {
     "name": "stdout",
     "output_type": "stream",
     "text": [
      "Rows with NaN or None values: []\n"
     ]
    }
   ],
   "source": [
    "rows_with_NaN = data.isnull().any(axis=1)[data.isnull().any(axis=1)].index.tolist()\n",
    "print(\"Rows with NaN or None values:\", rows_with_NaN )"
   ]
  },
  {
   "cell_type": "code",
   "execution_count": 9,
   "id": "85124918-283b-4fbc-b771-10ab0400e11e",
   "metadata": {},
   "outputs": [
    {
     "name": "stdout",
     "output_type": "stream",
     "text": [
      "Number of words 53767\n",
      "Number of words for anonymization: 1853 (3.45%)\n"
     ]
    }
   ],
   "source": [
    "nrows = len(data)\n",
    "nrows_anno = len(data[data[\"true_label\"] == \"A\"])\n",
    "print(\"Number of words\", nrows)\n",
    "print(f'Number of words for anonymization: {nrows_anno} ({((nrows_anno / nrows) * 100):.2f}%)')"
   ]
  },
  {
   "cell_type": "markdown",
   "id": "255cefa5-f8d5-41d8-90f3-58d0d1cfba7c",
   "metadata": {
    "jp-MarkdownHeadingCollapsed": true
   },
   "source": [
    "### Training, Validation and Testing Datasets"
   ]
  },
  {
   "cell_type": "markdown",
   "id": "90f03402-69af-4c53-9db5-44b831c11dba",
   "metadata": {},
   "source": [
    "#### Sentence Aggregation"
   ]
  },
  {
   "cell_type": "code",
   "execution_count": 10,
   "id": "3dacb36e-2c58-4f40-8480-84319cfdc48f",
   "metadata": {},
   "outputs": [
    {
     "data": {
      "text/html": [
       "<div>\n",
       "<style scoped>\n",
       "    .dataframe tbody tr th:only-of-type {\n",
       "        vertical-align: middle;\n",
       "    }\n",
       "\n",
       "    .dataframe tbody tr th {\n",
       "        vertical-align: top;\n",
       "    }\n",
       "\n",
       "    .dataframe thead th {\n",
       "        text-align: right;\n",
       "    }\n",
       "</style>\n",
       "<table border=\"1\" class=\"dataframe\">\n",
       "  <thead>\n",
       "    <tr style=\"text-align: right;\">\n",
       "      <th></th>\n",
       "      <th>id</th>\n",
       "      <th>sentence</th>\n",
       "      <th>word</th>\n",
       "      <th>start</th>\n",
       "      <th>end</th>\n",
       "      <th>true_label</th>\n",
       "    </tr>\n",
       "  </thead>\n",
       "  <tbody>\n",
       "    <tr>\n",
       "      <th>0</th>\n",
       "      <td>3</td>\n",
       "      <td>0</td>\n",
       "      <td>[Ke, kontrole, ,, k, pokračování, léčby]</td>\n",
       "      <td>[0, 3, 11, 13, 15, 27]</td>\n",
       "      <td>[2, 11, 12, 14, 26, 32]</td>\n",
       "      <td>[O, O, O, O, O, O]</td>\n",
       "    </tr>\n",
       "    <tr>\n",
       "      <th>1</th>\n",
       "      <td>3</td>\n",
       "      <td>1</td>\n",
       "      <td>[Lab, ., vyšetření, :]</td>\n",
       "      <td>[33, 36, 38, 47]</td>\n",
       "      <td>[36, 37, 47, 48]</td>\n",
       "      <td>[O, O, O, O]</td>\n",
       "    </tr>\n",
       "  </tbody>\n",
       "</table>\n",
       "</div>"
      ],
      "text/plain": [
       "   id  sentence                                      word  \\\n",
       "0   3         0  [Ke, kontrole, ,, k, pokračování, léčby]   \n",
       "1   3         1                    [Lab, ., vyšetření, :]   \n",
       "\n",
       "                    start                      end          true_label  \n",
       "0  [0, 3, 11, 13, 15, 27]  [2, 11, 12, 14, 26, 32]  [O, O, O, O, O, O]  \n",
       "1        [33, 36, 38, 47]         [36, 37, 47, 48]        [O, O, O, O]  "
      ]
     },
     "execution_count": 10,
     "metadata": {},
     "output_type": "execute_result"
    }
   ],
   "source": [
    "data = group_words_into_sentences(data)\n",
    "data.head(2)"
   ]
  },
  {
   "cell_type": "markdown",
   "id": "3a6348ff-b941-441e-a57e-393d83d18aa5",
   "metadata": {},
   "source": [
    "#### Dataset Split (70:15:15)"
   ]
  },
  {
   "cell_type": "code",
   "execution_count": 11,
   "id": "d8d255ff-61b9-4b16-b2d8-07ee9e21dee7",
   "metadata": {},
   "outputs": [],
   "source": [
    "from sklearn.model_selection import train_test_split"
   ]
  },
  {
   "cell_type": "code",
   "execution_count": 12,
   "id": "5c0e73ad-4e17-42a6-b0ec-37badaf283a4",
   "metadata": {},
   "outputs": [
    {
     "name": "stdout",
     "output_type": "stream",
     "text": [
      "Training set size: 5109\n",
      "Validation set size: 1095\n",
      "Test set size: 1095\n"
     ]
    }
   ],
   "source": [
    "y = data[\"true_label\"]\n",
    "X = data.drop([\"true_label\"], axis = 1)\n",
    "\n",
    "X_train, X_temp, y_train, y_temp = train_test_split(X, y, test_size = 0.3, random_state = 42)\n",
    "X_test, X_val, y_test, y_val = train_test_split(X_temp, y_temp, test_size = 0.5, random_state = 42)\n",
    "\n",
    "print(f\"Training set size: {len(X_train)}\")\n",
    "print(f\"Validation set size: {len(X_val)}\")\n",
    "print(f\"Test set size: {len(X_test)}\")"
   ]
  },
  {
   "cell_type": "markdown",
   "id": "14c9bb00-7692-454f-996e-8321a0b2e24a",
   "metadata": {
    "jp-MarkdownHeadingCollapsed": true
   },
   "source": [
    "### Model's Evaluation (Init)"
   ]
  },
  {
   "cell_type": "code",
   "execution_count": 13,
   "id": "e1acb04d-da58-4bc6-b45d-6a9ef3d5afde",
   "metadata": {},
   "outputs": [],
   "source": [
    "import matplotlib.pyplot as plt\n",
    "from sklearn.metrics import confusion_matrix, ConfusionMatrixDisplay, classification_report, make_scorer"
   ]
  },
  {
   "cell_type": "code",
   "execution_count": 15,
   "id": "c8d3da68-f725-48cd-80b3-d1ccfe87525b",
   "metadata": {},
   "outputs": [],
   "source": [
    "def model_report(y: List[List[str]], y_pred: List[List[str]], labels: List[str]) -> Dict[str, Dict[str, int]]:\n",
    "    y = list(chain.from_iterable(y))\n",
    "    y_pred = list(chain.from_iterable(y_pred))\n",
    "    \n",
    "    disp = ConfusionMatrixDisplay(confusion_matrix(y, y_pred), display_labels=labels)\n",
    "    disp.plot(cmap=\"cividis\")\n",
    "    plt.xticks(rotation=90)\n",
    "    plt.yticks(rotation=0)\n",
    "    plt.show()\n",
    "\n",
    "    print(classification_report(y, y_pred, labels=labels, target_names=labels, digits=4))\n",
    "    return classification_report(y, y_pred, output_dict=True)"
   ]
  },
  {
   "cell_type": "code",
   "execution_count": 16,
   "id": "e23ee577-5ec7-490b-9bdc-4cf1a44c3513",
   "metadata": {},
   "outputs": [],
   "source": [
    "def save_model_evaluation(model: str, report: Dict[str, Dict[str, int]], model_report: List[DataFrame]) -> None: \n",
    "    model_report[0].loc[model] = [report[\"O\"]['precision'], report[\"A\"]['precision'], report['weighted avg']['precision'], report['macro avg']['precision']]\n",
    "    model_report[1].loc[model] = [report[\"O\"]['recall'], report[\"A\"]['recall'], report['weighted avg']['recall'], report['macro avg']['recall']]\n",
    "    model_report[2].loc[model] = [report[\"O\"]['f1-score'], report[\"A\"]['f1-score'], report['weighted avg']['f1-score'], report['macro avg']['f1-score']]\n",
    "    model_report[3].loc[model] = [report['accuracy']]"
   ]
  },
  {
   "cell_type": "code",
   "execution_count": 17,
   "id": "ae2ae6fa-1e63-40b7-8ae9-52f430bbd2d8",
   "metadata": {},
   "outputs": [],
   "source": [
    "def plot_learning_curves(trainer_log: List[Dict[str, int]]) -> None:\n",
    "    train_loss_values = [trainer_log[i-1].get(\"loss\", None) for i, log in enumerate(trainer_log) if \"eval_loss\" in log]\n",
    "    validation_loss_values = [log.get(\"eval_loss\", None) for log in trainer_log if \"eval_loss\" in log]\n",
    "    epochs = [trainer_log[i-1].get(\"epoch\", None) for i, log in enumerate(trainer_log) if \"eval_loss\" in log]\n",
    "\n",
    "    plt.plot(epochs, train_loss_values, label='Training Loss')\n",
    "    plt.plot(epochs, validation_loss_values, label='Validation Loss')\n",
    "    plt.xlabel('Epoch')\n",
    "    plt.ylabel('Loss')\n",
    "    plt.title('The Learning Curves')\n",
    "    plt.legend()\n",
    "    plt.savefig('learning_curves.png')\n",
    "    plt.show()"
   ]
  },
  {
   "cell_type": "markdown",
   "id": "52b77dc5-5373-42d0-9468-15e8e90a92d8",
   "metadata": {},
   "source": [
    "Error Analysis"
   ]
  },
  {
   "cell_type": "code",
   "execution_count": 18,
   "id": "1467461a-76bb-47a9-8f46-eecf72e0cce6",
   "metadata": {},
   "outputs": [],
   "source": [
    "def get_false_predictions(X: DataFrame, y: List[List[str]], y_pred: List[List[str]]) -> Tuple[List[Tuple[str, str, str]], List[Tuple[str, str, str]]]:\n",
    "    FN = [[(x, true_label, pred_label) for x, true_label, pred_label in zip(x_sentence, true_labels, pred_labels) if true_label != pred_label and pred_label == 'O']\n",
    "          for x_sentence, true_labels, pred_labels in zip(X, y, y_pred)]\n",
    "    flat_FN = list(chain.from_iterable(FN))\n",
    "    FP = [[(x, true_label, pred_label) for x, true_label, pred_label in zip(x_sentence, true_labels, pred_labels) if true_label != pred_label and pred_label == 'A']\n",
    "          for x_sentence, true_labels, pred_labels in zip(X, y, y_pred)]\n",
    "    flat_FP = list(chain.from_iterable(FP))\n",
    "    return flat_FN, flat_FP"
   ]
  },
  {
   "cell_type": "markdown",
   "id": "3453b64f-363f-48c0-8dfa-577e8faac7f6",
   "metadata": {},
   "source": [
    "## Rule-Based De-Identification: REGEX"
   ]
  },
  {
   "cell_type": "markdown",
   "id": "7d5699a9-bd99-4947-a00b-ae96b3c9cbd8",
   "metadata": {
    "jp-MarkdownHeadingCollapsed": true
   },
   "source": [
    "#### Imports + Evaluation"
   ]
  },
  {
   "cell_type": "code",
   "execution_count": 19,
   "id": "904a5a35-cf5b-4655-911a-e9480c489535",
   "metadata": {},
   "outputs": [],
   "source": [
    "from itertools import chain\n",
    "from collections import Counter"
   ]
  },
  {
   "cell_type": "code",
   "execution_count": 20,
   "id": "74666a53-fe0e-4441-8e09-d81a72698519",
   "metadata": {},
   "outputs": [],
   "source": [
    "regex_mapping = group_words_into_sentences(pd.read_csv(\"../home/regex_mapping.csv\"))\n",
    "\n",
    "def evaluate_regex(X: DataFrame, y: DataFrame, regex_mapping: DataFrame) -> None:\n",
    "    plt.rcParams['axes.grid'] = False\n",
    "    labels=[\"A\", \"O\"]\n",
    "    \n",
    "    y = list(chain.from_iterable(y))\n",
    "    merged = pd.merge(X, regex_mapping[[\"id\", \"sentence\", \"regex_rule\"]], on=['id', 'sentence'], how='left')['regex_rule']\n",
    "    y_pred = list(chain.from_iterable(merged))\n",
    "    \n",
    "    disp = ConfusionMatrixDisplay(confusion_matrix(y, y_pred), display_labels=labels)\n",
    "    disp.plot(cmap=\"cividis\")\n",
    "    plt.xticks(rotation=90)\n",
    "    plt.yticks(rotation=0)\n",
    "    plt.show()\n",
    "    \n",
    "    print(classification_report(y, y_pred, labels=labels, target_names=labels, digits=4))"
   ]
  },
  {
   "cell_type": "markdown",
   "id": "e1ed8d9b-e97d-4df9-b3ca-803910f2c025",
   "metadata": {
    "jp-MarkdownHeadingCollapsed": true
   },
   "source": [
    "#### REGEX on the whole Dataset"
   ]
  },
  {
   "cell_type": "code",
   "execution_count": 21,
   "id": "94ab0801-1dcc-4caa-a606-7b85515ce198",
   "metadata": {},
   "outputs": [
    {
     "data": {
      "image/png": "[encoded data removed]",
      "text/plain": [
       "<Figure size 640x480 with 2 Axes>"
      ]
     },
     "metadata": {},
     "output_type": "display_data"
    },
    {
     "name": "stdout",
     "output_type": "stream",
     "text": [
      "              precision    recall  f1-score   support\n",
      "\n",
      "           A     0.9701    0.5613    0.7111      1853\n",
      "           O     0.9846    0.9994    0.9919     51914\n",
      "\n",
      "    accuracy                         0.9843     53767\n",
      "   macro avg     0.9774    0.7803    0.8515     53767\n",
      "weighted avg     0.9841    0.9843    0.9822     53767\n",
      "\n"
     ]
    }
   ],
   "source": [
    "evaluate_regex(X, y, regex_mapping)"
   ]
  },
  {
   "cell_type": "markdown",
   "id": "aedcf5b4-4e68-441d-9e8c-bd6129c4ee18",
   "metadata": {
    "jp-MarkdownHeadingCollapsed": true
   },
   "source": [
    "#### REGEX on Train data"
   ]
  },
  {
   "cell_type": "code",
   "execution_count": 22,
   "id": "872e6849-683f-41ba-9d99-9e42167b0e39",
   "metadata": {},
   "outputs": [
    {
     "data": {
      "image/png": "[encoded data removed]",
      "text/plain": [
       "<Figure size 640x480 with 2 Axes>"
      ]
     },
     "metadata": {},
     "output_type": "display_data"
    },
    {
     "name": "stdout",
     "output_type": "stream",
     "text": [
      "              precision    recall  f1-score   support\n",
      "\n",
      "           A     0.9685    0.5511    0.7024      1283\n",
      "           O     0.9845    0.9994    0.9919     36494\n",
      "\n",
      "    accuracy                         0.9841     37777\n",
      "   macro avg     0.9765    0.7752    0.8471     37777\n",
      "weighted avg     0.9839    0.9841    0.9820     37777\n",
      "\n"
     ]
    }
   ],
   "source": [
    "evaluate_regex(X_train, y_train, regex_mapping)"
   ]
  },
  {
   "cell_type": "markdown",
   "id": "3d7238c9-9d4c-4820-b80f-ec83d5825d85",
   "metadata": {
    "jp-MarkdownHeadingCollapsed": true
   },
   "source": [
    "#### REGEX on Validation data"
   ]
  },
  {
   "cell_type": "code",
   "execution_count": 23,
   "id": "eca6b5f9-532c-4171-9598-a213602e7dd8",
   "metadata": {},
   "outputs": [
    {
     "data": {
      "image/png": "[encoded data removed]",
      "text/plain": [
       "<Figure size 640x480 with 2 Axes>"
      ]
     },
     "metadata": {},
     "output_type": "display_data"
    },
    {
     "name": "stdout",
     "output_type": "stream",
     "text": [
      "              precision    recall  f1-score   support\n",
      "\n",
      "           A     0.9713    0.4788    0.6414       353\n",
      "           O     0.9770    0.9994    0.9880      7813\n",
      "\n",
      "    accuracy                         0.9769      8166\n",
      "   macro avg     0.9741    0.7391    0.8147      8166\n",
      "weighted avg     0.9767    0.9769    0.9731      8166\n",
      "\n"
     ]
    }
   ],
   "source": [
    "evaluate_regex(X_val, y_val, regex_mapping)"
   ]
  },
  {
   "cell_type": "markdown",
   "id": "d5152d21-f133-49b4-ac5a-7be34cb241e9",
   "metadata": {
    "jp-MarkdownHeadingCollapsed": true
   },
   "source": [
    "#### REGEX on Test data"
   ]
  },
  {
   "cell_type": "code",
   "execution_count": 24,
   "id": "0bc17150-3ee0-468b-a2b5-c97d1ec8db71",
   "metadata": {},
   "outputs": [
    {
     "data": {
      "image/png": "[encoded data removed]",
      "text/plain": [
       "<Figure size 640x480 with 2 Axes>"
      ]
     },
     "metadata": {},
     "output_type": "display_data"
    },
    {
     "name": "stdout",
     "output_type": "stream",
     "text": [
      "              precision    recall  f1-score   support\n",
      "\n",
      "           A     0.9762    0.7558    0.8519       217\n",
      "           O     0.9931    0.9995    0.9963      7607\n",
      "\n",
      "    accuracy                         0.9927      7824\n",
      "   macro avg     0.9846    0.8776    0.9241      7824\n",
      "weighted avg     0.9926    0.9927    0.9923      7824\n",
      "\n"
     ]
    }
   ],
   "source": [
    "evaluate_regex(X_test, y_test, regex_mapping)"
   ]
  },
  {
   "cell_type": "markdown",
   "id": "83e81189-08a9-4229-9dee-f218ca5b311d",
   "metadata": {
    "jp-MarkdownHeadingCollapsed": true
   },
   "source": [
    "#### Error Analysis"
   ]
  },
  {
   "cell_type": "code",
   "execution_count": 25,
   "id": "9062e9d0-e6f3-4a33-9e88-b32fafcca309",
   "metadata": {},
   "outputs": [],
   "source": [
    "y_pred_regex = list(pd.merge(X, regex_mapping[[\"id\", \"sentence\", \"regex_rule\"]], on=['id', 'sentence'], how='left')['regex_rule'])"
   ]
  },
  {
   "cell_type": "code",
   "execution_count": 26,
   "id": "7e34ae7b-fb32-438d-bf99-3e5fd506d19c",
   "metadata": {},
   "outputs": [],
   "source": [
    "FN_regex, FP_regex = get_false_predictions(list(X['word']), list(y), y_pred_regex)"
   ]
  },
  {
   "cell_type": "code",
   "execution_count": 27,
   "id": "fc9e1381-5d72-43ae-a1f0-dd155923e391",
   "metadata": {
    "scrolled": true
   },
   "outputs": [
    {
     "name": "stdout",
     "output_type": "stream",
     "text": [
      "Whole Dataset\n",
      "False Negatives:\n",
      "\n",
      "False Positives:\n"
     ]
    }
   ],
   "source": [
    "print(\"Whole Dataset\")\n",
    "print(\"False Negatives:\")\n",
    "for false_negative in FN_regex:\n",
    "    pass\n",
    "    #print(false_negative)\n",
    "\n",
    "print(\"\\nFalse Positives:\")\n",
    "for false_positive in FP_regex:\n",
    "    pass\n",
    "    #print(false_positive)"
   ]
  },
  {
   "cell_type": "markdown",
   "id": "99df39ff-768c-4058-ba92-a35fbe08b7a8",
   "metadata": {},
   "source": [
    "## ML-Based De-Identification"
   ]
  },
  {
   "cell_type": "markdown",
   "id": "c4d634a2-3789-4448-8c6b-4c91ce3393c5",
   "metadata": {},
   "source": [
    "### CRF Classifier"
   ]
  },
  {
   "cell_type": "markdown",
   "id": "1e87c804-28fa-4972-b6c6-d1f19104f8ba",
   "metadata": {
    "jp-MarkdownHeadingCollapsed": true
   },
   "source": [
    "##### Imports"
   ]
  },
  {
   "cell_type": "code",
   "execution_count": 28,
   "id": "07c2f27d-de33-444b-9593-f0f22af5365e",
   "metadata": {
    "scrolled": true
   },
   "outputs": [
    {
     "name": "stderr",
     "output_type": "stream",
     "text": [
      "2024-03-31 13:32:21.087251: I tensorflow/core/platform/cpu_feature_guard.cc:182] This TensorFlow binary is optimized to use available CPU instructions in performance-critical operations.\n",
      "To enable the following instructions: AVX2 FMA, in other operations, rebuild TensorFlow with the appropriate compiler flags.\n",
      "2024-03-31 13:32:23.030815: W tensorflow/compiler/tf2tensorrt/utils/py_utils.cc:38] TF-TRT Warning: Could not find TensorRT\n"
     ]
    }
   ],
   "source": [
    "from sklearn.metrics import make_scorer, recall_score\n",
    "import sklearn_crfsuite\n",
    "from sklearn_crfsuite import metrics\n",
    "from sklearn.model_selection import cross_val_score, RandomizedSearchCV, GridSearchCV\n",
    "\n",
    "import scipy.stats\n",
    "\n",
    "import eli5\n",
    "from IPython.core.display import HTML"
   ]
  },
  {
   "cell_type": "markdown",
   "id": "e6eaccd5-053a-4570-8ab2-84ed79e243f8",
   "metadata": {
    "jp-MarkdownHeadingCollapsed": true
   },
   "source": [
    "#### Evaluation Initialization"
   ]
  },
  {
   "cell_type": "code",
   "execution_count": 29,
   "id": "8be807a0-0a0f-4c1e-93b5-acf9ba5dd3e5",
   "metadata": {},
   "outputs": [],
   "source": [
    "def print_state_features(state_features):\n",
    "    for (attr, label), weight in state_features:\n",
    "        print(\"%0.6f %-8s %s\" % (weight, label, attr))   "
   ]
  },
  {
   "cell_type": "markdown",
   "id": "e93736ca-3004-4c5c-9e39-a8bab9b18d0b",
   "metadata": {},
   "source": [
    "Validation data evaluation report"
   ]
  },
  {
   "cell_type": "code",
   "execution_count": 30,
   "id": "d3bd194c-47d5-47a0-b410-2d2bd726ce83",
   "metadata": {},
   "outputs": [],
   "source": [
    "precision_crf = pd.DataFrame(columns=[\"O\", \"A\", \"Weighted Avg\", \"Macro Avg\"])\n",
    "recall_crf = pd.DataFrame(columns=[\"O\", \"A\", \"Weighted Avg\", \"Macro Avg\"])\n",
    "f1_score_crf = pd.DataFrame(columns=[\"O\", \"A\", \"Weighted Avg\", \"Macro Avg\"])\n",
    "accuracy_crf = pd.DataFrame(columns=[\"Accuracy\"])\n",
    "\n",
    "crf_models_report = [precision_crf, recall_crf, f1_score_crf, accuracy_crf]"
   ]
  },
  {
   "cell_type": "markdown",
   "id": "bfc1ac06-601e-4788-9c60-8354fdcd23d5",
   "metadata": {},
   "source": [
    "Test data evaluation report"
   ]
  },
  {
   "cell_type": "code",
   "execution_count": 31,
   "id": "c3cf97d1-e077-4f37-8488-6ab19af687dc",
   "metadata": {},
   "outputs": [],
   "source": [
    "precision_test_crf = pd.DataFrame(columns=[\"O\", \"A\", \"Weighted Avg\", \"Macro Avg\"])\n",
    "recall_test_crf = pd.DataFrame(columns=[\"O\", \"A\", \"Weighted Avg\", \"Macro Avg\"])\n",
    "f1_score_test_crf = pd.DataFrame(columns=[\"O\", \"A\", \"Weighted Avg\", \"Macro Avg\"])\n",
    "accuracy_test_crf = pd.DataFrame(columns=[\"Accuracy\"])\n",
    "\n",
    "crf_test_models_report = [precision_test_crf, recall_test_crf, f1_score_test_crf, accuracy_test_crf]"
   ]
  },
  {
   "cell_type": "markdown",
   "id": "b8892af4-0c18-43ce-9300-c81d61b1313a",
   "metadata": {},
   "source": [
    "#### CRF Models without REGEX "
   ]
  },
  {
   "cell_type": "markdown",
   "id": "69c8f688-6b67-497b-8769-d228aa0380e3",
   "metadata": {
    "jp-MarkdownHeadingCollapsed": true
   },
   "source": [
    "##### CRF Model No.1 Basic Feature Set"
   ]
  },
  {
   "cell_type": "code",
   "execution_count": 32,
   "id": "ff32ddea-01e4-4014-a6b0-82ad5da9a97e",
   "metadata": {},
   "outputs": [],
   "source": [
    "REGEX_FEATURE = False"
   ]
  },
  {
   "cell_type": "markdown",
   "id": "5386fe20-5fd1-47f7-968a-399cef1c5403",
   "metadata": {},
   "source": [
    "Feature Addition"
   ]
  },
  {
   "cell_type": "code",
   "execution_count": 33,
   "id": "b14d6298-a509-480f-b9bb-d36315568a6f",
   "metadata": {},
   "outputs": [],
   "source": [
    "X_train_crf_df = add_basic_features(X_train, REGEX_FEATURE).drop([\"id\", \"sentence\", \"start\", \"end\"], axis=1)\n",
    "X_val_crf_df = add_basic_features(X_val, REGEX_FEATURE).drop([\"id\", \"sentence\", \"start\", \"end\"], axis=1)\n",
    "X_test_crf_df = add_basic_features(X_test, REGEX_FEATURE).drop([\"id\", \"sentence\", \"start\", \"end\"], axis=1)"
   ]
  },
  {
   "cell_type": "code",
   "execution_count": 34,
   "id": "4dccda81-0e4c-4829-9afd-6e04f54224b2",
   "metadata": {},
   "outputs": [
    {
     "data": {
      "text/html": [
       "<div>\n",
       "<style scoped>\n",
       "    .dataframe tbody tr th:only-of-type {\n",
       "        vertical-align: middle;\n",
       "    }\n",
       "\n",
       "    .dataframe tbody tr th {\n",
       "        vertical-align: top;\n",
       "    }\n",
       "\n",
       "    .dataframe thead th {\n",
       "        text-align: right;\n",
       "    }\n",
       "</style>\n",
       "<table border=\"1\" class=\"dataframe\">\n",
       "  <thead>\n",
       "    <tr style=\"text-align: right;\">\n",
       "      <th></th>\n",
       "      <th>word</th>\n",
       "      <th>word.position</th>\n",
       "      <th>word[-3:]</th>\n",
       "      <th>word.POS_tag</th>\n",
       "      <th>word.len()</th>\n",
       "      <th>word.istitle()</th>\n",
       "      <th>word.isdigit()</th>\n",
       "      <th>bias</th>\n",
       "    </tr>\n",
       "  </thead>\n",
       "  <tbody>\n",
       "    <tr>\n",
       "      <th>0</th>\n",
       "      <td>[Lékař, :]</td>\n",
       "      <td>[0.6, 0.6]</td>\n",
       "      <td>[kař, :]</td>\n",
       "      <td>[NN, Z:]</td>\n",
       "      <td>[5, 1]</td>\n",
       "      <td>[True, False]</td>\n",
       "      <td>[False, False]</td>\n",
       "      <td>1.0</td>\n",
       "    </tr>\n",
       "    <tr>\n",
       "      <th>1</th>\n",
       "      <td>[P_Laktátdehydrogenáza, :]</td>\n",
       "      <td>[0.12, 0.13]</td>\n",
       "      <td>[áza, :]</td>\n",
       "      <td>[Q3, Z:]</td>\n",
       "      <td>[21, 1]</td>\n",
       "      <td>[True, False]</td>\n",
       "      <td>[False, False]</td>\n",
       "      <td>1.0</td>\n",
       "    </tr>\n",
       "  </tbody>\n",
       "</table>\n",
       "</div>"
      ],
      "text/plain": [
       "                         word word.position word[-3:] word.POS_tag word.len()  \\\n",
       "0                  [Lékař, :]    [0.6, 0.6]  [kař, :]     [NN, Z:]     [5, 1]   \n",
       "1  [P_Laktátdehydrogenáza, :]  [0.12, 0.13]  [áza, :]     [Q3, Z:]    [21, 1]   \n",
       "\n",
       "  word.istitle()  word.isdigit()  bias  \n",
       "0  [True, False]  [False, False]   1.0  \n",
       "1  [True, False]  [False, False]   1.0  "
      ]
     },
     "execution_count": 34,
     "metadata": {},
     "output_type": "execute_result"
    }
   ],
   "source": [
    "X_train_crf_df.head(2)"
   ]
  },
  {
   "cell_type": "markdown",
   "id": "63fee2fb-4c01-497a-a4a1-397645782ef3",
   "metadata": {},
   "source": [
    "Transformation into the Acceptable Feature Format for CRF"
   ]
  },
  {
   "cell_type": "code",
   "execution_count": 35,
   "id": "b41a54fd-c948-48e4-800e-0cbaafc33a4b",
   "metadata": {},
   "outputs": [],
   "source": [
    "X_train_crf = crf_feature_format(X_train_crf_df)\n",
    "y_train_crf = y_train.tolist()\n",
    "X_val_crf = crf_feature_format(X_val_crf_df)\n",
    "y_val_crf = y_val.tolist()\n",
    "X_test_crf = crf_feature_format(X_test_crf_df)\n",
    "y_test_crf = y_test.tolist()"
   ]
  },
  {
   "cell_type": "markdown",
   "id": "920dccba-3997-4de0-bbce-3a802e01626d",
   "metadata": {},
   "source": [
    "**Feature Set:**"
   ]
  },
  {
   "cell_type": "code",
   "execution_count": 36,
   "id": "99c8a78c-7c50-430d-98a1-eb2c68c14ad5",
   "metadata": {
    "scrolled": true
   },
   "outputs": [
    {
     "data": {
      "text/plain": [
       "['word',\n",
       " 'word.position',\n",
       " 'word[-3:]',\n",
       " 'word.POS_tag',\n",
       " 'word.len()',\n",
       " 'word.istitle()',\n",
       " 'word.isdigit()',\n",
       " 'bias']"
      ]
     },
     "execution_count": 36,
     "metadata": {},
     "output_type": "execute_result"
    }
   ],
   "source": [
    "[x for x in X_train_crf[0][0].keys()]"
   ]
  },
  {
   "cell_type": "markdown",
   "id": "04b62396-8af8-4f95-b6d0-605da6c6c31c",
   "metadata": {},
   "source": [
    "###### Model with 'Default' Parameters"
   ]
  },
  {
   "cell_type": "code",
   "execution_count": 37,
   "id": "0945b2dc-37e2-4b5b-bee1-328cd8c8a8fe",
   "metadata": {},
   "outputs": [],
   "source": [
    "crf1 = sklearn_crfsuite.CRF(\n",
    "    algorithm='lbfgs',\n",
    "    max_iterations=100,\n",
    "    all_possible_transitions=True\n",
    ")\n",
    "crf1.fit(X_train_crf, y_train_crf)\n",
    "\n",
    "y_val_pred = crf1.predict(X_val_crf)"
   ]
  },
  {
   "cell_type": "code",
   "execution_count": 38,
   "id": "ad640428-adc9-4261-93ea-321ba9227d09",
   "metadata": {},
   "outputs": [
    {
     "data": {
      "image/png": "[encoded data removed]",
      "text/plain": [
       "<Figure size 640x480 with 2 Axes>"
      ]
     },
     "metadata": {},
     "output_type": "display_data"
    },
    {
     "name": "stdout",
     "output_type": "stream",
     "text": [
      "              precision    recall  f1-score   support\n",
      "\n",
      "           A     0.6130    0.7224    0.6632       353\n",
      "           O     0.9874    0.9794    0.9834      7813\n",
      "\n",
      "    accuracy                         0.9683      8166\n",
      "   macro avg     0.8002    0.8509    0.8233      8166\n",
      "weighted avg     0.9712    0.9683    0.9695      8166\n",
      "\n"
     ]
    }
   ],
   "source": [
    "labels = sorted(list(crf1.classes_))\n",
    "\n",
    "_ = model_report(y_val_crf, y_val_pred, labels)"
   ]
  },
  {
   "cell_type": "markdown",
   "id": "e17931ec-d7ff-4d15-b0cc-3eb97c46d022",
   "metadata": {},
   "source": [
    "###### Manual Tuning of the Parameters"
   ]
  },
  {
   "cell_type": "code",
   "execution_count": 39,
   "id": "0ee5e53e-c290-418f-b022-a8385d6fe925",
   "metadata": {},
   "outputs": [],
   "source": [
    "crf1_tuned = sklearn_crfsuite.CRF(\n",
    "    algorithm='lbfgs',\n",
    "    c1=0.5,\n",
    "    c2=0.01,\n",
    "    max_iterations=200,\n",
    "    all_possible_transitions=True\n",
    ")\n",
    "crf1_tuned.fit(X_train_crf, y_train_crf)\n",
    "\n",
    "y_val_pred = crf1_tuned.predict(X_val_crf)"
   ]
  },
  {
   "cell_type": "code",
   "execution_count": 40,
   "id": "4db97232-cb25-4a9f-a53a-5e8dbd7cde3e",
   "metadata": {},
   "outputs": [
    {
     "data": {
      "image/png": "[encoded data removed]",
      "text/plain": [
       "<Figure size 640x480 with 2 Axes>"
      ]
     },
     "metadata": {},
     "output_type": "display_data"
    },
    {
     "name": "stdout",
     "output_type": "stream",
     "text": [
      "              precision    recall  f1-score   support\n",
      "\n",
      "           A     0.6704    0.8414    0.7462       353\n",
      "           O     0.9927    0.9813    0.9870      7813\n",
      "\n",
      "    accuracy                         0.9753      8166\n",
      "   macro avg     0.8316    0.9113    0.8666      8166\n",
      "weighted avg     0.9788    0.9753    0.9766      8166\n",
      "\n"
     ]
    }
   ],
   "source": [
    "_ = model_report(y_val_crf, y_val_pred, labels)"
   ]
  },
  {
   "cell_type": "markdown",
   "id": "071ef61b-9dc9-46a7-b4a3-b20f0b4217a4",
   "metadata": {},
   "source": [
    "###### Hyperparameter Optimization"
   ]
  },
  {
   "cell_type": "code",
   "execution_count": 41,
   "id": "dd7e3f27-d44c-49be-af36-cbad0aa3a32d",
   "metadata": {},
   "outputs": [],
   "source": [
    "crf_ = sklearn_crfsuite.CRF(\n",
    "    algorithm='lbfgs',\n",
    "    all_possible_transitions = True,\n",
    ")\n",
    "scorer = make_scorer(metrics.flat_recall_score,\n",
    "                     average='binary', \n",
    "                     pos_label='A',\n",
    "                     zero_division='warn') "
   ]
  },
  {
   "cell_type": "code",
   "execution_count": 42,
   "id": "9f373741-e817-442a-86d0-14ae060081eb",
   "metadata": {},
   "outputs": [],
   "source": [
    "params_space1 = {\n",
    "    'c1': scipy.stats.expon(scale=0.3),\n",
    "    'c2': scipy.stats.expon(scale=0.005),\n",
    "    'max_iterations': [n for n in range(50, 201, 25)]\n",
    "}"
   ]
  },
  {
   "cell_type": "code",
   "execution_count": 43,
   "id": "188180b3-750c-4bda-9977-ac9c1456b4dd",
   "metadata": {
    "scrolled": true
   },
   "outputs": [
    {
     "name": "stdout",
     "output_type": "stream",
     "text": [
      "Fitting 5 folds for each of 200 candidates, totalling 1000 fits\n"
     ]
    },
    {
     "name": "stderr",
     "output_type": "stream",
     "text": [
      "/home/ubuntu/.local/lib/python3.8/site-packages/sklearn/base.py:209: FutureWarning: From version 0.24, get_params will raise an AttributeError if a parameter cannot be retrieved as an instance attribute. Previously it would return None.\n",
      "  warnings.warn('From version 0.24, get_params will raise an '\n",
      "[Parallel(n_jobs=-1)]: Using backend LokyBackend with 16 concurrent workers.\n",
      "[Parallel(n_jobs=-1)]: Done  18 tasks      | elapsed:    5.8s\n",
      "[Parallel(n_jobs=-1)]: Done 168 tasks      | elapsed:   27.0s\n",
      "[Parallel(n_jobs=-1)]: Done 418 tasks      | elapsed:   58.6s\n",
      "[Parallel(n_jobs=-1)]: Done 768 tasks      | elapsed:  1.7min\n",
      "[Parallel(n_jobs=-1)]: Done 1000 out of 1000 | elapsed:  2.2min finished\n"
     ]
    },
    {
     "data": {
      "text/plain": [
       "RandomizedSearchCV(cv=5,\n",
       "                   estimator=CRF(algorithm='lbfgs',\n",
       "                                 all_possible_transitions=True,\n",
       "                                 keep_tempfiles=None),\n",
       "                   n_iter=200, n_jobs=-1,\n",
       "                   param_distributions={'c1': <scipy.stats._distn_infrastructure.rv_continuous_frozen object at 0x7f22c6cb2670>,\n",
       "                                        'c2': <scipy.stats._distn_infrastructure.rv_continuous_frozen object at 0x7f22c6c5e3d0>,\n",
       "                                        'max_iterations': [50, 75, 100, 125,\n",
       "                                                           150, 175, 200]},\n",
       "                   random_state=100, return_train_score=True,\n",
       "                   scoring=make_scorer(flat_recall_score, average=binary, pos_label=A, zero_division=warn),\n",
       "                   verbose=1)"
      ]
     },
     "execution_count": 43,
     "metadata": {},
     "output_type": "execute_result"
    }
   ],
   "source": [
    "rs1 = RandomizedSearchCV(crf_, \n",
    "                        params_space1,\n",
    "                        cv=5,\n",
    "                        verbose=1,\n",
    "                        n_jobs=-1,\n",
    "                        n_iter=200,\n",
    "                        scoring=scorer,\n",
    "                        return_train_score=True,\n",
    "                        random_state=100)\n",
    "rs1.fit(X_train_crf, y_train_crf)"
   ]
  },
  {
   "cell_type": "code",
   "execution_count": 44,
   "id": "8e1f9649-aad0-4b1d-b26d-10d31c7e8568",
   "metadata": {
    "scrolled": true
   },
   "outputs": [
    {
     "name": "stdout",
     "output_type": "stream",
     "text": [
      "best params: {'c1': 0.8403240363558669, 'c2': 0.002129008485530578, 'max_iterations': 75}\n",
      "best CV score: 0.709695139315181\n",
      "model size: 0.04M\n"
     ]
    }
   ],
   "source": [
    "print('best params:', rs1.best_params_)\n",
    "print('best CV score:', rs1.best_score_)\n",
    "print('model size: {:0.2f}M'.format(rs1.best_estimator_.size_ / 1000000))"
   ]
  },
  {
   "cell_type": "code",
   "execution_count": 45,
   "id": "79f43347-23ed-4413-b049-635e9109c292",
   "metadata": {},
   "outputs": [
    {
     "data": {
      "image/png": "[encoded data removed]",
      "text/plain": [
       "<Figure size 640x480 with 2 Axes>"
      ]
     },
     "metadata": {},
     "output_type": "display_data"
    },
    {
     "name": "stdout",
     "output_type": "stream",
     "text": [
      "              precision    recall  f1-score   support\n",
      "\n",
      "           A     0.6867    0.8074    0.7422       353\n",
      "           O     0.9912    0.9834    0.9873      7813\n",
      "\n",
      "    accuracy                         0.9758      8166\n",
      "   macro avg     0.8390    0.8954    0.8647      8166\n",
      "weighted avg     0.9781    0.9758    0.9767      8166\n",
      "\n"
     ]
    }
   ],
   "source": [
    "crf1_optimized = rs1.best_estimator_\n",
    "y_val_pred = crf1_optimized.predict(X_val_crf)\n",
    "crf1_optimized_report = model_report(y_val_crf, y_val_pred, labels)"
   ]
  },
  {
   "cell_type": "code",
   "execution_count": 46,
   "id": "7c80cbda-3984-4b4f-943b-ffeb36f30f44",
   "metadata": {
    "scrolled": true
   },
   "outputs": [
    {
     "name": "stdout",
     "output_type": "stream",
     "text": [
      "Top positive:\n",
      "\n",
      "Top negative:\n"
     ]
    }
   ],
   "source": [
    "print(\"Top positive:\")\n",
    "#print_state_features(Counter(crf1_optimized.state_features_).most_common(30))\n",
    "\n",
    "print(\"\\nTop negative:\")\n",
    "#print_state_features(Counter(crf1_optimized.state_features_).most_common()[-30:])"
   ]
  },
  {
   "cell_type": "code",
   "execution_count": 47,
   "id": "e2498dcc-3681-49df-be88-977835df4ef4",
   "metadata": {
    "scrolled": true
   },
   "outputs": [],
   "source": [
    "save_model_evaluation(\"CRF Basic Features\", crf1_optimized_report, crf_models_report)"
   ]
  },
  {
   "cell_type": "markdown",
   "id": "c9c290ae-f853-49a3-b79c-d4354a735c22",
   "metadata": {
    "jp-MarkdownHeadingCollapsed": true
   },
   "source": [
    "##### CRF Model No.2 Contextual Feature Set"
   ]
  },
  {
   "cell_type": "code",
   "execution_count": 48,
   "id": "bcddf30f-2839-4339-b230-2bce9e89e2a5",
   "metadata": {},
   "outputs": [],
   "source": [
    "X_train_crf2_df = add_contextual_features(X_train_crf_df, REGEX_FEATURE, 1)\n",
    "X_val_crf2_df = add_contextual_features(X_val_crf_df, REGEX_FEATURE, 1)\n",
    "X_test_crf2_df = add_contextual_features(X_test_crf_df, REGEX_FEATURE, 1)\n",
    "\n",
    "X_train_crf2_df = add_contextual_features(X_train_crf2_df, REGEX_FEATURE, 2)\n",
    "X_val_crf2_df = add_contextual_features(X_val_crf2_df, REGEX_FEATURE, 2)\n",
    "X_test_crf2_df = add_contextual_features(X_test_crf2_df, REGEX_FEATURE, 2)"
   ]
  },
  {
   "cell_type": "code",
   "execution_count": 49,
   "id": "32a49136-6909-401d-9443-1316be2939a6",
   "metadata": {},
   "outputs": [
    {
     "data": {
      "text/html": [
       "<div>\n",
       "<style scoped>\n",
       "    .dataframe tbody tr th:only-of-type {\n",
       "        vertical-align: middle;\n",
       "    }\n",
       "\n",
       "    .dataframe tbody tr th {\n",
       "        vertical-align: top;\n",
       "    }\n",
       "\n",
       "    .dataframe thead th {\n",
       "        text-align: right;\n",
       "    }\n",
       "</style>\n",
       "<table border=\"1\" class=\"dataframe\">\n",
       "  <thead>\n",
       "    <tr style=\"text-align: right;\">\n",
       "      <th></th>\n",
       "      <th>word</th>\n",
       "      <th>word.position</th>\n",
       "      <th>word[-3:]</th>\n",
       "      <th>word.POS_tag</th>\n",
       "      <th>word.len()</th>\n",
       "      <th>word.istitle()</th>\n",
       "      <th>word.isdigit()</th>\n",
       "      <th>bias</th>\n",
       "      <th>-1:word</th>\n",
       "      <th>-1:word[-3:]</th>\n",
       "      <th>...</th>\n",
       "      <th>-2:word.len()</th>\n",
       "      <th>-2:word.istitle()</th>\n",
       "      <th>-2:word.isdigit()</th>\n",
       "      <th>-2:word.POS_tag</th>\n",
       "      <th>+2:word</th>\n",
       "      <th>+2:word[-3:]</th>\n",
       "      <th>+2:word.len()</th>\n",
       "      <th>+2:word.istitle()</th>\n",
       "      <th>+2:word.isdigit()</th>\n",
       "      <th>+2:word.POS_tag</th>\n",
       "    </tr>\n",
       "  </thead>\n",
       "  <tbody>\n",
       "    <tr>\n",
       "      <th>0</th>\n",
       "      <td>[Lékař, :]</td>\n",
       "      <td>[0.6, 0.6]</td>\n",
       "      <td>[kař, :]</td>\n",
       "      <td>[NN, Z:]</td>\n",
       "      <td>[5, 1]</td>\n",
       "      <td>[True, False]</td>\n",
       "      <td>[False, False]</td>\n",
       "      <td>1.0</td>\n",
       "      <td>[BOS, Lékař]</td>\n",
       "      <td>[BOS, kař]</td>\n",
       "      <td>...</td>\n",
       "      <td>[0, 0]</td>\n",
       "      <td>[False, False]</td>\n",
       "      <td>[False, False]</td>\n",
       "      <td>[Z:, Z:]</td>\n",
       "      <td>[EOS, EOS]</td>\n",
       "      <td>[EOS, EOS]</td>\n",
       "      <td>[0, 0]</td>\n",
       "      <td>[False, False]</td>\n",
       "      <td>[False, False]</td>\n",
       "      <td>[Z:, Z:]</td>\n",
       "    </tr>\n",
       "    <tr>\n",
       "      <th>1</th>\n",
       "      <td>[P_Laktátdehydrogenáza, :]</td>\n",
       "      <td>[0.12, 0.13]</td>\n",
       "      <td>[áza, :]</td>\n",
       "      <td>[Q3, Z:]</td>\n",
       "      <td>[21, 1]</td>\n",
       "      <td>[True, False]</td>\n",
       "      <td>[False, False]</td>\n",
       "      <td>1.0</td>\n",
       "      <td>[BOS, P_Laktátdehydrogenáza]</td>\n",
       "      <td>[BOS, áza]</td>\n",
       "      <td>...</td>\n",
       "      <td>[0, 0]</td>\n",
       "      <td>[False, False]</td>\n",
       "      <td>[False, False]</td>\n",
       "      <td>[Z:, Z:]</td>\n",
       "      <td>[EOS, EOS]</td>\n",
       "      <td>[EOS, EOS]</td>\n",
       "      <td>[0, 0]</td>\n",
       "      <td>[False, False]</td>\n",
       "      <td>[False, False]</td>\n",
       "      <td>[Z:, Z:]</td>\n",
       "    </tr>\n",
       "  </tbody>\n",
       "</table>\n",
       "<p>2 rows × 32 columns</p>\n",
       "</div>"
      ],
      "text/plain": [
       "                         word word.position word[-3:] word.POS_tag word.len()  \\\n",
       "0                  [Lékař, :]    [0.6, 0.6]  [kař, :]     [NN, Z:]     [5, 1]   \n",
       "1  [P_Laktátdehydrogenáza, :]  [0.12, 0.13]  [áza, :]     [Q3, Z:]    [21, 1]   \n",
       "\n",
       "  word.istitle()  word.isdigit()  bias                       -1:word  \\\n",
       "0  [True, False]  [False, False]   1.0                  [BOS, Lékař]   \n",
       "1  [True, False]  [False, False]   1.0  [BOS, P_Laktátdehydrogenáza]   \n",
       "\n",
       "  -1:word[-3:]  ... -2:word.len() -2:word.istitle() -2:word.isdigit()  \\\n",
       "0   [BOS, kař]  ...        [0, 0]    [False, False]    [False, False]   \n",
       "1   [BOS, áza]  ...        [0, 0]    [False, False]    [False, False]   \n",
       "\n",
       "  -2:word.POS_tag     +2:word +2:word[-3:] +2:word.len() +2:word.istitle()  \\\n",
       "0        [Z:, Z:]  [EOS, EOS]   [EOS, EOS]        [0, 0]    [False, False]   \n",
       "1        [Z:, Z:]  [EOS, EOS]   [EOS, EOS]        [0, 0]    [False, False]   \n",
       "\n",
       "  +2:word.isdigit() +2:word.POS_tag  \n",
       "0    [False, False]        [Z:, Z:]  \n",
       "1    [False, False]        [Z:, Z:]  \n",
       "\n",
       "[2 rows x 32 columns]"
      ]
     },
     "execution_count": 49,
     "metadata": {},
     "output_type": "execute_result"
    }
   ],
   "source": [
    "X_train_crf2_df.head(2)"
   ]
  },
  {
   "cell_type": "code",
   "execution_count": 50,
   "id": "df7376e0-3192-4be2-89f0-6a83f9166f25",
   "metadata": {},
   "outputs": [],
   "source": [
    "X_train_crf2 = crf_feature_format(X_train_crf2_df)\n",
    "X_val_crf2 = crf_feature_format(X_val_crf2_df)\n",
    "X_test_crf2 = crf_feature_format(X_test_crf2_df)"
   ]
  },
  {
   "cell_type": "markdown",
   "id": "bc0ba776-9b24-4023-8039-125668ab6ab1",
   "metadata": {},
   "source": [
    "**Feature Set:**"
   ]
  },
  {
   "cell_type": "code",
   "execution_count": 51,
   "id": "4a8e72f3-8458-451d-aa9b-87b04e3b749b",
   "metadata": {},
   "outputs": [
    {
     "data": {
      "text/plain": [
       "['word',\n",
       " 'word.position',\n",
       " 'word[-3:]',\n",
       " 'word.POS_tag',\n",
       " 'word.len()',\n",
       " 'word.istitle()',\n",
       " 'word.isdigit()',\n",
       " 'bias',\n",
       " '-1:word',\n",
       " '-1:word[-3:]',\n",
       " '-1:word.len()',\n",
       " '-1:word.istitle()',\n",
       " '-1:word.isdigit()',\n",
       " '-1:word.POS_tag',\n",
       " '+1:word',\n",
       " '+1:word[-3:]',\n",
       " '+1:word.len()',\n",
       " '+1:word.istitle()',\n",
       " '+1:word.isdigit()',\n",
       " '+1:word.POS_tag',\n",
       " '-2:word',\n",
       " '-2:word[-3:]',\n",
       " '-2:word.len()',\n",
       " '-2:word.istitle()',\n",
       " '-2:word.isdigit()',\n",
       " '-2:word.POS_tag',\n",
       " '+2:word',\n",
       " '+2:word[-3:]',\n",
       " '+2:word.len()',\n",
       " '+2:word.istitle()',\n",
       " '+2:word.isdigit()',\n",
       " '+2:word.POS_tag']"
      ]
     },
     "execution_count": 51,
     "metadata": {},
     "output_type": "execute_result"
    }
   ],
   "source": [
    "[x for x in X_train_crf2[0][0].keys()]"
   ]
  },
  {
   "cell_type": "markdown",
   "id": "64a70e45-0b18-4abf-a7d5-97cb769bd87e",
   "metadata": {},
   "source": [
    "###### Model with Default Parameters"
   ]
  },
  {
   "cell_type": "code",
   "execution_count": 52,
   "id": "ad52d871-0493-4abf-96b4-45d2f68391ff",
   "metadata": {},
   "outputs": [
    {
     "data": {
      "image/png": "[encoded data removed]",
      "text/plain": [
       "<Figure size 640x480 with 2 Axes>"
      ]
     },
     "metadata": {},
     "output_type": "display_data"
    },
    {
     "name": "stdout",
     "output_type": "stream",
     "text": [
      "              precision    recall  f1-score   support\n",
      "\n",
      "           A     0.5944    0.6062    0.6003       353\n",
      "           O     0.9822    0.9813    0.9818      7813\n",
      "\n",
      "    accuracy                         0.9651      8166\n",
      "   macro avg     0.7883    0.7938    0.7910      8166\n",
      "weighted avg     0.9654    0.9651    0.9653      8166\n",
      "\n"
     ]
    }
   ],
   "source": [
    "crf2 = sklearn_crfsuite.CRF(\n",
    "    algorithm='lbfgs',\n",
    "    max_iterations=100,\n",
    "    all_possible_transitions=True\n",
    ")\n",
    "crf2.fit(X_train_crf2, y_train_crf)\n",
    "\n",
    "y_val_pred = crf2.predict(X_val_crf2)\n",
    "\n",
    "_ = model_report(y_val_crf, y_val_pred, labels)"
   ]
  },
  {
   "cell_type": "markdown",
   "id": "6d27b770-cbdb-4c01-8621-88ba6b5bc377",
   "metadata": {},
   "source": [
    "###### Manual Tuning of the Parameters"
   ]
  },
  {
   "cell_type": "code",
   "execution_count": 53,
   "id": "fb7b2627-e45f-4e01-bbdc-7a6b137d78e9",
   "metadata": {},
   "outputs": [
    {
     "data": {
      "image/png": "[encoded data removed]",
      "text/plain": [
       "<Figure size 640x480 with 2 Axes>"
      ]
     },
     "metadata": {},
     "output_type": "display_data"
    },
    {
     "name": "stdout",
     "output_type": "stream",
     "text": [
      "              precision    recall  f1-score   support\n",
      "\n",
      "           A     0.7802    0.8244    0.8017       353\n",
      "           O     0.9920    0.9895    0.9908      7813\n",
      "\n",
      "    accuracy                         0.9824      8166\n",
      "   macro avg     0.8861    0.9069    0.8962      8166\n",
      "weighted avg     0.9829    0.9824    0.9826      8166\n",
      "\n"
     ]
    }
   ],
   "source": [
    "crf2_tuned = sklearn_crfsuite.CRF(\n",
    "    algorithm='lbfgs',\n",
    "    c1=1.0,\n",
    "    c2=0.01,\n",
    "    max_iterations=200,\n",
    "    all_possible_transitions=True\n",
    ")\n",
    "crf2_tuned.fit(X_train_crf2, y_train_crf)\n",
    "\n",
    "y_val_pred = crf2_tuned.predict(X_val_crf2)\n",
    "\n",
    "_ = model_report(y_val_crf, y_val_pred, labels)"
   ]
  },
  {
   "cell_type": "markdown",
   "id": "3fe3971b-ac63-47e0-bfe4-45bdcbfd1ad6",
   "metadata": {},
   "source": [
    "###### Hyperparameter Optimization"
   ]
  },
  {
   "cell_type": "code",
   "execution_count": 54,
   "id": "58930c13-705a-4829-bf8a-f4a198444d03",
   "metadata": {},
   "outputs": [],
   "source": [
    "params_space2 = {\n",
    "    'c1': scipy.stats.expon(scale=1.1), \n",
    "    'c2': scipy.stats.expon(scale=0.02),\n",
    "    'max_iterations': [n for n in range(50, 201, 25)]\n",
    "}"
   ]
  },
  {
   "cell_type": "code",
   "execution_count": 55,
   "id": "8b5f75ce-9afc-4e1c-af7b-085aff2ce22c",
   "metadata": {},
   "outputs": [
    {
     "name": "stderr",
     "output_type": "stream",
     "text": [
      "/home/ubuntu/.local/lib/python3.8/site-packages/sklearn/base.py:209: FutureWarning: From version 0.24, get_params will raise an AttributeError if a parameter cannot be retrieved as an instance attribute. Previously it would return None.\n",
      "  warnings.warn('From version 0.24, get_params will raise an '\n",
      "[Parallel(n_jobs=-1)]: Using backend LokyBackend with 16 concurrent workers.\n"
     ]
    },
    {
     "name": "stdout",
     "output_type": "stream",
     "text": [
      "Fitting 5 folds for each of 200 candidates, totalling 1000 fits\n"
     ]
    },
    {
     "name": "stderr",
     "output_type": "stream",
     "text": [
      "[Parallel(n_jobs=-1)]: Done  18 tasks      | elapsed:   12.0s\n",
      "[Parallel(n_jobs=-1)]: Done 168 tasks      | elapsed:  1.3min\n",
      "[Parallel(n_jobs=-1)]: Done 418 tasks      | elapsed:  3.0min\n",
      "[Parallel(n_jobs=-1)]: Done 768 tasks      | elapsed:  5.4min\n",
      "[Parallel(n_jobs=-1)]: Done 1000 out of 1000 | elapsed:  7.1min finished\n"
     ]
    },
    {
     "data": {
      "text/plain": [
       "RandomizedSearchCV(cv=5,\n",
       "                   estimator=CRF(algorithm='lbfgs',\n",
       "                                 all_possible_transitions=True,\n",
       "                                 keep_tempfiles=None),\n",
       "                   n_iter=200, n_jobs=-1,\n",
       "                   param_distributions={'c1': <scipy.stats._distn_infrastructure.rv_continuous_frozen object at 0x7f2325fbc190>,\n",
       "                                        'c2': <scipy.stats._distn_infrastructure.rv_continuous_frozen object at 0x7f2325ef3610>,\n",
       "                                        'max_iterations': [50, 75, 100, 125,\n",
       "                                                           150, 175, 200]},\n",
       "                   random_state=100, return_train_score=True,\n",
       "                   scoring=make_scorer(flat_recall_score, average=binary, pos_label=A, zero_division=warn),\n",
       "                   verbose=1)"
      ]
     },
     "execution_count": 55,
     "metadata": {},
     "output_type": "execute_result"
    }
   ],
   "source": [
    "rs2 = RandomizedSearchCV(crf_, \n",
    "                        params_space2,\n",
    "                        cv=5,\n",
    "                        verbose=1,\n",
    "                        n_jobs=-1,\n",
    "                        n_iter=200,\n",
    "                        scoring=scorer,\n",
    "                        return_train_score=True,\n",
    "                        random_state=100)\n",
    "rs2.fit(X_train_crf2, y_train_crf)"
   ]
  },
  {
   "cell_type": "code",
   "execution_count": 56,
   "id": "9df2ad0b-4e27-49f6-b8a1-8f903da01b07",
   "metadata": {},
   "outputs": [
    {
     "name": "stdout",
     "output_type": "stream",
     "text": [
      "best params: {'c1': 0.6584541767972372, 'c2': 0.005661727498552445, 'max_iterations': 175}\n",
      "best CV score: 0.6822664256268215\n",
      "model size: 0.09M\n"
     ]
    }
   ],
   "source": [
    "print('best params:', rs2.best_params_)\n",
    "print('best CV score:', rs2.best_score_)\n",
    "print('model size: {:0.2f}M'.format(rs2.best_estimator_.size_ / 1000000))"
   ]
  },
  {
   "cell_type": "code",
   "execution_count": 57,
   "id": "8501bc87-fca8-425c-bfb3-76e5b8b78238",
   "metadata": {},
   "outputs": [
    {
     "data": {
      "image/png": "[encoded data removed]",
      "text/plain": [
       "<Figure size 640x480 with 2 Axes>"
      ]
     },
     "metadata": {},
     "output_type": "display_data"
    },
    {
     "name": "stdout",
     "output_type": "stream",
     "text": [
      "              precision    recall  f1-score   support\n",
      "\n",
      "           A     0.7876    0.8300    0.8083       353\n",
      "           O     0.9923    0.9899    0.9911      7813\n",
      "\n",
      "    accuracy                         0.9830      8166\n",
      "   macro avg     0.8900    0.9100    0.8997      8166\n",
      "weighted avg     0.9835    0.9830    0.9832      8166\n",
      "\n"
     ]
    }
   ],
   "source": [
    "crf2_optimized = rs2.best_estimator_\n",
    "y_val_pred = crf2_optimized.predict(X_val_crf2)\n",
    "crf2_optimized_report = model_report(y_val_crf, y_val_pred, labels)"
   ]
  },
  {
   "cell_type": "code",
   "execution_count": 58,
   "id": "35776e36-d246-4302-8dd3-a20a9d5dd2fb",
   "metadata": {
    "collapsed": true,
    "jupyter": {
     "outputs_hidden": true
    },
    "scrolled": true
   },
   "outputs": [
    {
     "name": "stdout",
     "output_type": "stream",
     "text": [
      "Top positive:\n",
      "6.700811 O        word.POS_tag:RR\n",
      "6.436698 A        word[-3:]:jov\n",
      "4.747076 A        word:MUDr.\n",
      "4.747076 A        word[-3:]:Dr.\n",
      "4.215729 A        word:doc.\n",
      "4.215729 A        word[-3:]:oc.\n",
      "4.198610 A        word[-3:]:.2.\n",
      "4.183882 O        word:10/2020\n",
      "3.871836 A        word[-3:]:/11\n",
      "3.696129 A        word[-3:]:10.\n",
      "3.589457 A        word:hodině\n",
      "3.534504 A        word:Hodonín\n",
      "3.534504 A        word[-3:]:nín\n",
      "3.454550 A        word:dr.\n",
      "3.454550 A        word[-3:]:dr.\n",
      "3.243677 A        word[-3:]:.19\n",
      "3.073774 A        word[-3:]:018\n",
      "2.958595 O        word:1/2020\n",
      "2.947690 A        word[-3:]:.6.\n",
      "2.903756 A        word[-3:]::00\n",
      "2.867522 A        word[-3:]:.21\n",
      "2.834603 A        word[-3:]:.7.\n",
      "2.718280 A        word[-3:]:.20\n",
      "2.676453 A        word[-3:]:020\n",
      "2.614481 A        -1:word:>\n",
      "2.614481 A        -1:word[-3:]:>\n",
      "2.600943 A        word:šička\n",
      "2.552903 A        -1:word:Ph.D\n",
      "2.552903 A        -1:word[-3:]:h.D\n",
      "2.500802 A        word[-3:]:.18\n",
      "\n",
      "Top negative:\n",
      "-1.319278 O        word[-3:]:OCH\n",
      "-1.331808 A        +1:word.POS_tag:C=\n",
      "-1.495306 O        -1:word[-3:]:nce\n",
      "-1.507343 O        +1:word:podle\n",
      "-1.514541 O        +1:word[-3:]:sky\n",
      "-1.536189 O        word:hod\n",
      "-1.655126 O        +2:word:ns\n",
      "-1.655126 O        +2:word[-3:]:ns\n",
      "-1.763399 O        word[-3:]:od.\n",
      "-1.768028 O        -2:word:PA\n",
      "-1.768028 O        -2:word[-3:]:PA\n",
      "-1.778395 O        word[-3:]:.17\n",
      "-1.803611 O        word[-3:]:017\n",
      "-1.856812 O        +1:word[-3:]:ová\n",
      "-1.918524 A        +2:word[-3:]:ová\n",
      "-1.919680 A        -1:word.POS_tag:PS\n",
      "-1.929483 O        word[-3:]:ová\n",
      "-1.968831 O        word.POS_tag:C=\n",
      "-2.053579 O        -1:word[-3:]:tel\n",
      "-2.105058 O        word[-3:]:019\n",
      "-2.219098 O        +2:word[-3:]:nta\n",
      "-2.238610 O        word:MOÚ\n",
      "-2.238610 O        word[-3:]:MOÚ\n",
      "-2.464390 O        word[-3:]:021\n",
      "-2.500802 O        word[-3:]:.18\n",
      "-2.676453 O        word[-3:]:020\n",
      "-2.718280 O        word[-3:]:.20\n",
      "-2.867522 O        word[-3:]:.21\n",
      "-3.073774 O        word[-3:]:018\n",
      "-3.243677 O        word[-3:]:.19\n"
     ]
    }
   ],
   "source": [
    "print(\"Top positive:\")\n",
    "print_state_features(Counter(crf2_optimized.state_features_).most_common(30))\n",
    "\n",
    "print(\"\\nTop negative:\")\n",
    "print_state_features(Counter(crf2_optimized.state_features_).most_common()[-30:])"
   ]
  },
  {
   "cell_type": "code",
   "execution_count": 59,
   "id": "b7b22ab0-5d88-43a5-8666-93e8a21b3fe9",
   "metadata": {},
   "outputs": [],
   "source": [
    "save_model_evaluation(\"CRF Contextual Features\", crf2_optimized_report, crf_models_report)"
   ]
  },
  {
   "cell_type": "markdown",
   "id": "dff13687-307c-4a04-a586-742fdae5664f",
   "metadata": {},
   "source": [
    "###### Evaluation on Test Data"
   ]
  },
  {
   "cell_type": "code",
   "execution_count": 60,
   "id": "6a6dc60a-0ed4-4e60-8cca-6396a9de47e8",
   "metadata": {},
   "outputs": [
    {
     "data": {
      "image/png": "[encoded data removed]",
      "text/plain": [
       "<Figure size 640x480 with 2 Axes>"
      ]
     },
     "metadata": {},
     "output_type": "display_data"
    },
    {
     "name": "stdout",
     "output_type": "stream",
     "text": [
      "              precision    recall  f1-score   support\n",
      "\n",
      "           A     0.5524    0.8018    0.6541       217\n",
      "           O     0.9943    0.9815    0.9878      7607\n",
      "\n",
      "    accuracy                         0.9765      7824\n",
      "   macro avg     0.7733    0.8917    0.8210      7824\n",
      "weighted avg     0.9820    0.9765    0.9786      7824\n",
      "\n"
     ]
    }
   ],
   "source": [
    "y_test_pred = crf2_optimized.predict(X_test_crf2)\n",
    "crf2_optimized_report_test = model_report(y_test_crf, y_test_pred, labels)"
   ]
  },
  {
   "cell_type": "code",
   "execution_count": 61,
   "id": "f8b5cdb2-b1e6-4945-8416-0ef50d4ca9f2",
   "metadata": {},
   "outputs": [],
   "source": [
    "save_model_evaluation(\"CRF Contextual Features\", crf2_optimized_report_test, crf_test_models_report)"
   ]
  },
  {
   "cell_type": "markdown",
   "id": "80fecdff-bfa0-40e0-8f93-fe3a1f8a453d",
   "metadata": {},
   "source": [
    "#### CRF Models with REGEX"
   ]
  },
  {
   "cell_type": "markdown",
   "id": "50d0acfc-057e-4416-b3bc-883eafb28b84",
   "metadata": {
    "jp-MarkdownHeadingCollapsed": true
   },
   "source": [
    "##### CRF Model No.3 Basic + REGEX Feature Set"
   ]
  },
  {
   "cell_type": "code",
   "execution_count": 62,
   "id": "034faf59-d63a-4d62-87a2-f8fab322d851",
   "metadata": {},
   "outputs": [],
   "source": [
    "REGEX_FEATURE = True"
   ]
  },
  {
   "cell_type": "code",
   "execution_count": 63,
   "id": "d23f995a-8942-45a8-9073-e71b3a0540d1",
   "metadata": {},
   "outputs": [],
   "source": [
    "X_train_crf3_df = add_basic_features(X_train, REGEX_FEATURE).drop([\"id\", \"sentence\", \"start\", \"end\"], axis=1)\n",
    "X_val_crf3_df = add_basic_features(X_val, REGEX_FEATURE).drop([\"id\", \"sentence\", \"start\", \"end\"], axis=1)\n",
    "X_test_crf3_df = add_basic_features(X_test, REGEX_FEATURE).drop([\"id\", \"sentence\", \"start\", \"end\"], axis=1)"
   ]
  },
  {
   "cell_type": "code",
   "execution_count": 64,
   "id": "99706da9-51c3-4fc0-b441-4ae32db0c654",
   "metadata": {
    "scrolled": true
   },
   "outputs": [],
   "source": [
    "X_train_crf3 = crf_feature_format(X_train_crf3_df)\n",
    "X_val_crf3 = crf_feature_format(X_val_crf3_df)\n",
    "X_test_crf3 = crf_feature_format(X_test_crf3_df)"
   ]
  },
  {
   "cell_type": "code",
   "execution_count": 65,
   "id": "cfe1ae2b-1f88-41db-a673-16bb4449e5a9",
   "metadata": {},
   "outputs": [
    {
     "data": {
      "text/html": [
       "<div>\n",
       "<style scoped>\n",
       "    .dataframe tbody tr th:only-of-type {\n",
       "        vertical-align: middle;\n",
       "    }\n",
       "\n",
       "    .dataframe tbody tr th {\n",
       "        vertical-align: top;\n",
       "    }\n",
       "\n",
       "    .dataframe thead th {\n",
       "        text-align: right;\n",
       "    }\n",
       "</style>\n",
       "<table border=\"1\" class=\"dataframe\">\n",
       "  <thead>\n",
       "    <tr style=\"text-align: right;\">\n",
       "      <th></th>\n",
       "      <th>word</th>\n",
       "      <th>regex_rule</th>\n",
       "      <th>word.position</th>\n",
       "      <th>word[-3:]</th>\n",
       "      <th>word.POS_tag</th>\n",
       "      <th>word.len()</th>\n",
       "      <th>word.istitle()</th>\n",
       "      <th>word.isdigit()</th>\n",
       "      <th>bias</th>\n",
       "    </tr>\n",
       "  </thead>\n",
       "  <tbody>\n",
       "    <tr>\n",
       "      <th>0</th>\n",
       "      <td>[Lékař, :]</td>\n",
       "      <td>[O, O]</td>\n",
       "      <td>[0.6, 0.6]</td>\n",
       "      <td>[kař, :]</td>\n",
       "      <td>[NN, Z:]</td>\n",
       "      <td>[5, 1]</td>\n",
       "      <td>[True, False]</td>\n",
       "      <td>[False, False]</td>\n",
       "      <td>1.0</td>\n",
       "    </tr>\n",
       "    <tr>\n",
       "      <th>1</th>\n",
       "      <td>[P_Laktátdehydrogenáza, :]</td>\n",
       "      <td>[O, O]</td>\n",
       "      <td>[0.12, 0.13]</td>\n",
       "      <td>[áza, :]</td>\n",
       "      <td>[Q3, Z:]</td>\n",
       "      <td>[21, 1]</td>\n",
       "      <td>[True, False]</td>\n",
       "      <td>[False, False]</td>\n",
       "      <td>1.0</td>\n",
       "    </tr>\n",
       "  </tbody>\n",
       "</table>\n",
       "</div>"
      ],
      "text/plain": [
       "                         word regex_rule word.position word[-3:] word.POS_tag  \\\n",
       "0                  [Lékař, :]     [O, O]    [0.6, 0.6]  [kař, :]     [NN, Z:]   \n",
       "1  [P_Laktátdehydrogenáza, :]     [O, O]  [0.12, 0.13]  [áza, :]     [Q3, Z:]   \n",
       "\n",
       "  word.len() word.istitle()  word.isdigit()  bias  \n",
       "0     [5, 1]  [True, False]  [False, False]   1.0  \n",
       "1    [21, 1]  [True, False]  [False, False]   1.0  "
      ]
     },
     "execution_count": 65,
     "metadata": {},
     "output_type": "execute_result"
    }
   ],
   "source": [
    "X_train_crf3_df.head(2)"
   ]
  },
  {
   "cell_type": "markdown",
   "id": "959908c1-ce44-4eca-9359-d65e0382fbc3",
   "metadata": {},
   "source": [
    "**Feature Set:**"
   ]
  },
  {
   "cell_type": "code",
   "execution_count": 140,
   "id": "7b453f7c-b21f-4dc5-9cf8-1ba63c1f2a46",
   "metadata": {
    "scrolled": true
   },
   "outputs": [
    {
     "data": {
      "text/plain": [
       "['word',\n",
       " 'regex_rule',\n",
       " 'word.position',\n",
       " 'word[-3:]',\n",
       " 'word.POS_tag',\n",
       " 'word.len()',\n",
       " 'word.istitle()',\n",
       " 'word.isdigit()',\n",
       " 'bias']"
      ]
     },
     "execution_count": 140,
     "metadata": {},
     "output_type": "execute_result"
    }
   ],
   "source": [
    "[x for x in X_train_crf3[0][0].keys()]"
   ]
  },
  {
   "cell_type": "markdown",
   "id": "2d02bc2a-f534-413d-9ed1-7074a65955a3",
   "metadata": {},
   "source": [
    "###### Model with Default Parameters"
   ]
  },
  {
   "cell_type": "code",
   "execution_count": 67,
   "id": "1ede0a95-144b-4a5b-8eb2-0f2634f882c7",
   "metadata": {},
   "outputs": [
    {
     "data": {
      "image/png": "[encoded data removed]",
      "text/plain": [
       "<Figure size 640x480 with 2 Axes>"
      ]
     },
     "metadata": {},
     "output_type": "display_data"
    },
    {
     "name": "stdout",
     "output_type": "stream",
     "text": [
      "              precision    recall  f1-score   support\n",
      "\n",
      "           A     0.6430    0.6941    0.6676       353\n",
      "           O     0.9861    0.9826    0.9844      7813\n",
      "\n",
      "    accuracy                         0.9701      8166\n",
      "   macro avg     0.8146    0.8383    0.8260      8166\n",
      "weighted avg     0.9713    0.9701    0.9707      8166\n",
      "\n"
     ]
    }
   ],
   "source": [
    "crf3 = sklearn_crfsuite.CRF(\n",
    "    algorithm='lbfgs',\n",
    "    max_iterations=100,\n",
    "    all_possible_transitions=True\n",
    ")\n",
    "crf3.fit(X_train_crf3, y_train_crf)\n",
    "\n",
    "y_val_pred = crf3.predict(X_val_crf3)\n",
    "_ = model_report(y_val_crf, y_val_pred, labels)"
   ]
  },
  {
   "cell_type": "markdown",
   "id": "ab0ca38a-499f-4146-b463-4e2ab239912f",
   "metadata": {},
   "source": [
    "###### Manual Tuning of the Parameters"
   ]
  },
  {
   "cell_type": "code",
   "execution_count": 68,
   "id": "5cc5184e-dbef-43b7-a95d-cfc669e61756",
   "metadata": {},
   "outputs": [
    {
     "data": {
      "image/png": "[encoded data removed]",
      "text/plain": [
       "<Figure size 640x480 with 2 Axes>"
      ]
     },
     "metadata": {},
     "output_type": "display_data"
    },
    {
     "name": "stdout",
     "output_type": "stream",
     "text": [
      "              precision    recall  f1-score   support\n",
      "\n",
      "           A     0.6809    0.8159    0.7423       353\n",
      "           O     0.9916    0.9827    0.9871      7813\n",
      "\n",
      "    accuracy                         0.9755      8166\n",
      "   macro avg     0.8362    0.8993    0.8647      8166\n",
      "weighted avg     0.9782    0.9755    0.9766      8166\n",
      "\n"
     ]
    }
   ],
   "source": [
    "crf3_tuned = sklearn_crfsuite.CRF(\n",
    "    algorithm='lbfgs',\n",
    "    c1=1.5,\n",
    "    c2=0.03,\n",
    "    max_iterations=200,\n",
    "    all_possible_transitions=True\n",
    ")\n",
    "crf3_tuned.fit(X_train_crf3, y_train_crf)\n",
    "\n",
    "y_val_pred = crf3_tuned.predict(X_val_crf3)\n",
    "_ = model_report(y_val_crf, y_val_pred, labels)"
   ]
  },
  {
   "cell_type": "markdown",
   "id": "c6a58592-dc70-4c59-beb0-9f13117cb60b",
   "metadata": {},
   "source": [
    "###### Hyperparameter Optimization"
   ]
  },
  {
   "cell_type": "code",
   "execution_count": 69,
   "id": "7006a51b-cf99-4b6e-99f2-9370a3ed88bf",
   "metadata": {},
   "outputs": [],
   "source": [
    "params_space3 = {\n",
    "    'c1': scipy.stats.expon(scale=1.8),\n",
    "    'c2': scipy.stats.expon(scale=0.1),\n",
    "    'max_iterations': [n for n in range(50, 201, 25)]\n",
    "}"
   ]
  },
  {
   "cell_type": "code",
   "execution_count": 70,
   "id": "f06d6791-0da4-4f41-9088-09baa3952efc",
   "metadata": {},
   "outputs": [
    {
     "name": "stdout",
     "output_type": "stream",
     "text": [
      "Fitting 5 folds for each of 200 candidates, totalling 1000 fits\n"
     ]
    },
    {
     "name": "stderr",
     "output_type": "stream",
     "text": [
      "/home/ubuntu/.local/lib/python3.8/site-packages/sklearn/base.py:209: FutureWarning: From version 0.24, get_params will raise an AttributeError if a parameter cannot be retrieved as an instance attribute. Previously it would return None.\n",
      "  warnings.warn('From version 0.24, get_params will raise an '\n",
      "[Parallel(n_jobs=-1)]: Using backend LokyBackend with 16 concurrent workers.\n",
      "[Parallel(n_jobs=-1)]: Done  18 tasks      | elapsed:    8.1s\n",
      "[Parallel(n_jobs=-1)]: Done 168 tasks      | elapsed:   28.6s\n",
      "[Parallel(n_jobs=-1)]: Done 418 tasks      | elapsed:  1.0min\n",
      "[Parallel(n_jobs=-1)]: Done 768 tasks      | elapsed:  1.9min\n",
      "[Parallel(n_jobs=-1)]: Done 1000 out of 1000 | elapsed:  2.5min finished\n"
     ]
    },
    {
     "data": {
      "text/plain": [
       "RandomizedSearchCV(cv=5,\n",
       "                   estimator=CRF(algorithm='lbfgs',\n",
       "                                 all_possible_transitions=True,\n",
       "                                 keep_tempfiles=None),\n",
       "                   n_iter=200, n_jobs=-1,\n",
       "                   param_distributions={'c1': <scipy.stats._distn_infrastructure.rv_continuous_frozen object at 0x7f23216ba8e0>,\n",
       "                                        'c2': <scipy.stats._distn_infrastructure.rv_continuous_frozen object at 0x7f232165a4c0>,\n",
       "                                        'max_iterations': [50, 75, 100, 125,\n",
       "                                                           150, 175, 200]},\n",
       "                   random_state=42, return_train_score=True,\n",
       "                   scoring=make_scorer(flat_recall_score, average=binary, pos_label=A, zero_division=warn),\n",
       "                   verbose=1)"
      ]
     },
     "execution_count": 70,
     "metadata": {},
     "output_type": "execute_result"
    }
   ],
   "source": [
    "rs3 = RandomizedSearchCV(crf_, \n",
    "                        params_space3,\n",
    "                        cv=5,\n",
    "                        verbose=1,\n",
    "                        n_jobs=-1,\n",
    "                        n_iter=200,\n",
    "                        scoring=scorer,\n",
    "                        return_train_score=True,\n",
    "                        random_state=42)\n",
    "rs3.fit(X_train_crf3, y_train_crf)"
   ]
  },
  {
   "cell_type": "code",
   "execution_count": 71,
   "id": "55575c84-2719-4a32-aae6-d5f255f2449b",
   "metadata": {},
   "outputs": [
    {
     "name": "stdout",
     "output_type": "stream",
     "text": [
      "best params: {'c1': 0.9190690862392462, 'c2': 0.004778961126377176, 'max_iterations': 125}\n",
      "best CV score: 0.7431843245769075\n",
      "model size: 0.02M\n"
     ]
    }
   ],
   "source": [
    "print('best params:', rs3.best_params_)\n",
    "print('best CV score:', rs3.best_score_)\n",
    "print('model size: {:0.2f}M'.format(rs3.best_estimator_.size_ / 1000000))"
   ]
  },
  {
   "cell_type": "code",
   "execution_count": 72,
   "id": "03e0cebe-806b-4499-9597-de21d14aac13",
   "metadata": {},
   "outputs": [
    {
     "data": {
      "image/png": "[encoded data removed]",
      "text/plain": [
       "<Figure size 640x480 with 2 Axes>"
      ]
     },
     "metadata": {},
     "output_type": "display_data"
    },
    {
     "name": "stdout",
     "output_type": "stream",
     "text": [
      "              precision    recall  f1-score   support\n",
      "\n",
      "           A     0.7217    0.8300    0.7721       353\n",
      "           O     0.9923    0.9855    0.9889      7813\n",
      "\n",
      "    accuracy                         0.9788      8166\n",
      "   macro avg     0.8570    0.9078    0.8805      8166\n",
      "weighted avg     0.9806    0.9788    0.9795      8166\n",
      "\n"
     ]
    }
   ],
   "source": [
    "crf3_optimized = rs3.best_estimator_\n",
    "y_val_pred = crf3_optimized.predict(X_val_crf3)\n",
    "crf3_optimized_report = model_report(y_val_crf, y_val_pred, labels)"
   ]
  },
  {
   "cell_type": "code",
   "execution_count": 74,
   "id": "35698815-049e-4f23-9649-f18a42f84a92",
   "metadata": {
    "scrolled": true
   },
   "outputs": [
    {
     "name": "stdout",
     "output_type": "stream",
     "text": [
      "Top positive:\n",
      "\n",
      "Top negative:\n"
     ]
    }
   ],
   "source": [
    "print(\"Top positive:\")\n",
    "#print_state_features(Counter(crf3_optimized.state_features_).most_common(30))\n",
    "\n",
    "print(\"\\nTop negative:\")\n",
    "#print_state_features(Counter(crf3_optimized.state_features_).most_common()[-30:])"
   ]
  },
  {
   "cell_type": "code",
   "execution_count": 75,
   "id": "06bc1a81-b887-4c22-ac3d-805cd53ffd7c",
   "metadata": {},
   "outputs": [],
   "source": [
    "save_model_evaluation(\"CRF Basic Features + REGEX\", crf3_optimized_report, crf_models_report)"
   ]
  },
  {
   "cell_type": "markdown",
   "id": "56be1e85-4f92-438f-bcd1-3ce56ae10180",
   "metadata": {
    "jp-MarkdownHeadingCollapsed": true
   },
   "source": [
    "##### CRF Model No.4 Contextual + REGEX Feature Set"
   ]
  },
  {
   "cell_type": "code",
   "execution_count": 76,
   "id": "646750a6-71b1-4d02-ba12-b78a02b65657",
   "metadata": {
    "scrolled": true
   },
   "outputs": [],
   "source": [
    "X_train_crf4_df = add_contextual_features(X_train_crf3_df, REGEX_FEATURE, 1)\n",
    "X_val_crf4_df = add_contextual_features(X_val_crf3_df, REGEX_FEATURE, 1)\n",
    "X_test_crf4_df = add_contextual_features(X_test_crf3_df, REGEX_FEATURE, 1)\n",
    "\n",
    "X_train_crf4_df = add_contextual_features(X_train_crf4_df, REGEX_FEATURE, 2)\n",
    "X_val_crf4_df = add_contextual_features(X_val_crf4_df, REGEX_FEATURE, 2)\n",
    "X_test_crf4_df = add_contextual_features(X_test_crf4_df, REGEX_FEATURE, 2)"
   ]
  },
  {
   "cell_type": "code",
   "execution_count": 77,
   "id": "04b508c6-42b7-41c2-9326-525fdfa09863",
   "metadata": {},
   "outputs": [],
   "source": [
    "X_train_crf4 = crf_feature_format(X_train_crf4_df)\n",
    "X_val_crf4 = crf_feature_format(X_val_crf4_df)\n",
    "X_test_crf4 = crf_feature_format(X_test_crf4_df)"
   ]
  },
  {
   "cell_type": "code",
   "execution_count": 78,
   "id": "b818763e-ce3d-4b4c-92c5-2d413023582a",
   "metadata": {},
   "outputs": [
    {
     "data": {
      "text/html": [
       "<div>\n",
       "<style scoped>\n",
       "    .dataframe tbody tr th:only-of-type {\n",
       "        vertical-align: middle;\n",
       "    }\n",
       "\n",
       "    .dataframe tbody tr th {\n",
       "        vertical-align: top;\n",
       "    }\n",
       "\n",
       "    .dataframe thead th {\n",
       "        text-align: right;\n",
       "    }\n",
       "</style>\n",
       "<table border=\"1\" class=\"dataframe\">\n",
       "  <thead>\n",
       "    <tr style=\"text-align: right;\">\n",
       "      <th></th>\n",
       "      <th>word</th>\n",
       "      <th>regex_rule</th>\n",
       "      <th>word.position</th>\n",
       "      <th>word[-3:]</th>\n",
       "      <th>word.POS_tag</th>\n",
       "      <th>word.len()</th>\n",
       "      <th>word.istitle()</th>\n",
       "      <th>word.isdigit()</th>\n",
       "      <th>bias</th>\n",
       "      <th>+1:word.regex_rule</th>\n",
       "      <th>...</th>\n",
       "      <th>-2:word.len()</th>\n",
       "      <th>-2:word.istitle()</th>\n",
       "      <th>-2:word.isdigit()</th>\n",
       "      <th>-2:word.POS_tag</th>\n",
       "      <th>+2:word</th>\n",
       "      <th>+2:word[-3:]</th>\n",
       "      <th>+2:word.len()</th>\n",
       "      <th>+2:word.istitle()</th>\n",
       "      <th>+2:word.isdigit()</th>\n",
       "      <th>+2:word.POS_tag</th>\n",
       "    </tr>\n",
       "  </thead>\n",
       "  <tbody>\n",
       "    <tr>\n",
       "      <th>0</th>\n",
       "      <td>[Lékař, :]</td>\n",
       "      <td>[O, O]</td>\n",
       "      <td>[0.6, 0.6]</td>\n",
       "      <td>[kař, :]</td>\n",
       "      <td>[NN, Z:]</td>\n",
       "      <td>[5, 1]</td>\n",
       "      <td>[True, False]</td>\n",
       "      <td>[False, False]</td>\n",
       "      <td>1.0</td>\n",
       "      <td>[O, O]</td>\n",
       "      <td>...</td>\n",
       "      <td>[0, 0]</td>\n",
       "      <td>[False, False]</td>\n",
       "      <td>[False, False]</td>\n",
       "      <td>[Z:, Z:]</td>\n",
       "      <td>[EOS, EOS]</td>\n",
       "      <td>[EOS, EOS]</td>\n",
       "      <td>[0, 0]</td>\n",
       "      <td>[False, False]</td>\n",
       "      <td>[False, False]</td>\n",
       "      <td>[Z:, Z:]</td>\n",
       "    </tr>\n",
       "    <tr>\n",
       "      <th>1</th>\n",
       "      <td>[P_Laktátdehydrogenáza, :]</td>\n",
       "      <td>[O, O]</td>\n",
       "      <td>[0.12, 0.13]</td>\n",
       "      <td>[áza, :]</td>\n",
       "      <td>[Q3, Z:]</td>\n",
       "      <td>[21, 1]</td>\n",
       "      <td>[True, False]</td>\n",
       "      <td>[False, False]</td>\n",
       "      <td>1.0</td>\n",
       "      <td>[O, O]</td>\n",
       "      <td>...</td>\n",
       "      <td>[0, 0]</td>\n",
       "      <td>[False, False]</td>\n",
       "      <td>[False, False]</td>\n",
       "      <td>[Z:, Z:]</td>\n",
       "      <td>[EOS, EOS]</td>\n",
       "      <td>[EOS, EOS]</td>\n",
       "      <td>[0, 0]</td>\n",
       "      <td>[False, False]</td>\n",
       "      <td>[False, False]</td>\n",
       "      <td>[Z:, Z:]</td>\n",
       "    </tr>\n",
       "    <tr>\n",
       "      <th>2</th>\n",
       "      <td>[16, :, mamila, :]</td>\n",
       "      <td>[O, O, O, O]</td>\n",
       "      <td>[0.68, 0.68, 0.68, 0.69]</td>\n",
       "      <td>[16, :, ila, :]</td>\n",
       "      <td>[C=, Z:, X@, Z:]</td>\n",
       "      <td>[2, 1, 6, 1]</td>\n",
       "      <td>[False, False, False, False]</td>\n",
       "      <td>[True, False, False, False]</td>\n",
       "      <td>1.0</td>\n",
       "      <td>[O, O, O, O]</td>\n",
       "      <td>...</td>\n",
       "      <td>[0, 0, 2, 1]</td>\n",
       "      <td>[False, False, False, False]</td>\n",
       "      <td>[False, False, True, False]</td>\n",
       "      <td>[Z:, Z:, C=, Z:]</td>\n",
       "      <td>[mamila, :, EOS, EOS]</td>\n",
       "      <td>[ila, :, EOS, EOS]</td>\n",
       "      <td>[6, 1, 0, 0]</td>\n",
       "      <td>[False, False, False, False]</td>\n",
       "      <td>[False, False, False, False]</td>\n",
       "      <td>[X@, Z:, Z:, Z:]</td>\n",
       "    </tr>\n",
       "  </tbody>\n",
       "</table>\n",
       "<p>3 rows × 37 columns</p>\n",
       "</div>"
      ],
      "text/plain": [
       "                         word    regex_rule             word.position  \\\n",
       "0                  [Lékař, :]        [O, O]                [0.6, 0.6]   \n",
       "1  [P_Laktátdehydrogenáza, :]        [O, O]              [0.12, 0.13]   \n",
       "2          [16, :, mamila, :]  [O, O, O, O]  [0.68, 0.68, 0.68, 0.69]   \n",
       "\n",
       "         word[-3:]      word.POS_tag    word.len()  \\\n",
       "0         [kař, :]          [NN, Z:]        [5, 1]   \n",
       "1         [áza, :]          [Q3, Z:]       [21, 1]   \n",
       "2  [16, :, ila, :]  [C=, Z:, X@, Z:]  [2, 1, 6, 1]   \n",
       "\n",
       "                 word.istitle()               word.isdigit()  bias  \\\n",
       "0                 [True, False]               [False, False]   1.0   \n",
       "1                 [True, False]               [False, False]   1.0   \n",
       "2  [False, False, False, False]  [True, False, False, False]   1.0   \n",
       "\n",
       "  +1:word.regex_rule  ... -2:word.len()             -2:word.istitle()  \\\n",
       "0             [O, O]  ...        [0, 0]                [False, False]   \n",
       "1             [O, O]  ...        [0, 0]                [False, False]   \n",
       "2       [O, O, O, O]  ...  [0, 0, 2, 1]  [False, False, False, False]   \n",
       "\n",
       "             -2:word.isdigit()   -2:word.POS_tag                +2:word  \\\n",
       "0               [False, False]          [Z:, Z:]             [EOS, EOS]   \n",
       "1               [False, False]          [Z:, Z:]             [EOS, EOS]   \n",
       "2  [False, False, True, False]  [Z:, Z:, C=, Z:]  [mamila, :, EOS, EOS]   \n",
       "\n",
       "         +2:word[-3:] +2:word.len()             +2:word.istitle()  \\\n",
       "0          [EOS, EOS]        [0, 0]                [False, False]   \n",
       "1          [EOS, EOS]        [0, 0]                [False, False]   \n",
       "2  [ila, :, EOS, EOS]  [6, 1, 0, 0]  [False, False, False, False]   \n",
       "\n",
       "              +2:word.isdigit()   +2:word.POS_tag  \n",
       "0                [False, False]          [Z:, Z:]  \n",
       "1                [False, False]          [Z:, Z:]  \n",
       "2  [False, False, False, False]  [X@, Z:, Z:, Z:]  \n",
       "\n",
       "[3 rows x 37 columns]"
      ]
     },
     "execution_count": 78,
     "metadata": {},
     "output_type": "execute_result"
    }
   ],
   "source": [
    "X_train_crf4_df.head(3)"
   ]
  },
  {
   "cell_type": "markdown",
   "id": "e562e4bd-55b1-43b4-8fb1-b4f386cc71b9",
   "metadata": {},
   "source": [
    "**Feature Set:**"
   ]
  },
  {
   "cell_type": "code",
   "execution_count": 79,
   "id": "39946c56-af40-47db-9e4f-abf8f55b2048",
   "metadata": {
    "scrolled": true
   },
   "outputs": [
    {
     "data": {
      "text/plain": [
       "['word',\n",
       " 'regex_rule',\n",
       " 'word.position',\n",
       " 'word[-3:]',\n",
       " 'word.POS_tag',\n",
       " 'word.len()',\n",
       " 'word.istitle()',\n",
       " 'word.isdigit()',\n",
       " 'bias',\n",
       " '+1:word.regex_rule',\n",
       " '-1:word.regex_rule',\n",
       " '-1:word',\n",
       " '-1:word[-3:]',\n",
       " '-1:word.len()',\n",
       " '-1:word.istitle()',\n",
       " '-1:word.isdigit()',\n",
       " '-1:word.POS_tag',\n",
       " '+1:word',\n",
       " '+1:word[-3:]',\n",
       " '+1:word.len()',\n",
       " '+1:word.istitle()',\n",
       " '+1:word.isdigit()',\n",
       " '+1:word.POS_tag',\n",
       " '+2:word.regex_rule',\n",
       " '-2:word.regex_rule',\n",
       " '-2:word',\n",
       " '-2:word[-3:]',\n",
       " '-2:word.len()',\n",
       " '-2:word.istitle()',\n",
       " '-2:word.isdigit()',\n",
       " '-2:word.POS_tag',\n",
       " '+2:word',\n",
       " '+2:word[-3:]',\n",
       " '+2:word.len()',\n",
       " '+2:word.istitle()',\n",
       " '+2:word.isdigit()',\n",
       " '+2:word.POS_tag']"
      ]
     },
     "execution_count": 79,
     "metadata": {},
     "output_type": "execute_result"
    }
   ],
   "source": [
    "[x for x in X_train_crf4[0][0].keys()]"
   ]
  },
  {
   "cell_type": "markdown",
   "id": "0900f761-85bb-434e-938d-269276355b70",
   "metadata": {},
   "source": [
    "###### Model with Default Parameters"
   ]
  },
  {
   "cell_type": "code",
   "execution_count": 80,
   "id": "2c44588f-692c-4243-bdb5-e610bbd9b43f",
   "metadata": {},
   "outputs": [
    {
     "data": {
      "image/png": "[encoded data removed]",
      "text/plain": [
       "<Figure size 640x480 with 2 Axes>"
      ]
     },
     "metadata": {},
     "output_type": "display_data"
    },
    {
     "name": "stdout",
     "output_type": "stream",
     "text": [
      "              precision    recall  f1-score   support\n",
      "\n",
      "           A     0.6966    0.8782    0.7769       353\n",
      "           O     0.9944    0.9827    0.9885      7813\n",
      "\n",
      "    accuracy                         0.9782      8166\n",
      "   macro avg     0.8455    0.9305    0.8827      8166\n",
      "weighted avg     0.9816    0.9782    0.9794      8166\n",
      "\n"
     ]
    }
   ],
   "source": [
    "crf4 = sklearn_crfsuite.CRF(\n",
    "    algorithm='lbfgs',\n",
    "    max_iterations=100,\n",
    "    all_possible_transitions=True\n",
    ")\n",
    "crf4.fit(X_train_crf4, y_train_crf)\n",
    "\n",
    "y_val_pred = crf4.predict(X_val_crf4)\n",
    "_ = model_report(y_val_crf, y_val_pred, labels)"
   ]
  },
  {
   "cell_type": "markdown",
   "id": "ebc8729b-cb40-48f8-9637-33344b9ce5fa",
   "metadata": {},
   "source": [
    "###### Manual Tuning of the Parameters"
   ]
  },
  {
   "cell_type": "code",
   "execution_count": 81,
   "id": "6e016170-97bd-47fb-a8b0-de6cf03ae563",
   "metadata": {},
   "outputs": [
    {
     "data": {
      "image/png": "[encoded data removed]",
      "text/plain": [
       "<Figure size 640x480 with 2 Axes>"
      ]
     },
     "metadata": {},
     "output_type": "display_data"
    },
    {
     "name": "stdout",
     "output_type": "stream",
     "text": [
      "              precision    recall  f1-score   support\n",
      "\n",
      "           A     0.8168    0.8839    0.8490       353\n",
      "           O     0.9947    0.9910    0.9929      7813\n",
      "\n",
      "    accuracy                         0.9864      8166\n",
      "   macro avg     0.9057    0.9374    0.9209      8166\n",
      "weighted avg     0.9870    0.9864    0.9867      8166\n",
      "\n"
     ]
    }
   ],
   "source": [
    "crf4_tuned = sklearn_crfsuite.CRF(\n",
    "    algorithm='lbfgs',\n",
    "    c1=1.0,\n",
    "    c2=0.03,\n",
    "    max_iterations=200,\n",
    "    all_possible_transitions=True\n",
    ")\n",
    "crf4_tuned.fit(X_train_crf4, y_train_crf)\n",
    "\n",
    "y_val_pred = crf4_tuned.predict(X_val_crf4)\n",
    "_ = model_report(y_val_crf, y_val_pred, labels)"
   ]
  },
  {
   "cell_type": "markdown",
   "id": "4c0e825a-f2bc-4e7e-aa48-e17a16797c25",
   "metadata": {},
   "source": [
    "###### Hyperparameter Optimization"
   ]
  },
  {
   "cell_type": "code",
   "execution_count": 82,
   "id": "dd46f2b1-9fb1-4771-a0d1-9d310db8a678",
   "metadata": {},
   "outputs": [],
   "source": [
    "params_space4 = {\n",
    "    'c1': scipy.stats.expon(scale=1.0),\n",
    "    'c2': scipy.stats.expon(scale=0.01),\n",
    "    'max_iterations': [n for n in range(50, 201, 25)]\n",
    "}"
   ]
  },
  {
   "cell_type": "code",
   "execution_count": 83,
   "id": "b626eb68-15a1-45e9-8571-598ede6db7b0",
   "metadata": {
    "scrolled": true
   },
   "outputs": [
    {
     "name": "stdout",
     "output_type": "stream",
     "text": [
      "Fitting 5 folds for each of 200 candidates, totalling 1000 fits\n"
     ]
    },
    {
     "name": "stderr",
     "output_type": "stream",
     "text": [
      "/home/ubuntu/.local/lib/python3.8/site-packages/sklearn/base.py:209: FutureWarning: From version 0.24, get_params will raise an AttributeError if a parameter cannot be retrieved as an instance attribute. Previously it would return None.\n",
      "  warnings.warn('From version 0.24, get_params will raise an '\n",
      "[Parallel(n_jobs=-1)]: Using backend LokyBackend with 16 concurrent workers.\n",
      "[Parallel(n_jobs=-1)]: Done  18 tasks      | elapsed:   13.4s\n",
      "[Parallel(n_jobs=-1)]: Done 168 tasks      | elapsed:  1.5min\n",
      "[Parallel(n_jobs=-1)]: Done 418 tasks      | elapsed:  3.4min\n",
      "[Parallel(n_jobs=-1)]: Done 768 tasks      | elapsed:  6.2min\n",
      "[Parallel(n_jobs=-1)]: Done 1000 out of 1000 | elapsed:  8.0min finished\n"
     ]
    },
    {
     "data": {
      "text/plain": [
       "RandomizedSearchCV(cv=5,\n",
       "                   estimator=CRF(algorithm='lbfgs',\n",
       "                                 all_possible_transitions=True,\n",
       "                                 keep_tempfiles=None),\n",
       "                   n_iter=200, n_jobs=-1,\n",
       "                   param_distributions={'c1': <scipy.stats._distn_infrastructure.rv_continuous_frozen object at 0x7f22c5332ac0>,\n",
       "                                        'c2': <scipy.stats._distn_infrastructure.rv_continuous_frozen object at 0x7f22c52703d0>,\n",
       "                                        'max_iterations': [50, 75, 100, 125,\n",
       "                                                           150, 175, 200]},\n",
       "                   random_state=100, return_train_score=True,\n",
       "                   scoring=make_scorer(flat_recall_score, average=binary, pos_label=A, zero_division=warn),\n",
       "                   verbose=1)"
      ]
     },
     "execution_count": 83,
     "metadata": {},
     "output_type": "execute_result"
    }
   ],
   "source": [
    "rs4 = RandomizedSearchCV(crf_, \n",
    "                        params_space4,\n",
    "                        cv=5,\n",
    "                        verbose=1,\n",
    "                        n_jobs=-1,\n",
    "                        n_iter=200,\n",
    "                        scoring=scorer,\n",
    "                        return_train_score=True,\n",
    "                        random_state=100)\n",
    "rs4.fit(X_train_crf4, y_train_crf)"
   ]
  },
  {
   "cell_type": "code",
   "execution_count": 84,
   "id": "a99965a0-7fb7-493e-ba21-3974d3c1c8f2",
   "metadata": {},
   "outputs": [
    {
     "data": {
      "image/png": "[encoded data removed]",
      "text/plain": [
       "<Figure size 640x480 with 2 Axes>"
      ]
     },
     "metadata": {},
     "output_type": "display_data"
    },
    {
     "name": "stdout",
     "output_type": "stream",
     "text": [
      "              precision    recall  f1-score   support\n",
      "\n",
      "           A     0.8911    0.8810    0.8860       353\n",
      "           O     0.9946    0.9951    0.9949      7813\n",
      "\n",
      "    accuracy                         0.9902      8166\n",
      "   macro avg     0.9429    0.9381    0.9405      8166\n",
      "weighted avg     0.9902    0.9902    0.9902      8166\n",
      "\n"
     ]
    }
   ],
   "source": [
    "crf4_optimized = rs4.best_estimator_\n",
    "y_val_pred = crf4_optimized.predict(X_val_crf4)\n",
    "crf4_optimized_report = model_report(y_val_crf, y_val_pred, labels)"
   ]
  },
  {
   "cell_type": "code",
   "execution_count": 86,
   "id": "aa890f55-c47a-4ca6-8700-bb103238abc1",
   "metadata": {
    "scrolled": true
   },
   "outputs": [
    {
     "name": "stdout",
     "output_type": "stream",
     "text": [
      "best params: {'c1': 1.0047805146831295, 'c2': 0.03169968273894568, 'max_iterations': 50}\n",
      "best CV score: 0.7658556328045271\n",
      "model size: 0.05M\n"
     ]
    }
   ],
   "source": [
    "print('best params:', rs4.best_params_)\n",
    "print('best CV score:', rs4.best_score_)\n",
    "print('model size: {:0.2f}M'.format(rs4.best_estimator_.size_ / 1000000))"
   ]
  },
  {
   "cell_type": "code",
   "execution_count": 87,
   "id": "7834fcd8-c314-4124-b245-8ee5493c988b",
   "metadata": {
    "scrolled": true
   },
   "outputs": [
    {
     "name": "stdout",
     "output_type": "stream",
     "text": [
      "Top positive:\n",
      "3.307686 A        regex_rule:A\n",
      "3.156626 O        word.POS_tag:RR\n",
      "2.258135 A        word:Hodonín\n",
      "2.258135 A        word[-3:]:nín\n",
      "1.932901 A        word:MOÚ\n",
      "1.932901 A        word[-3:]:MOÚ\n",
      "1.871972 A        word[-3:]:/11\n",
      "1.768286 O        -1:word.regex_rule:A\n",
      "1.753479 A        -1:word:>\n",
      "1.753479 A        -1:word[-3:]:>\n",
      "1.658722 O        +1:word.regex_rule:A\n",
      "1.625908 A        +1:word[-3:]:ová\n",
      "1.595914 O        +1:word[-3:]:021\n",
      "1.563862 A        word[-3:]:ová\n",
      "1.467851 A        word[-3:]:020\n",
      "1.445178 A        -1:word:dnech\n",
      "1.302309 A        word:Blansko\n",
      "1.266571 O        word[-3:]:ení\n",
      "1.236587 O        +2:word[-3:]:ová\n",
      "1.219988 A        word[-3:]:jov\n",
      "\n",
      "Top negative:\n",
      "-0.940008 O        word[-3:]:018\n",
      "-0.961885 O        word:OMKOCH\n",
      "-0.961885 O        word[-3:]:OCH\n",
      "-1.013015 O        -1:word[-3:]:tel\n",
      "-1.019121 O        word[-3:]:tel\n",
      "-1.100679 O        word[-3:]:od.\n",
      "-1.129747 O        word.POS_tag:C=\n",
      "-1.130019 O        word[-3:]:021\n",
      "-1.204221 O        -2:word:PA\n",
      "-1.204221 O        -2:word[-3:]:PA\n",
      "-1.216335 O        word[-3:]:sko\n",
      "-1.236587 A        +2:word[-3:]:ová\n",
      "-1.467851 O        word[-3:]:020\n",
      "-1.563862 O        word[-3:]:ová\n",
      "-1.625908 O        +1:word[-3:]:ová\n",
      "-1.658722 A        +1:word.regex_rule:A\n",
      "-1.768286 A        -1:word.regex_rule:A\n",
      "-1.932901 O        word:MOÚ\n",
      "-1.932901 O        word[-3:]:MOÚ\n",
      "-3.307686 O        regex_rule:A\n"
     ]
    }
   ],
   "source": [
    "print(\"Top positive:\")\n",
    "print_state_features(Counter(crf4_optimized.state_features_).most_common(20))\n",
    "\n",
    "print(\"\\nTop negative:\")\n",
    "print_state_features(Counter(crf4_optimized.state_features_).most_common()[-20:])"
   ]
  },
  {
   "cell_type": "code",
   "execution_count": 88,
   "id": "b7d15dbd-3fce-4484-8f9a-c229cfcd7717",
   "metadata": {},
   "outputs": [
    {
     "data": {
      "text/html": [
       "\n",
       "    <style>\n",
       "    table.eli5-weights tr:hover {\n",
       "        filter: brightness(85%);\n",
       "    }\n",
       "</style>\n",
       "\n",
       "\n",
       "\n",
       "    \n",
       "\n",
       "    \n",
       "\n",
       "    \n",
       "        \n",
       "\n",
       "\n",
       "<table class=\"eli5-transition-features\" style=\"margin-bottom: 0.5em;\">\n",
       "    <thead>\n",
       "        <tr>\n",
       "            <td>From \\ To</td>\n",
       "            \n",
       "                <th>A</th>\n",
       "            \n",
       "                <th>O</th>\n",
       "            \n",
       "        </tr>\n",
       "    </thead>\n",
       "    <tbody>\n",
       "        \n",
       "            \n",
       "                <tr>\n",
       "                    <th>A</th>\n",
       "                    \n",
       "                        <td style=\"background-color: hsl(120, 100.00%, 90.00%)\" title=\"A &rArr; A\">\n",
       "                            1.044\n",
       "                        </td>\n",
       "                    \n",
       "                        <td style=\"background-color: hsl(0, 100.00%, 80.00%)\" title=\"A &rArr; O\">\n",
       "                            -2.809\n",
       "                        </td>\n",
       "                    \n",
       "                </tr>\n",
       "            \n",
       "                <tr>\n",
       "                    <th>O</th>\n",
       "                    \n",
       "                        <td style=\"background-color: hsl(0, 100.00%, 83.23%)\" title=\"O &rArr; A\">\n",
       "                            -2.183\n",
       "                        </td>\n",
       "                    \n",
       "                        <td style=\"background-color: hsl(120, 100.00%, 94.53%)\" title=\"O &rArr; O\">\n",
       "                            0.441\n",
       "                        </td>\n",
       "                    \n",
       "                </tr>\n",
       "            \n",
       "        \n",
       "    </tbody>\n",
       "</table>\n",
       "    \n",
       "\n",
       "    \n",
       "\n",
       "    \n",
       "\n",
       "    \n",
       "\n",
       "\n",
       "    \n",
       "\n",
       "    \n",
       "\n",
       "    \n",
       "\n",
       "    \n",
       "        \n",
       "\n",
       "    \n",
       "        <table class=\"eli5-weights-wrapper\" style=\"border-collapse: collapse; border: none; margin-bottom: 1.5em;\">\n",
       "            <tr>\n",
       "                \n",
       "                    <td style=\"padding: 0.5em; border: 1px solid black; text-align: center;\">\n",
       "                        <b>\n",
       "    \n",
       "        y=A\n",
       "    \n",
       "</b>\n",
       "\n",
       "top features\n",
       "                    </td>\n",
       "                \n",
       "                    <td style=\"padding: 0.5em; border: 1px solid black; text-align: center;\">\n",
       "                        <b>\n",
       "    \n",
       "        y=O\n",
       "    \n",
       "</b>\n",
       "\n",
       "top features\n",
       "                    </td>\n",
       "                \n",
       "            </tr>\n",
       "            <tr>\n",
       "                \n",
       "                    \n",
       "                        <td style=\"padding: 0px; border: 1px solid black; vertical-align: top;\">\n",
       "                            \n",
       "                                \n",
       "                                    \n",
       "                                    \n",
       "    \n",
       "    <table class=\"eli5-weights\"\n",
       "           style=\"border-collapse: collapse; border: none; margin-top: 0em; table-layout: auto; width: 100%;\">\n",
       "        <thead>\n",
       "        <tr style=\"border: none;\">\n",
       "            \n",
       "                <th style=\"padding: 0 1em 0 0.5em; text-align: right; border: none;\" title=\"Feature weights. Note that weights do not account for feature value scales, so if feature values have different scales, features with highest weights might not be the most important.\">\n",
       "                    Weight<sup>?</sup>\n",
       "                </th>\n",
       "            \n",
       "            <th style=\"padding: 0 0.5em 0 0.5em; text-align: left; border: none;\">Feature</th>\n",
       "            \n",
       "        </tr>\n",
       "        </thead>\n",
       "        <tbody>\n",
       "        \n",
       "            <tr style=\"background-color: hsl(120, 100.00%, 80.00%); border: none;\">\n",
       "    <td style=\"padding: 0 1em 0 0.5em; text-align: right; border: none;\">\n",
       "        +3.308\n",
       "    </td>\n",
       "    <td style=\"padding: 0 0.5em 0 0.5em; text-align: left; border: none;\">\n",
       "        regex_rule:A\n",
       "    </td>\n",
       "    \n",
       "</tr>\n",
       "        \n",
       "            <tr style=\"background-color: hsl(120, 100.00%, 84.69%); border: none;\">\n",
       "    <td style=\"padding: 0 1em 0 0.5em; text-align: right; border: none;\">\n",
       "        +2.258\n",
       "    </td>\n",
       "    <td style=\"padding: 0 0.5em 0 0.5em; text-align: left; border: none;\">\n",
       "        word[-3:]:nín\n",
       "    </td>\n",
       "    \n",
       "</tr>\n",
       "        \n",
       "            <tr style=\"background-color: hsl(120, 100.00%, 84.69%); border: none;\">\n",
       "    <td style=\"padding: 0 1em 0 0.5em; text-align: right; border: none;\">\n",
       "        +2.258\n",
       "    </td>\n",
       "    <td style=\"padding: 0 0.5em 0 0.5em; text-align: left; border: none;\">\n",
       "        word:Hodonín\n",
       "    </td>\n",
       "    \n",
       "</tr>\n",
       "        \n",
       "            <tr style=\"background-color: hsl(120, 100.00%, 86.27%); border: none;\">\n",
       "    <td style=\"padding: 0 1em 0 0.5em; text-align: right; border: none;\">\n",
       "        +1.933\n",
       "    </td>\n",
       "    <td style=\"padding: 0 0.5em 0 0.5em; text-align: left; border: none;\">\n",
       "        word[-3:]:MOÚ\n",
       "    </td>\n",
       "    \n",
       "</tr>\n",
       "        \n",
       "            <tr style=\"background-color: hsl(120, 100.00%, 86.27%); border: none;\">\n",
       "    <td style=\"padding: 0 1em 0 0.5em; text-align: right; border: none;\">\n",
       "        +1.933\n",
       "    </td>\n",
       "    <td style=\"padding: 0 0.5em 0 0.5em; text-align: left; border: none;\">\n",
       "        word:MOÚ\n",
       "    </td>\n",
       "    \n",
       "</tr>\n",
       "        \n",
       "            <tr style=\"background-color: hsl(120, 100.00%, 86.57%); border: none;\">\n",
       "    <td style=\"padding: 0 1em 0 0.5em; text-align: right; border: none;\">\n",
       "        +1.872\n",
       "    </td>\n",
       "    <td style=\"padding: 0 0.5em 0 0.5em; text-align: left; border: none;\">\n",
       "        word[-3:]:/11\n",
       "    </td>\n",
       "    \n",
       "</tr>\n",
       "        \n",
       "            <tr style=\"background-color: hsl(120, 100.00%, 87.17%); border: none;\">\n",
       "    <td style=\"padding: 0 1em 0 0.5em; text-align: right; border: none;\">\n",
       "        +1.753\n",
       "    </td>\n",
       "    <td style=\"padding: 0 0.5em 0 0.5em; text-align: left; border: none;\">\n",
       "        -1:word[-3:]:&gt;\n",
       "    </td>\n",
       "    \n",
       "</tr>\n",
       "        \n",
       "            <tr style=\"background-color: hsl(120, 100.00%, 87.17%); border: none;\">\n",
       "    <td style=\"padding: 0 1em 0 0.5em; text-align: right; border: none;\">\n",
       "        +1.753\n",
       "    </td>\n",
       "    <td style=\"padding: 0 0.5em 0 0.5em; text-align: left; border: none;\">\n",
       "        -1:word:&gt;\n",
       "    </td>\n",
       "    \n",
       "</tr>\n",
       "        \n",
       "            <tr style=\"background-color: hsl(120, 100.00%, 87.83%); border: none;\">\n",
       "    <td style=\"padding: 0 1em 0 0.5em; text-align: right; border: none;\">\n",
       "        +1.626\n",
       "    </td>\n",
       "    <td style=\"padding: 0 0.5em 0 0.5em; text-align: left; border: none;\">\n",
       "        +1:word[-3:]:ová\n",
       "    </td>\n",
       "    \n",
       "</tr>\n",
       "        \n",
       "            <tr style=\"background-color: hsl(120, 100.00%, 88.16%); border: none;\">\n",
       "    <td style=\"padding: 0 1em 0 0.5em; text-align: right; border: none;\">\n",
       "        +1.564\n",
       "    </td>\n",
       "    <td style=\"padding: 0 0.5em 0 0.5em; text-align: left; border: none;\">\n",
       "        word[-3:]:ová\n",
       "    </td>\n",
       "    \n",
       "</tr>\n",
       "        \n",
       "            <tr style=\"background-color: hsl(120, 100.00%, 88.67%); border: none;\">\n",
       "    <td style=\"padding: 0 1em 0 0.5em; text-align: right; border: none;\">\n",
       "        +1.468\n",
       "    </td>\n",
       "    <td style=\"padding: 0 0.5em 0 0.5em; text-align: left; border: none;\">\n",
       "        word[-3:]:020\n",
       "    </td>\n",
       "    \n",
       "</tr>\n",
       "        \n",
       "            <tr style=\"background-color: hsl(120, 100.00%, 88.80%); border: none;\">\n",
       "    <td style=\"padding: 0 1em 0 0.5em; text-align: right; border: none;\">\n",
       "        +1.445\n",
       "    </td>\n",
       "    <td style=\"padding: 0 0.5em 0 0.5em; text-align: left; border: none;\">\n",
       "        -1:word:dnech\n",
       "    </td>\n",
       "    \n",
       "</tr>\n",
       "        \n",
       "            <tr style=\"background-color: hsl(120, 100.00%, 89.58%); border: none;\">\n",
       "    <td style=\"padding: 0 1em 0 0.5em; text-align: right; border: none;\">\n",
       "        +1.302\n",
       "    </td>\n",
       "    <td style=\"padding: 0 0.5em 0 0.5em; text-align: left; border: none;\">\n",
       "        word:Blansko\n",
       "    </td>\n",
       "    \n",
       "</tr>\n",
       "        \n",
       "            <tr style=\"background-color: hsl(120, 100.00%, 90.05%); border: none;\">\n",
       "    <td style=\"padding: 0 1em 0 0.5em; text-align: right; border: none;\">\n",
       "        +1.220\n",
       "    </td>\n",
       "    <td style=\"padding: 0 0.5em 0 0.5em; text-align: left; border: none;\">\n",
       "        word[-3:]:jov\n",
       "    </td>\n",
       "    \n",
       "</tr>\n",
       "        \n",
       "            <tr style=\"background-color: hsl(120, 100.00%, 90.07%); border: none;\">\n",
       "    <td style=\"padding: 0 1em 0 0.5em; text-align: right; border: none;\">\n",
       "        +1.216\n",
       "    </td>\n",
       "    <td style=\"padding: 0 0.5em 0 0.5em; text-align: left; border: none;\">\n",
       "        word[-3:]:sko\n",
       "    </td>\n",
       "    \n",
       "</tr>\n",
       "        \n",
       "            <tr style=\"background-color: hsl(120, 100.00%, 90.14%); border: none;\">\n",
       "    <td style=\"padding: 0 1em 0 0.5em; text-align: right; border: none;\">\n",
       "        +1.204\n",
       "    </td>\n",
       "    <td style=\"padding: 0 0.5em 0 0.5em; text-align: left; border: none;\">\n",
       "        -2:word:PA\n",
       "    </td>\n",
       "    \n",
       "</tr>\n",
       "        \n",
       "            <tr style=\"background-color: hsl(120, 100.00%, 90.14%); border: none;\">\n",
       "    <td style=\"padding: 0 1em 0 0.5em; text-align: right; border: none;\">\n",
       "        +1.204\n",
       "    </td>\n",
       "    <td style=\"padding: 0 0.5em 0 0.5em; text-align: left; border: none;\">\n",
       "        -2:word[-3:]:PA\n",
       "    </td>\n",
       "    \n",
       "</tr>\n",
       "        \n",
       "            <tr style=\"background-color: hsl(120, 100.00%, 90.25%); border: none;\">\n",
       "    <td style=\"padding: 0 1em 0 0.5em; text-align: right; border: none;\">\n",
       "        +1.185\n",
       "    </td>\n",
       "    <td style=\"padding: 0 0.5em 0 0.5em; text-align: left; border: none;\">\n",
       "        word[-3:]:&gt;\n",
       "    </td>\n",
       "    \n",
       "</tr>\n",
       "        \n",
       "            <tr style=\"background-color: hsl(120, 100.00%, 90.25%); border: none;\">\n",
       "    <td style=\"padding: 0 1em 0 0.5em; text-align: right; border: none;\">\n",
       "        +1.185\n",
       "    </td>\n",
       "    <td style=\"padding: 0 0.5em 0 0.5em; text-align: left; border: none;\">\n",
       "        word:&gt;\n",
       "    </td>\n",
       "    \n",
       "</tr>\n",
       "        \n",
       "            <tr style=\"background-color: hsl(120, 100.00%, 90.57%); border: none;\">\n",
       "    <td style=\"padding: 0 1em 0 0.5em; text-align: right; border: none;\">\n",
       "        +1.130\n",
       "    </td>\n",
       "    <td style=\"padding: 0 0.5em 0 0.5em; text-align: left; border: none;\">\n",
       "        word[-3:]:021\n",
       "    </td>\n",
       "    \n",
       "</tr>\n",
       "        \n",
       "        \n",
       "            <tr style=\"background-color: hsl(120, 100.00%, 90.57%); border: none;\">\n",
       "                <td colspan=\"2\" style=\"padding: 0 0.5em 0 0.5em; text-align: center; border: none; white-space: nowrap;\">\n",
       "                    <i>&hellip; 335 more positive &hellip;</i>\n",
       "                </td>\n",
       "            </tr>\n",
       "        \n",
       "\n",
       "        \n",
       "            <tr style=\"background-color: hsl(0, 100.00%, 97.13%); border: none;\">\n",
       "                <td colspan=\"2\" style=\"padding: 0 0.5em 0 0.5em; text-align: center; border: none; white-space: nowrap;\">\n",
       "                    <i>&hellip; 81 more negative &hellip;</i>\n",
       "                </td>\n",
       "            </tr>\n",
       "        \n",
       "        \n",
       "            <tr style=\"background-color: hsl(0, 100.00%, 97.13%); border: none;\">\n",
       "    <td style=\"padding: 0 1em 0 0.5em; text-align: right; border: none;\">\n",
       "        -0.207\n",
       "    </td>\n",
       "    <td style=\"padding: 0 0.5em 0 0.5em; text-align: left; border: none;\">\n",
       "        +1:word:EOS\n",
       "    </td>\n",
       "    \n",
       "</tr>\n",
       "        \n",
       "            <tr style=\"background-color: hsl(0, 100.00%, 97.11%); border: none;\">\n",
       "    <td style=\"padding: 0 1em 0 0.5em; text-align: right; border: none;\">\n",
       "        -0.209\n",
       "    </td>\n",
       "    <td style=\"padding: 0 0.5em 0 0.5em; text-align: left; border: none;\">\n",
       "        +2:word.POS_tag:Dg\n",
       "    </td>\n",
       "    \n",
       "</tr>\n",
       "        \n",
       "            <tr style=\"background-color: hsl(0, 100.00%, 97.09%); border: none;\">\n",
       "    <td style=\"padding: 0 1em 0 0.5em; text-align: right; border: none;\">\n",
       "        -0.210\n",
       "    </td>\n",
       "    <td style=\"padding: 0 0.5em 0 0.5em; text-align: left; border: none;\">\n",
       "        -1:word.regex_rule:O\n",
       "    </td>\n",
       "    \n",
       "</tr>\n",
       "        \n",
       "            <tr style=\"background-color: hsl(0, 100.00%, 97.06%); border: none;\">\n",
       "    <td style=\"padding: 0 1em 0 0.5em; text-align: right; border: none;\">\n",
       "        -0.214\n",
       "    </td>\n",
       "    <td style=\"padding: 0 0.5em 0 0.5em; text-align: left; border: none;\">\n",
       "        -1:word[-3:]:BOS\n",
       "    </td>\n",
       "    \n",
       "</tr>\n",
       "        \n",
       "            <tr style=\"background-color: hsl(0, 100.00%, 97.06%); border: none;\">\n",
       "    <td style=\"padding: 0 1em 0 0.5em; text-align: right; border: none;\">\n",
       "        -0.214\n",
       "    </td>\n",
       "    <td style=\"padding: 0 0.5em 0 0.5em; text-align: left; border: none;\">\n",
       "        -1:word:BOS\n",
       "    </td>\n",
       "    \n",
       "</tr>\n",
       "        \n",
       "            <tr style=\"background-color: hsl(0, 100.00%, 96.71%); border: none;\">\n",
       "    <td style=\"padding: 0 1em 0 0.5em; text-align: right; border: none;\">\n",
       "        -0.251\n",
       "    </td>\n",
       "    <td style=\"padding: 0 0.5em 0 0.5em; text-align: left; border: none;\">\n",
       "        +1:word.regex_rule:O\n",
       "    </td>\n",
       "    \n",
       "</tr>\n",
       "        \n",
       "            <tr style=\"background-color: hsl(0, 100.00%, 96.64%); border: none;\">\n",
       "    <td style=\"padding: 0 1em 0 0.5em; text-align: right; border: none;\">\n",
       "        -0.259\n",
       "    </td>\n",
       "    <td style=\"padding: 0 0.5em 0 0.5em; text-align: left; border: none;\">\n",
       "        +2:word[-3:]:ení\n",
       "    </td>\n",
       "    \n",
       "</tr>\n",
       "        \n",
       "            <tr style=\"background-color: hsl(0, 100.00%, 96.61%); border: none;\">\n",
       "    <td style=\"padding: 0 1em 0 0.5em; text-align: right; border: none;\">\n",
       "        -0.262\n",
       "    </td>\n",
       "    <td style=\"padding: 0 0.5em 0 0.5em; text-align: left; border: none;\">\n",
       "        +2:word.POS_tag:BN\n",
       "    </td>\n",
       "    \n",
       "</tr>\n",
       "        \n",
       "            <tr style=\"background-color: hsl(0, 100.00%, 96.38%); border: none;\">\n",
       "    <td style=\"padding: 0 1em 0 0.5em; text-align: right; border: none;\">\n",
       "        -0.288\n",
       "    </td>\n",
       "    <td style=\"padding: 0 0.5em 0 0.5em; text-align: left; border: none;\">\n",
       "        -1:word.POS_tag:C=\n",
       "    </td>\n",
       "    \n",
       "</tr>\n",
       "        \n",
       "            <tr style=\"background-color: hsl(0, 100.00%, 96.20%); border: none;\">\n",
       "    <td style=\"padding: 0 1em 0 0.5em; text-align: right; border: none;\">\n",
       "        -0.309\n",
       "    </td>\n",
       "    <td style=\"padding: 0 0.5em 0 0.5em; text-align: left; border: none;\">\n",
       "        word.POS_tag:Z:\n",
       "    </td>\n",
       "    \n",
       "</tr>\n",
       "        \n",
       "            <tr style=\"background-color: hsl(0, 100.00%, 95.80%); border: none;\">\n",
       "    <td style=\"padding: 0 1em 0 0.5em; text-align: right; border: none;\">\n",
       "        -0.356\n",
       "    </td>\n",
       "    <td style=\"padding: 0 0.5em 0 0.5em; text-align: left; border: none;\">\n",
       "        word[-3:]::\n",
       "    </td>\n",
       "    \n",
       "</tr>\n",
       "        \n",
       "            <tr style=\"background-color: hsl(0, 100.00%, 95.80%); border: none;\">\n",
       "    <td style=\"padding: 0 1em 0 0.5em; text-align: right; border: none;\">\n",
       "        -0.356\n",
       "    </td>\n",
       "    <td style=\"padding: 0 0.5em 0 0.5em; text-align: left; border: none;\">\n",
       "        word::\n",
       "    </td>\n",
       "    \n",
       "</tr>\n",
       "        \n",
       "            <tr style=\"background-color: hsl(0, 100.00%, 95.61%); border: none;\">\n",
       "    <td style=\"padding: 0 1em 0 0.5em; text-align: right; border: none;\">\n",
       "        -0.379\n",
       "    </td>\n",
       "    <td style=\"padding: 0 0.5em 0 0.5em; text-align: left; border: none;\">\n",
       "        +1:word.POS_tag:AA\n",
       "    </td>\n",
       "    \n",
       "</tr>\n",
       "        \n",
       "            <tr style=\"background-color: hsl(0, 100.00%, 95.25%); border: none;\">\n",
       "    <td style=\"padding: 0 1em 0 0.5em; text-align: right; border: none;\">\n",
       "        -0.424\n",
       "    </td>\n",
       "    <td style=\"padding: 0 0.5em 0 0.5em; text-align: left; border: none;\">\n",
       "        word:18.11.2019\n",
       "    </td>\n",
       "    \n",
       "</tr>\n",
       "        \n",
       "            <tr style=\"background-color: hsl(0, 100.00%, 93.32%); border: none;\">\n",
       "    <td style=\"padding: 0 1em 0 0.5em; text-align: right; border: none;\">\n",
       "        -0.691\n",
       "    </td>\n",
       "    <td style=\"padding: 0 0.5em 0 0.5em; text-align: left; border: none;\">\n",
       "        word[-3:]:,\n",
       "    </td>\n",
       "    \n",
       "</tr>\n",
       "        \n",
       "            <tr style=\"background-color: hsl(0, 100.00%, 93.32%); border: none;\">\n",
       "    <td style=\"padding: 0 1em 0 0.5em; text-align: right; border: none;\">\n",
       "        -0.691\n",
       "    </td>\n",
       "    <td style=\"padding: 0 0.5em 0 0.5em; text-align: left; border: none;\">\n",
       "        word:,\n",
       "    </td>\n",
       "    \n",
       "</tr>\n",
       "        \n",
       "            <tr style=\"background-color: hsl(0, 100.00%, 92.78%); border: none;\">\n",
       "    <td style=\"padding: 0 1em 0 0.5em; text-align: right; border: none;\">\n",
       "        -0.771\n",
       "    </td>\n",
       "    <td style=\"padding: 0 0.5em 0 0.5em; text-align: left; border: none;\">\n",
       "        regex_rule:O\n",
       "    </td>\n",
       "    \n",
       "</tr>\n",
       "        \n",
       "            <tr style=\"background-color: hsl(0, 100.00%, 89.96%); border: none;\">\n",
       "    <td style=\"padding: 0 1em 0 0.5em; text-align: right; border: none;\">\n",
       "        -1.237\n",
       "    </td>\n",
       "    <td style=\"padding: 0 0.5em 0 0.5em; text-align: left; border: none;\">\n",
       "        +2:word[-3:]:ová\n",
       "    </td>\n",
       "    \n",
       "</tr>\n",
       "        \n",
       "            <tr style=\"background-color: hsl(0, 100.00%, 87.66%); border: none;\">\n",
       "    <td style=\"padding: 0 1em 0 0.5em; text-align: right; border: none;\">\n",
       "        -1.659\n",
       "    </td>\n",
       "    <td style=\"padding: 0 0.5em 0 0.5em; text-align: left; border: none;\">\n",
       "        +1:word.regex_rule:A\n",
       "    </td>\n",
       "    \n",
       "</tr>\n",
       "        \n",
       "            <tr style=\"background-color: hsl(0, 100.00%, 87.10%); border: none;\">\n",
       "    <td style=\"padding: 0 1em 0 0.5em; text-align: right; border: none;\">\n",
       "        -1.768\n",
       "    </td>\n",
       "    <td style=\"padding: 0 0.5em 0 0.5em; text-align: left; border: none;\">\n",
       "        -1:word.regex_rule:A\n",
       "    </td>\n",
       "    \n",
       "</tr>\n",
       "        \n",
       "\n",
       "        </tbody>\n",
       "    </table>\n",
       "\n",
       "                                \n",
       "                            \n",
       "                        </td>\n",
       "                    \n",
       "                        <td style=\"padding: 0px; border: 1px solid black; vertical-align: top;\">\n",
       "                            \n",
       "                                \n",
       "                                    \n",
       "                                    \n",
       "    \n",
       "    <table class=\"eli5-weights\"\n",
       "           style=\"border-collapse: collapse; border: none; margin-top: 0em; table-layout: auto; width: 100%;\">\n",
       "        <thead>\n",
       "        <tr style=\"border: none;\">\n",
       "            \n",
       "                <th style=\"padding: 0 1em 0 0.5em; text-align: right; border: none;\" title=\"Feature weights. Note that weights do not account for feature value scales, so if feature values have different scales, features with highest weights might not be the most important.\">\n",
       "                    Weight<sup>?</sup>\n",
       "                </th>\n",
       "            \n",
       "            <th style=\"padding: 0 0.5em 0 0.5em; text-align: left; border: none;\">Feature</th>\n",
       "            \n",
       "        </tr>\n",
       "        </thead>\n",
       "        <tbody>\n",
       "        \n",
       "            <tr style=\"background-color: hsl(120, 100.00%, 80.64%); border: none;\">\n",
       "    <td style=\"padding: 0 1em 0 0.5em; text-align: right; border: none;\">\n",
       "        +3.157\n",
       "    </td>\n",
       "    <td style=\"padding: 0 0.5em 0 0.5em; text-align: left; border: none;\">\n",
       "        word.POS_tag:RR\n",
       "    </td>\n",
       "    \n",
       "</tr>\n",
       "        \n",
       "            <tr style=\"background-color: hsl(120, 100.00%, 87.10%); border: none;\">\n",
       "    <td style=\"padding: 0 1em 0 0.5em; text-align: right; border: none;\">\n",
       "        +1.768\n",
       "    </td>\n",
       "    <td style=\"padding: 0 0.5em 0 0.5em; text-align: left; border: none;\">\n",
       "        -1:word.regex_rule:A\n",
       "    </td>\n",
       "    \n",
       "</tr>\n",
       "        \n",
       "            <tr style=\"background-color: hsl(120, 100.00%, 87.66%); border: none;\">\n",
       "    <td style=\"padding: 0 1em 0 0.5em; text-align: right; border: none;\">\n",
       "        +1.659\n",
       "    </td>\n",
       "    <td style=\"padding: 0 0.5em 0 0.5em; text-align: left; border: none;\">\n",
       "        +1:word.regex_rule:A\n",
       "    </td>\n",
       "    \n",
       "</tr>\n",
       "        \n",
       "            <tr style=\"background-color: hsl(120, 100.00%, 87.99%); border: none;\">\n",
       "    <td style=\"padding: 0 1em 0 0.5em; text-align: right; border: none;\">\n",
       "        +1.596\n",
       "    </td>\n",
       "    <td style=\"padding: 0 0.5em 0 0.5em; text-align: left; border: none;\">\n",
       "        +1:word[-3:]:021\n",
       "    </td>\n",
       "    \n",
       "</tr>\n",
       "        \n",
       "            <tr style=\"background-color: hsl(120, 100.00%, 89.79%); border: none;\">\n",
       "    <td style=\"padding: 0 1em 0 0.5em; text-align: right; border: none;\">\n",
       "        +1.267\n",
       "    </td>\n",
       "    <td style=\"padding: 0 0.5em 0 0.5em; text-align: left; border: none;\">\n",
       "        word[-3:]:ení\n",
       "    </td>\n",
       "    \n",
       "</tr>\n",
       "        \n",
       "            <tr style=\"background-color: hsl(120, 100.00%, 89.96%); border: none;\">\n",
       "    <td style=\"padding: 0 1em 0 0.5em; text-align: right; border: none;\">\n",
       "        +1.237\n",
       "    </td>\n",
       "    <td style=\"padding: 0 0.5em 0 0.5em; text-align: left; border: none;\">\n",
       "        +2:word[-3:]:ová\n",
       "    </td>\n",
       "    \n",
       "</tr>\n",
       "        \n",
       "            <tr style=\"background-color: hsl(120, 100.00%, 92.78%); border: none;\">\n",
       "    <td style=\"padding: 0 1em 0 0.5em; text-align: right; border: none;\">\n",
       "        +0.771\n",
       "    </td>\n",
       "    <td style=\"padding: 0 0.5em 0 0.5em; text-align: left; border: none;\">\n",
       "        regex_rule:O\n",
       "    </td>\n",
       "    \n",
       "</tr>\n",
       "        \n",
       "            <tr style=\"background-color: hsl(120, 100.00%, 93.32%); border: none;\">\n",
       "    <td style=\"padding: 0 1em 0 0.5em; text-align: right; border: none;\">\n",
       "        +0.691\n",
       "    </td>\n",
       "    <td style=\"padding: 0 0.5em 0 0.5em; text-align: left; border: none;\">\n",
       "        word:,\n",
       "    </td>\n",
       "    \n",
       "</tr>\n",
       "        \n",
       "            <tr style=\"background-color: hsl(120, 100.00%, 93.32%); border: none;\">\n",
       "    <td style=\"padding: 0 1em 0 0.5em; text-align: right; border: none;\">\n",
       "        +0.691\n",
       "    </td>\n",
       "    <td style=\"padding: 0 0.5em 0 0.5em; text-align: left; border: none;\">\n",
       "        word[-3:]:,\n",
       "    </td>\n",
       "    \n",
       "</tr>\n",
       "        \n",
       "            <tr style=\"background-color: hsl(120, 100.00%, 93.33%); border: none;\">\n",
       "    <td style=\"padding: 0 1em 0 0.5em; text-align: right; border: none;\">\n",
       "        +0.689\n",
       "    </td>\n",
       "    <td style=\"padding: 0 0.5em 0 0.5em; text-align: left; border: none;\">\n",
       "        word:0\n",
       "    </td>\n",
       "    \n",
       "</tr>\n",
       "        \n",
       "            <tr style=\"background-color: hsl(120, 100.00%, 93.33%); border: none;\">\n",
       "    <td style=\"padding: 0 1em 0 0.5em; text-align: right; border: none;\">\n",
       "        +0.689\n",
       "    </td>\n",
       "    <td style=\"padding: 0 0.5em 0 0.5em; text-align: left; border: none;\">\n",
       "        word[-3:]:0\n",
       "    </td>\n",
       "    \n",
       "</tr>\n",
       "        \n",
       "            <tr style=\"background-color: hsl(120, 100.00%, 94.92%); border: none;\">\n",
       "    <td style=\"padding: 0 1em 0 0.5em; text-align: right; border: none;\">\n",
       "        +0.467\n",
       "    </td>\n",
       "    <td style=\"padding: 0 0.5em 0 0.5em; text-align: left; border: none;\">\n",
       "        word[-3:]:-\n",
       "    </td>\n",
       "    \n",
       "</tr>\n",
       "        \n",
       "            <tr style=\"background-color: hsl(120, 100.00%, 94.92%); border: none;\">\n",
       "    <td style=\"padding: 0 1em 0 0.5em; text-align: right; border: none;\">\n",
       "        +0.467\n",
       "    </td>\n",
       "    <td style=\"padding: 0 0.5em 0 0.5em; text-align: left; border: none;\">\n",
       "        word:-\n",
       "    </td>\n",
       "    \n",
       "</tr>\n",
       "        \n",
       "            <tr style=\"background-color: hsl(120, 100.00%, 95.25%); border: none;\">\n",
       "    <td style=\"padding: 0 1em 0 0.5em; text-align: right; border: none;\">\n",
       "        +0.424\n",
       "    </td>\n",
       "    <td style=\"padding: 0 0.5em 0 0.5em; text-align: left; border: none;\">\n",
       "        word:18.11.2019\n",
       "    </td>\n",
       "    \n",
       "</tr>\n",
       "        \n",
       "            <tr style=\"background-color: hsl(120, 100.00%, 95.61%); border: none;\">\n",
       "    <td style=\"padding: 0 1em 0 0.5em; text-align: right; border: none;\">\n",
       "        +0.379\n",
       "    </td>\n",
       "    <td style=\"padding: 0 0.5em 0 0.5em; text-align: left; border: none;\">\n",
       "        +1:word.POS_tag:AA\n",
       "    </td>\n",
       "    \n",
       "</tr>\n",
       "        \n",
       "            <tr style=\"background-color: hsl(120, 100.00%, 95.62%); border: none;\">\n",
       "    <td style=\"padding: 0 1em 0 0.5em; text-align: right; border: none;\">\n",
       "        +0.378\n",
       "    </td>\n",
       "    <td style=\"padding: 0 0.5em 0 0.5em; text-align: left; border: none;\">\n",
       "        word[-3:]:===\n",
       "    </td>\n",
       "    \n",
       "</tr>\n",
       "        \n",
       "            <tr style=\"background-color: hsl(120, 100.00%, 95.80%); border: none;\">\n",
       "    <td style=\"padding: 0 1em 0 0.5em; text-align: right; border: none;\">\n",
       "        +0.356\n",
       "    </td>\n",
       "    <td style=\"padding: 0 0.5em 0 0.5em; text-align: left; border: none;\">\n",
       "        word[-3:]::\n",
       "    </td>\n",
       "    \n",
       "</tr>\n",
       "        \n",
       "            <tr style=\"background-color: hsl(120, 100.00%, 95.80%); border: none;\">\n",
       "    <td style=\"padding: 0 1em 0 0.5em; text-align: right; border: none;\">\n",
       "        +0.356\n",
       "    </td>\n",
       "    <td style=\"padding: 0 0.5em 0 0.5em; text-align: left; border: none;\">\n",
       "        word::\n",
       "    </td>\n",
       "    \n",
       "</tr>\n",
       "        \n",
       "            <tr style=\"background-color: hsl(120, 100.00%, 96.20%); border: none;\">\n",
       "    <td style=\"padding: 0 1em 0 0.5em; text-align: right; border: none;\">\n",
       "        +0.309\n",
       "    </td>\n",
       "    <td style=\"padding: 0 0.5em 0 0.5em; text-align: left; border: none;\">\n",
       "        word.POS_tag:Z:\n",
       "    </td>\n",
       "    \n",
       "</tr>\n",
       "        \n",
       "            <tr style=\"background-color: hsl(120, 100.00%, 96.38%); border: none;\">\n",
       "    <td style=\"padding: 0 1em 0 0.5em; text-align: right; border: none;\">\n",
       "        +0.288\n",
       "    </td>\n",
       "    <td style=\"padding: 0 0.5em 0 0.5em; text-align: left; border: none;\">\n",
       "        -1:word.POS_tag:C=\n",
       "    </td>\n",
       "    \n",
       "</tr>\n",
       "        \n",
       "        \n",
       "            <tr style=\"background-color: hsl(120, 100.00%, 96.38%); border: none;\">\n",
       "                <td colspan=\"2\" style=\"padding: 0 0.5em 0 0.5em; text-align: center; border: none; white-space: nowrap;\">\n",
       "                    <i>&hellip; 170 more positive &hellip;</i>\n",
       "                </td>\n",
       "            </tr>\n",
       "        \n",
       "\n",
       "        \n",
       "            <tr style=\"background-color: hsl(0, 100.00%, 91.87%); border: none;\">\n",
       "                <td colspan=\"2\" style=\"padding: 0 0.5em 0 0.5em; text-align: center; border: none; white-space: nowrap;\">\n",
       "                    <i>&hellip; 265 more negative &hellip;</i>\n",
       "                </td>\n",
       "            </tr>\n",
       "        \n",
       "        \n",
       "            <tr style=\"background-color: hsl(0, 100.00%, 91.87%); border: none;\">\n",
       "    <td style=\"padding: 0 1em 0 0.5em; text-align: right; border: none;\">\n",
       "        -0.914\n",
       "    </td>\n",
       "    <td style=\"padding: 0 0.5em 0 0.5em; text-align: left; border: none;\">\n",
       "        word.POS_tag:PS\n",
       "    </td>\n",
       "    \n",
       "</tr>\n",
       "        \n",
       "            <tr style=\"background-color: hsl(0, 100.00%, 91.83%); border: none;\">\n",
       "    <td style=\"padding: 0 1em 0 0.5em; text-align: right; border: none;\">\n",
       "        -0.921\n",
       "    </td>\n",
       "    <td style=\"padding: 0 0.5em 0 0.5em; text-align: left; border: none;\">\n",
       "        word:MOU\n",
       "    </td>\n",
       "    \n",
       "</tr>\n",
       "        \n",
       "            <tr style=\"background-color: hsl(0, 100.00%, 91.83%); border: none;\">\n",
       "    <td style=\"padding: 0 1em 0 0.5em; text-align: right; border: none;\">\n",
       "        -0.921\n",
       "    </td>\n",
       "    <td style=\"padding: 0 0.5em 0 0.5em; text-align: left; border: none;\">\n",
       "        word[-3:]:MOU\n",
       "    </td>\n",
       "    \n",
       "</tr>\n",
       "        \n",
       "            <tr style=\"background-color: hsl(0, 100.00%, 91.71%); border: none;\">\n",
       "    <td style=\"padding: 0 1em 0 0.5em; text-align: right; border: none;\">\n",
       "        -0.940\n",
       "    </td>\n",
       "    <td style=\"padding: 0 0.5em 0 0.5em; text-align: left; border: none;\">\n",
       "        word[-3:]:018\n",
       "    </td>\n",
       "    \n",
       "</tr>\n",
       "        \n",
       "            <tr style=\"background-color: hsl(0, 100.00%, 91.58%); border: none;\">\n",
       "    <td style=\"padding: 0 1em 0 0.5em; text-align: right; border: none;\">\n",
       "        -0.962\n",
       "    </td>\n",
       "    <td style=\"padding: 0 0.5em 0 0.5em; text-align: left; border: none;\">\n",
       "        word[-3:]:OCH\n",
       "    </td>\n",
       "    \n",
       "</tr>\n",
       "        \n",
       "            <tr style=\"background-color: hsl(0, 100.00%, 91.58%); border: none;\">\n",
       "    <td style=\"padding: 0 1em 0 0.5em; text-align: right; border: none;\">\n",
       "        -0.962\n",
       "    </td>\n",
       "    <td style=\"padding: 0 0.5em 0 0.5em; text-align: left; border: none;\">\n",
       "        word:OMKOCH\n",
       "    </td>\n",
       "    \n",
       "</tr>\n",
       "        \n",
       "            <tr style=\"background-color: hsl(0, 100.00%, 91.26%); border: none;\">\n",
       "    <td style=\"padding: 0 1em 0 0.5em; text-align: right; border: none;\">\n",
       "        -1.013\n",
       "    </td>\n",
       "    <td style=\"padding: 0 0.5em 0 0.5em; text-align: left; border: none;\">\n",
       "        -1:word[-3:]:tel\n",
       "    </td>\n",
       "    \n",
       "</tr>\n",
       "        \n",
       "            <tr style=\"background-color: hsl(0, 100.00%, 91.23%); border: none;\">\n",
       "    <td style=\"padding: 0 1em 0 0.5em; text-align: right; border: none;\">\n",
       "        -1.019\n",
       "    </td>\n",
       "    <td style=\"padding: 0 0.5em 0 0.5em; text-align: left; border: none;\">\n",
       "        word[-3:]:tel\n",
       "    </td>\n",
       "    \n",
       "</tr>\n",
       "        \n",
       "            <tr style=\"background-color: hsl(0, 100.00%, 90.74%); border: none;\">\n",
       "    <td style=\"padding: 0 1em 0 0.5em; text-align: right; border: none;\">\n",
       "        -1.101\n",
       "    </td>\n",
       "    <td style=\"padding: 0 0.5em 0 0.5em; text-align: left; border: none;\">\n",
       "        word[-3:]:od.\n",
       "    </td>\n",
       "    \n",
       "</tr>\n",
       "        \n",
       "            <tr style=\"background-color: hsl(0, 100.00%, 90.57%); border: none;\">\n",
       "    <td style=\"padding: 0 1em 0 0.5em; text-align: right; border: none;\">\n",
       "        -1.130\n",
       "    </td>\n",
       "    <td style=\"padding: 0 0.5em 0 0.5em; text-align: left; border: none;\">\n",
       "        word.POS_tag:C=\n",
       "    </td>\n",
       "    \n",
       "</tr>\n",
       "        \n",
       "            <tr style=\"background-color: hsl(0, 100.00%, 90.57%); border: none;\">\n",
       "    <td style=\"padding: 0 1em 0 0.5em; text-align: right; border: none;\">\n",
       "        -1.130\n",
       "    </td>\n",
       "    <td style=\"padding: 0 0.5em 0 0.5em; text-align: left; border: none;\">\n",
       "        word[-3:]:021\n",
       "    </td>\n",
       "    \n",
       "</tr>\n",
       "        \n",
       "            <tr style=\"background-color: hsl(0, 100.00%, 90.14%); border: none;\">\n",
       "    <td style=\"padding: 0 1em 0 0.5em; text-align: right; border: none;\">\n",
       "        -1.204\n",
       "    </td>\n",
       "    <td style=\"padding: 0 0.5em 0 0.5em; text-align: left; border: none;\">\n",
       "        -2:word[-3:]:PA\n",
       "    </td>\n",
       "    \n",
       "</tr>\n",
       "        \n",
       "            <tr style=\"background-color: hsl(0, 100.00%, 90.14%); border: none;\">\n",
       "    <td style=\"padding: 0 1em 0 0.5em; text-align: right; border: none;\">\n",
       "        -1.204\n",
       "    </td>\n",
       "    <td style=\"padding: 0 0.5em 0 0.5em; text-align: left; border: none;\">\n",
       "        -2:word:PA\n",
       "    </td>\n",
       "    \n",
       "</tr>\n",
       "        \n",
       "            <tr style=\"background-color: hsl(0, 100.00%, 90.07%); border: none;\">\n",
       "    <td style=\"padding: 0 1em 0 0.5em; text-align: right; border: none;\">\n",
       "        -1.216\n",
       "    </td>\n",
       "    <td style=\"padding: 0 0.5em 0 0.5em; text-align: left; border: none;\">\n",
       "        word[-3:]:sko\n",
       "    </td>\n",
       "    \n",
       "</tr>\n",
       "        \n",
       "            <tr style=\"background-color: hsl(0, 100.00%, 88.67%); border: none;\">\n",
       "    <td style=\"padding: 0 1em 0 0.5em; text-align: right; border: none;\">\n",
       "        -1.468\n",
       "    </td>\n",
       "    <td style=\"padding: 0 0.5em 0 0.5em; text-align: left; border: none;\">\n",
       "        word[-3:]:020\n",
       "    </td>\n",
       "    \n",
       "</tr>\n",
       "        \n",
       "            <tr style=\"background-color: hsl(0, 100.00%, 88.16%); border: none;\">\n",
       "    <td style=\"padding: 0 1em 0 0.5em; text-align: right; border: none;\">\n",
       "        -1.564\n",
       "    </td>\n",
       "    <td style=\"padding: 0 0.5em 0 0.5em; text-align: left; border: none;\">\n",
       "        word[-3:]:ová\n",
       "    </td>\n",
       "    \n",
       "</tr>\n",
       "        \n",
       "            <tr style=\"background-color: hsl(0, 100.00%, 87.83%); border: none;\">\n",
       "    <td style=\"padding: 0 1em 0 0.5em; text-align: right; border: none;\">\n",
       "        -1.626\n",
       "    </td>\n",
       "    <td style=\"padding: 0 0.5em 0 0.5em; text-align: left; border: none;\">\n",
       "        +1:word[-3:]:ová\n",
       "    </td>\n",
       "    \n",
       "</tr>\n",
       "        \n",
       "            <tr style=\"background-color: hsl(0, 100.00%, 86.27%); border: none;\">\n",
       "    <td style=\"padding: 0 1em 0 0.5em; text-align: right; border: none;\">\n",
       "        -1.933\n",
       "    </td>\n",
       "    <td style=\"padding: 0 0.5em 0 0.5em; text-align: left; border: none;\">\n",
       "        word:MOÚ\n",
       "    </td>\n",
       "    \n",
       "</tr>\n",
       "        \n",
       "            <tr style=\"background-color: hsl(0, 100.00%, 86.27%); border: none;\">\n",
       "    <td style=\"padding: 0 1em 0 0.5em; text-align: right; border: none;\">\n",
       "        -1.933\n",
       "    </td>\n",
       "    <td style=\"padding: 0 0.5em 0 0.5em; text-align: left; border: none;\">\n",
       "        word[-3:]:MOÚ\n",
       "    </td>\n",
       "    \n",
       "</tr>\n",
       "        \n",
       "            <tr style=\"background-color: hsl(0, 100.00%, 80.00%); border: none;\">\n",
       "    <td style=\"padding: 0 1em 0 0.5em; text-align: right; border: none;\">\n",
       "        -3.308\n",
       "    </td>\n",
       "    <td style=\"padding: 0 0.5em 0 0.5em; text-align: left; border: none;\">\n",
       "        regex_rule:A\n",
       "    </td>\n",
       "    \n",
       "</tr>\n",
       "        \n",
       "\n",
       "        </tbody>\n",
       "    </table>\n",
       "\n",
       "                                \n",
       "                            \n",
       "                        </td>\n",
       "                    \n",
       "                \n",
       "            </tr>\n",
       "        </table>\n",
       "    \n",
       "\n",
       "    \n",
       "        \n",
       "\n",
       "\n",
       "    \n",
       "        \n",
       "\n",
       "\n",
       "    \n",
       "\n",
       "\n",
       "    \n",
       "\n",
       "    \n",
       "\n",
       "    \n",
       "\n",
       "\n",
       "    \n",
       "\n",
       "    \n",
       "\n",
       "    \n",
       "\n",
       "    \n",
       "\n",
       "    \n",
       "\n",
       "    \n",
       "\n",
       "\n",
       "    \n",
       "\n",
       "    \n",
       "\n",
       "    \n",
       "\n",
       "    \n",
       "\n",
       "    \n",
       "\n",
       "    \n",
       "\n",
       "\n",
       "\n"
      ],
      "text/plain": [
       "<IPython.core.display.HTML object>"
      ]
     },
     "execution_count": 88,
     "metadata": {},
     "output_type": "execute_result"
    }
   ],
   "source": [
    "import eli5\n",
    "\n",
    "eli5.show_weights(crf4_optimized, top=(20, 20))"
   ]
  },
  {
   "cell_type": "code",
   "execution_count": 89,
   "id": "41a5e42b-5c9f-4e2b-86a1-c525462b65fe",
   "metadata": {},
   "outputs": [],
   "source": [
    "save_model_evaluation(\"CRF Contextual Features + REGEX\", crf4_optimized_report, crf_models_report)"
   ]
  },
  {
   "cell_type": "markdown",
   "id": "2513f1c0-eb10-429d-ac76-a12c3505aa63",
   "metadata": {},
   "source": [
    "###### Evaluation on Test Data"
   ]
  },
  {
   "cell_type": "code",
   "execution_count": 90,
   "id": "96db5ff8-dd28-4f21-82ba-ce48d48c37d4",
   "metadata": {},
   "outputs": [
    {
     "data": {
      "image/png": "[encoded data removed]",
      "text/plain": [
       "<Figure size 640x480 with 2 Axes>"
      ]
     },
     "metadata": {},
     "output_type": "display_data"
    },
    {
     "name": "stdout",
     "output_type": "stream",
     "text": [
      "              precision    recall  f1-score   support\n",
      "\n",
      "           A     0.8145    0.8295    0.8219       217\n",
      "           O     0.9951    0.9946    0.9949      7607\n",
      "\n",
      "    accuracy                         0.9900      7824\n",
      "   macro avg     0.9048    0.9121    0.9084      7824\n",
      "weighted avg     0.9901    0.9900    0.9901      7824\n",
      "\n"
     ]
    }
   ],
   "source": [
    "crf4_optimized = rs4.best_estimator_\n",
    "y_test_pred = crf4_optimized.predict(X_test_crf4)\n",
    "crf4_optimized_report_test = model_report(y_test_crf, y_test_pred, labels)"
   ]
  },
  {
   "cell_type": "code",
   "execution_count": 91,
   "id": "2409dc46-8c1c-4334-bcb4-90af038b64ae",
   "metadata": {},
   "outputs": [],
   "source": [
    "save_model_evaluation(\"CRF Contextual Features + REGEX\", crf4_optimized_report_test, crf_test_models_report)"
   ]
  },
  {
   "cell_type": "markdown",
   "id": "720d6846-8940-44bf-b35e-19ed0195c1e6",
   "metadata": {
    "jp-MarkdownHeadingCollapsed": true
   },
   "source": [
    "##### CRF Model No.5 Basic Feature Set + REGEX PostProcessing"
   ]
  },
  {
   "cell_type": "markdown",
   "id": "8ff8c695-08f1-4f5b-82c6-d5c521c135fd",
   "metadata": {},
   "source": [
    "Validation Set"
   ]
  },
  {
   "cell_type": "code",
   "execution_count": 92,
   "id": "16ee81a7-6173-4cfc-8438-394a5c591c5f",
   "metadata": {},
   "outputs": [],
   "source": [
    "y_val_pred = crf1_optimized.predict(X_val_crf)\n",
    "y_val_pred = REGEX_postprocessing(X_val, y_val_pred)"
   ]
  },
  {
   "cell_type": "code",
   "execution_count": 93,
   "id": "f11c0aeb-232e-4ab8-831d-1de532367c9b",
   "metadata": {},
   "outputs": [
    {
     "data": {
      "image/png": "[encoded data removed]",
      "text/plain": [
       "<Figure size 640x480 with 2 Axes>"
      ]
     },
     "metadata": {},
     "output_type": "display_data"
    },
    {
     "name": "stdout",
     "output_type": "stream",
     "text": [
      "              precision    recall  f1-score   support\n",
      "\n",
      "           A     0.7011    0.8839    0.7820       353\n",
      "           O     0.9947    0.9830    0.9888      7813\n",
      "\n",
      "    accuracy                         0.9787      8166\n",
      "   macro avg     0.8479    0.9334    0.8854      8166\n",
      "weighted avg     0.9820    0.9787    0.9799      8166\n",
      "\n"
     ]
    }
   ],
   "source": [
    "crf1_optimized_postregex_report = model_report(y_val_crf, y_val_pred, labels)"
   ]
  },
  {
   "cell_type": "code",
   "execution_count": 94,
   "id": "63721150-3830-447b-ad0e-df1d17f05d5e",
   "metadata": {},
   "outputs": [],
   "source": [
    "save_model_evaluation(\"CRF Basic Features + REGEX PostProcessing\", crf1_optimized_postregex_report , crf_models_report)"
   ]
  },
  {
   "cell_type": "markdown",
   "id": "d122305d-9101-4e65-a1d2-ecca6e0232d2",
   "metadata": {},
   "source": [
    "Test Set"
   ]
  },
  {
   "cell_type": "code",
   "execution_count": 95,
   "id": "e067a099-f44e-4879-9c81-fc03a99354fe",
   "metadata": {},
   "outputs": [],
   "source": [
    "y_test_pred = crf1_optimized.predict(X_test_crf)\n",
    "y_test_pred = REGEX_postprocessing(X_test, y_test_pred)"
   ]
  },
  {
   "cell_type": "code",
   "execution_count": 96,
   "id": "1d3bda25-6e34-452c-8b27-3c229b93bce0",
   "metadata": {},
   "outputs": [
    {
     "data": {
      "image/png": "[encoded data removed]",
      "text/plain": [
       "<Figure size 640x480 with 2 Axes>"
      ]
     },
     "metadata": {},
     "output_type": "display_data"
    },
    {
     "name": "stdout",
     "output_type": "stream",
     "text": [
      "              precision    recall  f1-score   support\n",
      "\n",
      "           A     0.5277    0.8341    0.6464       217\n",
      "           O     0.9952    0.9787    0.9869      7607\n",
      "\n",
      "    accuracy                         0.9747      7824\n",
      "   macro avg     0.7614    0.9064    0.8167      7824\n",
      "weighted avg     0.9822    0.9747    0.9774      7824\n",
      "\n"
     ]
    }
   ],
   "source": [
    "crf1_optimized_postregex_report_test = model_report(y_test_crf, y_test_pred, labels)"
   ]
  },
  {
   "cell_type": "code",
   "execution_count": 98,
   "id": "d7f4cd47-1e45-4c52-b744-c4354cc29d52",
   "metadata": {},
   "outputs": [],
   "source": [
    "save_model_evaluation(\"CRF Basic Features + REGEX PostProcessing\", crf1_optimized_postregex_report_test , crf_test_models_report)"
   ]
  },
  {
   "cell_type": "markdown",
   "id": "66dbac9d-9ecd-460d-b5ce-1d3b64a05426",
   "metadata": {
    "jp-MarkdownHeadingCollapsed": true
   },
   "source": [
    "##### CRF Model No.6 Contextual Feature Set + REGEX PostProcessing"
   ]
  },
  {
   "cell_type": "markdown",
   "id": "e5ae9c04-1ef8-4efc-b78a-879edb839605",
   "metadata": {},
   "source": [
    "Validation Set"
   ]
  },
  {
   "cell_type": "code",
   "execution_count": 99,
   "id": "f7c5152d-a60b-4aee-a415-d9655d1695ae",
   "metadata": {},
   "outputs": [],
   "source": [
    "y_val_pred = crf2_optimized.predict(X_val_crf2)\n",
    "y_val_pred = REGEX_postprocessing(X_val, y_val_pred)"
   ]
  },
  {
   "cell_type": "code",
   "execution_count": 100,
   "id": "a95baadf-22c4-4341-9ef0-ecc6f98511ea",
   "metadata": {},
   "outputs": [
    {
     "data": {
      "image/png": "[encoded data removed]",
      "text/plain": [
       "<Figure size 640x480 with 2 Axes>"
      ]
     },
     "metadata": {},
     "output_type": "display_data"
    },
    {
     "name": "stdout",
     "output_type": "stream",
     "text": [
      "              precision    recall  f1-score   support\n",
      "\n",
      "           A     0.7913    0.8810    0.8338       353\n",
      "           O     0.9946    0.9895    0.9920      7813\n",
      "\n",
      "    accuracy                         0.9848      8166\n",
      "   macro avg     0.8930    0.9353    0.9129      8166\n",
      "weighted avg     0.9858    0.9848    0.9852      8166\n",
      "\n"
     ]
    }
   ],
   "source": [
    "crf2_optimized_postregex_report = model_report(y_val_crf, y_val_pred, labels)"
   ]
  },
  {
   "cell_type": "code",
   "execution_count": 101,
   "id": "b8812b7c-5232-4ca8-bbf3-950e0a47b0aa",
   "metadata": {},
   "outputs": [],
   "source": [
    "save_model_evaluation(\"CRF Contextual Features + REGEX PostProcessing\", crf2_optimized_postregex_report, crf_models_report)"
   ]
  },
  {
   "cell_type": "markdown",
   "id": "bba79610-d4cb-497a-a730-b7977fee21f3",
   "metadata": {},
   "source": [
    "Test Set"
   ]
  },
  {
   "cell_type": "code",
   "execution_count": 102,
   "id": "c6d4f2a9-b3fb-4e74-966c-392890eca554",
   "metadata": {},
   "outputs": [],
   "source": [
    "y_test_pred = crf2_optimized.predict(X_test_crf2)\n",
    "y_test_pred = REGEX_postprocessing(X_test, y_test_pred)"
   ]
  },
  {
   "cell_type": "code",
   "execution_count": 103,
   "id": "5b72aa72-5618-48c0-b001-0c466c6fc091",
   "metadata": {},
   "outputs": [
    {
     "data": {
      "image/png": "[encoded data removed]",
      "text/plain": [
       "<Figure size 640x480 with 2 Axes>"
      ]
     },
     "metadata": {},
     "output_type": "display_data"
    },
    {
     "name": "stdout",
     "output_type": "stream",
     "text": [
      "              precision    recall  f1-score   support\n",
      "\n",
      "           A     0.5627    0.8479    0.6765       217\n",
      "           O     0.9956    0.9812    0.9883      7607\n",
      "\n",
      "    accuracy                         0.9775      7824\n",
      "   macro avg     0.7791    0.9146    0.8324      7824\n",
      "weighted avg     0.9836    0.9775    0.9797      7824\n",
      "\n"
     ]
    }
   ],
   "source": [
    "crf2_optimized_postregex_report_test = model_report(y_test_crf, y_test_pred, labels)"
   ]
  },
  {
   "cell_type": "code",
   "execution_count": 104,
   "id": "7cb07e64-aac9-4c24-ac6a-1d20d902171d",
   "metadata": {},
   "outputs": [],
   "source": [
    "save_model_evaluation(\"CRF Contextual Features + REGEX PostProcessing\", crf2_optimized_postregex_report_test, crf_test_models_report)"
   ]
  },
  {
   "cell_type": "markdown",
   "id": "01fd701c-002a-418a-9341-bb74a83881d9",
   "metadata": {
    "jp-MarkdownHeadingCollapsed": true
   },
   "source": [
    "#### Model Comparison"
   ]
  },
  {
   "cell_type": "markdown",
   "id": "e2d138c1-d8bd-4d2e-83ce-b923a766f405",
   "metadata": {},
   "source": [
    "##### Evaluation on Validation Data"
   ]
  },
  {
   "cell_type": "code",
   "execution_count": 105,
   "id": "2919a810-fc9b-44b7-a053-388d8bee1a37",
   "metadata": {},
   "outputs": [
    {
     "name": "stdout",
     "output_type": "stream",
     "text": [
      "Precision:\n"
     ]
    },
    {
     "data": {
      "text/html": [
       "<div>\n",
       "<style scoped>\n",
       "    .dataframe tbody tr th:only-of-type {\n",
       "        vertical-align: middle;\n",
       "    }\n",
       "\n",
       "    .dataframe tbody tr th {\n",
       "        vertical-align: top;\n",
       "    }\n",
       "\n",
       "    .dataframe thead th {\n",
       "        text-align: right;\n",
       "    }\n",
       "</style>\n",
       "<table border=\"1\" class=\"dataframe\">\n",
       "  <thead>\n",
       "    <tr style=\"text-align: right;\">\n",
       "      <th></th>\n",
       "      <th>O</th>\n",
       "      <th>A</th>\n",
       "      <th>Weighted Avg</th>\n",
       "      <th>Macro Avg</th>\n",
       "    </tr>\n",
       "  </thead>\n",
       "  <tbody>\n",
       "    <tr>\n",
       "      <th>CRF Contextual Features + REGEX</th>\n",
       "      <td>0.994627</td>\n",
       "      <td>0.891117</td>\n",
       "      <td>0.990153</td>\n",
       "      <td>0.942872</td>\n",
       "    </tr>\n",
       "    <tr>\n",
       "      <th>CRF Contextual Features + REGEX PostProcessing</th>\n",
       "      <td>0.994597</td>\n",
       "      <td>0.791349</td>\n",
       "      <td>0.985811</td>\n",
       "      <td>0.892973</td>\n",
       "    </tr>\n",
       "    <tr>\n",
       "      <th>CRF Contextual Features</th>\n",
       "      <td>0.992302</td>\n",
       "      <td>0.787634</td>\n",
       "      <td>0.983454</td>\n",
       "      <td>0.889968</td>\n",
       "    </tr>\n",
       "    <tr>\n",
       "      <th>CRF Basic Features + REGEX</th>\n",
       "      <td>0.992268</td>\n",
       "      <td>0.721675</td>\n",
       "      <td>0.980571</td>\n",
       "      <td>0.856971</td>\n",
       "    </tr>\n",
       "    <tr>\n",
       "      <th>CRF Basic Features + REGEX PostProcessing</th>\n",
       "      <td>0.994690</td>\n",
       "      <td>0.701124</td>\n",
       "      <td>0.982000</td>\n",
       "      <td>0.847907</td>\n",
       "    </tr>\n",
       "    <tr>\n",
       "      <th>CRF Basic Features</th>\n",
       "      <td>0.991227</td>\n",
       "      <td>0.686747</td>\n",
       "      <td>0.978065</td>\n",
       "      <td>0.838987</td>\n",
       "    </tr>\n",
       "  </tbody>\n",
       "</table>\n",
       "</div>"
      ],
      "text/plain": [
       "                                                       O         A  \\\n",
       "CRF Contextual Features + REGEX                 0.994627  0.891117   \n",
       "CRF Contextual Features + REGEX PostProcessing  0.994597  0.791349   \n",
       "CRF Contextual Features                         0.992302  0.787634   \n",
       "CRF Basic Features + REGEX                      0.992268  0.721675   \n",
       "CRF Basic Features + REGEX PostProcessing       0.994690  0.701124   \n",
       "CRF Basic Features                              0.991227  0.686747   \n",
       "\n",
       "                                                Weighted Avg  Macro Avg  \n",
       "CRF Contextual Features + REGEX                     0.990153   0.942872  \n",
       "CRF Contextual Features + REGEX PostProcessing      0.985811   0.892973  \n",
       "CRF Contextual Features                             0.983454   0.889968  \n",
       "CRF Basic Features + REGEX                          0.980571   0.856971  \n",
       "CRF Basic Features + REGEX PostProcessing           0.982000   0.847907  \n",
       "CRF Basic Features                                  0.978065   0.838987  "
      ]
     },
     "execution_count": 105,
     "metadata": {},
     "output_type": "execute_result"
    }
   ],
   "source": [
    "print(\"Precision:\")\n",
    "crf_models_report[0].sort_values(by='A', ascending=False)"
   ]
  },
  {
   "cell_type": "code",
   "execution_count": 106,
   "id": "8c5872be-c302-4d2a-86f1-acd54e19c749",
   "metadata": {},
   "outputs": [
    {
     "name": "stdout",
     "output_type": "stream",
     "text": [
      "Recall:\n"
     ]
    },
    {
     "data": {
      "text/html": [
       "<div>\n",
       "<style scoped>\n",
       "    .dataframe tbody tr th:only-of-type {\n",
       "        vertical-align: middle;\n",
       "    }\n",
       "\n",
       "    .dataframe tbody tr th {\n",
       "        vertical-align: top;\n",
       "    }\n",
       "\n",
       "    .dataframe thead th {\n",
       "        text-align: right;\n",
       "    }\n",
       "</style>\n",
       "<table border=\"1\" class=\"dataframe\">\n",
       "  <thead>\n",
       "    <tr style=\"text-align: right;\">\n",
       "      <th></th>\n",
       "      <th>O</th>\n",
       "      <th>A</th>\n",
       "      <th>Weighted Avg</th>\n",
       "      <th>Macro Avg</th>\n",
       "    </tr>\n",
       "  </thead>\n",
       "  <tbody>\n",
       "    <tr>\n",
       "      <th>CRF Basic Features + REGEX PostProcessing</th>\n",
       "      <td>0.982977</td>\n",
       "      <td>0.883853</td>\n",
       "      <td>0.978692</td>\n",
       "      <td>0.933415</td>\n",
       "    </tr>\n",
       "    <tr>\n",
       "      <th>CRF Contextual Features + REGEX</th>\n",
       "      <td>0.995136</td>\n",
       "      <td>0.881020</td>\n",
       "      <td>0.990203</td>\n",
       "      <td>0.938078</td>\n",
       "    </tr>\n",
       "    <tr>\n",
       "      <th>CRF Contextual Features + REGEX PostProcessing</th>\n",
       "      <td>0.989505</td>\n",
       "      <td>0.881020</td>\n",
       "      <td>0.984815</td>\n",
       "      <td>0.935262</td>\n",
       "    </tr>\n",
       "    <tr>\n",
       "      <th>CRF Contextual Features</th>\n",
       "      <td>0.989889</td>\n",
       "      <td>0.830028</td>\n",
       "      <td>0.982978</td>\n",
       "      <td>0.909958</td>\n",
       "    </tr>\n",
       "    <tr>\n",
       "      <th>CRF Basic Features + REGEX</th>\n",
       "      <td>0.985537</td>\n",
       "      <td>0.830028</td>\n",
       "      <td>0.978815</td>\n",
       "      <td>0.907783</td>\n",
       "    </tr>\n",
       "    <tr>\n",
       "      <th>CRF Basic Features</th>\n",
       "      <td>0.983361</td>\n",
       "      <td>0.807365</td>\n",
       "      <td>0.975753</td>\n",
       "      <td>0.895363</td>\n",
       "    </tr>\n",
       "  </tbody>\n",
       "</table>\n",
       "</div>"
      ],
      "text/plain": [
       "                                                       O         A  \\\n",
       "CRF Basic Features + REGEX PostProcessing       0.982977  0.883853   \n",
       "CRF Contextual Features + REGEX                 0.995136  0.881020   \n",
       "CRF Contextual Features + REGEX PostProcessing  0.989505  0.881020   \n",
       "CRF Contextual Features                         0.989889  0.830028   \n",
       "CRF Basic Features + REGEX                      0.985537  0.830028   \n",
       "CRF Basic Features                              0.983361  0.807365   \n",
       "\n",
       "                                                Weighted Avg  Macro Avg  \n",
       "CRF Basic Features + REGEX PostProcessing           0.978692   0.933415  \n",
       "CRF Contextual Features + REGEX                     0.990203   0.938078  \n",
       "CRF Contextual Features + REGEX PostProcessing      0.984815   0.935262  \n",
       "CRF Contextual Features                             0.982978   0.909958  \n",
       "CRF Basic Features + REGEX                          0.978815   0.907783  \n",
       "CRF Basic Features                                  0.975753   0.895363  "
      ]
     },
     "execution_count": 106,
     "metadata": {},
     "output_type": "execute_result"
    }
   ],
   "source": [
    "print(\"Recall:\")\n",
    "crf_models_report[1].sort_values(by='A', ascending=False)"
   ]
  },
  {
   "cell_type": "code",
   "execution_count": 107,
   "id": "50085cf7-ecd7-42f9-80c2-541898b901d5",
   "metadata": {},
   "outputs": [
    {
     "name": "stdout",
     "output_type": "stream",
     "text": [
      "F1 score:\n"
     ]
    },
    {
     "data": {
      "text/html": [
       "<div>\n",
       "<style scoped>\n",
       "    .dataframe tbody tr th:only-of-type {\n",
       "        vertical-align: middle;\n",
       "    }\n",
       "\n",
       "    .dataframe tbody tr th {\n",
       "        vertical-align: top;\n",
       "    }\n",
       "\n",
       "    .dataframe thead th {\n",
       "        text-align: right;\n",
       "    }\n",
       "</style>\n",
       "<table border=\"1\" class=\"dataframe\">\n",
       "  <thead>\n",
       "    <tr style=\"text-align: right;\">\n",
       "      <th></th>\n",
       "      <th>O</th>\n",
       "      <th>A</th>\n",
       "      <th>Weighted Avg</th>\n",
       "      <th>Macro Avg</th>\n",
       "    </tr>\n",
       "  </thead>\n",
       "  <tbody>\n",
       "    <tr>\n",
       "      <th>CRF Contextual Features + REGEX</th>\n",
       "      <td>0.994882</td>\n",
       "      <td>0.886040</td>\n",
       "      <td>0.990177</td>\n",
       "      <td>0.940461</td>\n",
       "    </tr>\n",
       "    <tr>\n",
       "      <th>CRF Contextual Features + REGEX PostProcessing</th>\n",
       "      <td>0.992044</td>\n",
       "      <td>0.833780</td>\n",
       "      <td>0.985203</td>\n",
       "      <td>0.912912</td>\n",
       "    </tr>\n",
       "    <tr>\n",
       "      <th>CRF Contextual Features</th>\n",
       "      <td>0.991094</td>\n",
       "      <td>0.808276</td>\n",
       "      <td>0.983191</td>\n",
       "      <td>0.899685</td>\n",
       "    </tr>\n",
       "    <tr>\n",
       "      <th>CRF Basic Features + REGEX PostProcessing</th>\n",
       "      <td>0.988799</td>\n",
       "      <td>0.781955</td>\n",
       "      <td>0.979857</td>\n",
       "      <td>0.885377</td>\n",
       "    </tr>\n",
       "    <tr>\n",
       "      <th>CRF Basic Features + REGEX</th>\n",
       "      <td>0.988891</td>\n",
       "      <td>0.772069</td>\n",
       "      <td>0.979518</td>\n",
       "      <td>0.880480</td>\n",
       "    </tr>\n",
       "    <tr>\n",
       "      <th>CRF Basic Features</th>\n",
       "      <td>0.987278</td>\n",
       "      <td>0.742188</td>\n",
       "      <td>0.976684</td>\n",
       "      <td>0.864733</td>\n",
       "    </tr>\n",
       "  </tbody>\n",
       "</table>\n",
       "</div>"
      ],
      "text/plain": [
       "                                                       O         A  \\\n",
       "CRF Contextual Features + REGEX                 0.994882  0.886040   \n",
       "CRF Contextual Features + REGEX PostProcessing  0.992044  0.833780   \n",
       "CRF Contextual Features                         0.991094  0.808276   \n",
       "CRF Basic Features + REGEX PostProcessing       0.988799  0.781955   \n",
       "CRF Basic Features + REGEX                      0.988891  0.772069   \n",
       "CRF Basic Features                              0.987278  0.742188   \n",
       "\n",
       "                                                Weighted Avg  Macro Avg  \n",
       "CRF Contextual Features + REGEX                     0.990177   0.940461  \n",
       "CRF Contextual Features + REGEX PostProcessing      0.985203   0.912912  \n",
       "CRF Contextual Features                             0.983191   0.899685  \n",
       "CRF Basic Features + REGEX PostProcessing           0.979857   0.885377  \n",
       "CRF Basic Features + REGEX                          0.979518   0.880480  \n",
       "CRF Basic Features                                  0.976684   0.864733  "
      ]
     },
     "execution_count": 107,
     "metadata": {},
     "output_type": "execute_result"
    }
   ],
   "source": [
    "print(\"F1 score:\")\n",
    "crf_models_report[2].sort_values(by='A', ascending=False)"
   ]
  },
  {
   "cell_type": "markdown",
   "id": "2198fd95-bedd-443d-b8d9-a30351c892f5",
   "metadata": {},
   "source": [
    "##### Evaluation of the Best Models on the Test Data"
   ]
  },
  {
   "cell_type": "code",
   "execution_count": 108,
   "id": "29172d4a-b47f-4b58-a9e8-83fbb22c1d1d",
   "metadata": {},
   "outputs": [
    {
     "name": "stdout",
     "output_type": "stream",
     "text": [
      "Precision:\n"
     ]
    },
    {
     "data": {
      "text/html": [
       "<div>\n",
       "<style scoped>\n",
       "    .dataframe tbody tr th:only-of-type {\n",
       "        vertical-align: middle;\n",
       "    }\n",
       "\n",
       "    .dataframe tbody tr th {\n",
       "        vertical-align: top;\n",
       "    }\n",
       "\n",
       "    .dataframe thead th {\n",
       "        text-align: right;\n",
       "    }\n",
       "</style>\n",
       "<table border=\"1\" class=\"dataframe\">\n",
       "  <thead>\n",
       "    <tr style=\"text-align: right;\">\n",
       "      <th></th>\n",
       "      <th>O</th>\n",
       "      <th>A</th>\n",
       "      <th>Weighted Avg</th>\n",
       "      <th>Macro Avg</th>\n",
       "    </tr>\n",
       "  </thead>\n",
       "  <tbody>\n",
       "    <tr>\n",
       "      <th>CRF Contextual Features + REGEX</th>\n",
       "      <td>0.995133</td>\n",
       "      <td>0.814480</td>\n",
       "      <td>0.990123</td>\n",
       "      <td>0.904807</td>\n",
       "    </tr>\n",
       "    <tr>\n",
       "      <th>CRF Contextual Features + REGEX PostProcessing</th>\n",
       "      <td>0.995598</td>\n",
       "      <td>0.562691</td>\n",
       "      <td>0.983591</td>\n",
       "      <td>0.779145</td>\n",
       "    </tr>\n",
       "    <tr>\n",
       "      <th>CRF Contextual Features</th>\n",
       "      <td>0.994274</td>\n",
       "      <td>0.552381</td>\n",
       "      <td>0.982018</td>\n",
       "      <td>0.773327</td>\n",
       "    </tr>\n",
       "    <tr>\n",
       "      <th>CRF Basic Features + REGEX PostProcessing</th>\n",
       "      <td>0.995188</td>\n",
       "      <td>0.527697</td>\n",
       "      <td>0.982222</td>\n",
       "      <td>0.761442</td>\n",
       "    </tr>\n",
       "  </tbody>\n",
       "</table>\n",
       "</div>"
      ],
      "text/plain": [
       "                                                       O         A  \\\n",
       "CRF Contextual Features + REGEX                 0.995133  0.814480   \n",
       "CRF Contextual Features + REGEX PostProcessing  0.995598  0.562691   \n",
       "CRF Contextual Features                         0.994274  0.552381   \n",
       "CRF Basic Features + REGEX PostProcessing       0.995188  0.527697   \n",
       "\n",
       "                                                Weighted Avg  Macro Avg  \n",
       "CRF Contextual Features + REGEX                     0.990123   0.904807  \n",
       "CRF Contextual Features + REGEX PostProcessing      0.983591   0.779145  \n",
       "CRF Contextual Features                             0.982018   0.773327  \n",
       "CRF Basic Features + REGEX PostProcessing           0.982222   0.761442  "
      ]
     },
     "execution_count": 108,
     "metadata": {},
     "output_type": "execute_result"
    }
   ],
   "source": [
    "print(\"Precision:\")\n",
    "crf_test_models_report[0].sort_values(by='A', ascending=False)"
   ]
  },
  {
   "cell_type": "code",
   "execution_count": 109,
   "id": "45d6f87e-697d-47c0-9d70-63fa9c3652f9",
   "metadata": {},
   "outputs": [
    {
     "name": "stdout",
     "output_type": "stream",
     "text": [
      "Recall:\n"
     ]
    },
    {
     "data": {
      "text/html": [
       "<div>\n",
       "<style scoped>\n",
       "    .dataframe tbody tr th:only-of-type {\n",
       "        vertical-align: middle;\n",
       "    }\n",
       "\n",
       "    .dataframe tbody tr th {\n",
       "        vertical-align: top;\n",
       "    }\n",
       "\n",
       "    .dataframe thead th {\n",
       "        text-align: right;\n",
       "    }\n",
       "</style>\n",
       "<table border=\"1\" class=\"dataframe\">\n",
       "  <thead>\n",
       "    <tr style=\"text-align: right;\">\n",
       "      <th></th>\n",
       "      <th>O</th>\n",
       "      <th>A</th>\n",
       "      <th>Weighted Avg</th>\n",
       "      <th>Macro Avg</th>\n",
       "    </tr>\n",
       "  </thead>\n",
       "  <tbody>\n",
       "    <tr>\n",
       "      <th>CRF Contextual Features + REGEX PostProcessing</th>\n",
       "      <td>0.981202</td>\n",
       "      <td>0.847926</td>\n",
       "      <td>0.977505</td>\n",
       "      <td>0.914564</td>\n",
       "    </tr>\n",
       "    <tr>\n",
       "      <th>CRF Basic Features + REGEX PostProcessing</th>\n",
       "      <td>0.978704</td>\n",
       "      <td>0.834101</td>\n",
       "      <td>0.974693</td>\n",
       "      <td>0.906403</td>\n",
       "    </tr>\n",
       "    <tr>\n",
       "      <th>CRF Contextual Features + REGEX</th>\n",
       "      <td>0.994610</td>\n",
       "      <td>0.829493</td>\n",
       "      <td>0.990031</td>\n",
       "      <td>0.912052</td>\n",
       "    </tr>\n",
       "    <tr>\n",
       "      <th>CRF Contextual Features</th>\n",
       "      <td>0.981464</td>\n",
       "      <td>0.801843</td>\n",
       "      <td>0.976483</td>\n",
       "      <td>0.891654</td>\n",
       "    </tr>\n",
       "  </tbody>\n",
       "</table>\n",
       "</div>"
      ],
      "text/plain": [
       "                                                       O         A  \\\n",
       "CRF Contextual Features + REGEX PostProcessing  0.981202  0.847926   \n",
       "CRF Basic Features + REGEX PostProcessing       0.978704  0.834101   \n",
       "CRF Contextual Features + REGEX                 0.994610  0.829493   \n",
       "CRF Contextual Features                         0.981464  0.801843   \n",
       "\n",
       "                                                Weighted Avg  Macro Avg  \n",
       "CRF Contextual Features + REGEX PostProcessing      0.977505   0.914564  \n",
       "CRF Basic Features + REGEX PostProcessing           0.974693   0.906403  \n",
       "CRF Contextual Features + REGEX                     0.990031   0.912052  \n",
       "CRF Contextual Features                             0.976483   0.891654  "
      ]
     },
     "execution_count": 109,
     "metadata": {},
     "output_type": "execute_result"
    }
   ],
   "source": [
    "print(\"Recall:\")\n",
    "crf_test_models_report[1].sort_values(by='A', ascending=False)"
   ]
  },
  {
   "cell_type": "code",
   "execution_count": 110,
   "id": "f6b99cea-b435-46d3-a309-92e5eba55c02",
   "metadata": {},
   "outputs": [
    {
     "name": "stdout",
     "output_type": "stream",
     "text": [
      "F1 score:\n"
     ]
    },
    {
     "data": {
      "text/html": [
       "<div>\n",
       "<style scoped>\n",
       "    .dataframe tbody tr th:only-of-type {\n",
       "        vertical-align: middle;\n",
       "    }\n",
       "\n",
       "    .dataframe tbody tr th {\n",
       "        vertical-align: top;\n",
       "    }\n",
       "\n",
       "    .dataframe thead th {\n",
       "        text-align: right;\n",
       "    }\n",
       "</style>\n",
       "<table border=\"1\" class=\"dataframe\">\n",
       "  <thead>\n",
       "    <tr style=\"text-align: right;\">\n",
       "      <th></th>\n",
       "      <th>O</th>\n",
       "      <th>A</th>\n",
       "      <th>Weighted Avg</th>\n",
       "      <th>Macro Avg</th>\n",
       "    </tr>\n",
       "  </thead>\n",
       "  <tbody>\n",
       "    <tr>\n",
       "      <th>CRF Contextual Features + REGEX</th>\n",
       "      <td>0.994872</td>\n",
       "      <td>0.821918</td>\n",
       "      <td>0.990075</td>\n",
       "      <td>0.908395</td>\n",
       "    </tr>\n",
       "    <tr>\n",
       "      <th>CRF Contextual Features + REGEX PostProcessing</th>\n",
       "      <td>0.988347</td>\n",
       "      <td>0.676471</td>\n",
       "      <td>0.979697</td>\n",
       "      <td>0.832409</td>\n",
       "    </tr>\n",
       "    <tr>\n",
       "      <th>CRF Contextual Features</th>\n",
       "      <td>0.987827</td>\n",
       "      <td>0.654135</td>\n",
       "      <td>0.978572</td>\n",
       "      <td>0.820981</td>\n",
       "    </tr>\n",
       "    <tr>\n",
       "      <th>CRF Basic Features + REGEX PostProcessing</th>\n",
       "      <td>0.986877</td>\n",
       "      <td>0.646429</td>\n",
       "      <td>0.977435</td>\n",
       "      <td>0.816653</td>\n",
       "    </tr>\n",
       "  </tbody>\n",
       "</table>\n",
       "</div>"
      ],
      "text/plain": [
       "                                                       O         A  \\\n",
       "CRF Contextual Features + REGEX                 0.994872  0.821918   \n",
       "CRF Contextual Features + REGEX PostProcessing  0.988347  0.676471   \n",
       "CRF Contextual Features                         0.987827  0.654135   \n",
       "CRF Basic Features + REGEX PostProcessing       0.986877  0.646429   \n",
       "\n",
       "                                                Weighted Avg  Macro Avg  \n",
       "CRF Contextual Features + REGEX                     0.990075   0.908395  \n",
       "CRF Contextual Features + REGEX PostProcessing      0.979697   0.832409  \n",
       "CRF Contextual Features                             0.978572   0.820981  \n",
       "CRF Basic Features + REGEX PostProcessing           0.977435   0.816653  "
      ]
     },
     "execution_count": 110,
     "metadata": {},
     "output_type": "execute_result"
    }
   ],
   "source": [
    "print(\"F1 score:\")\n",
    "crf_test_models_report[2].sort_values(by='A', ascending=False)"
   ]
  },
  {
   "cell_type": "markdown",
   "id": "c6980652-6410-412d-91ef-35fd679bd665",
   "metadata": {
    "jp-MarkdownHeadingCollapsed": true
   },
   "source": [
    "#### Error Analysis"
   ]
  },
  {
   "cell_type": "markdown",
   "id": "be65adfd-fd45-4ea6-817e-d99965668ca2",
   "metadata": {
    "jp-MarkdownHeadingCollapsed": true
   },
   "source": [
    "##### CRF Model No.2 Contextual Feature Set"
   ]
  },
  {
   "cell_type": "code",
   "execution_count": 111,
   "id": "327a0038-a48f-4fd4-8083-47b7778bd477",
   "metadata": {},
   "outputs": [],
   "source": [
    "y_val_pred_crf2 = crf2_optimized.predict(X_val_crf2)\n",
    "y_test_pred_crf2 = crf2_optimized.predict(X_test_crf2)\n",
    "\n",
    "FN_val_crf2, FP_val_crf2 = get_false_predictions(list(X_val['word']), list(y_val), y_val_pred_crf2)\n",
    "FN_test_crf2, FP_test_crf2 = get_false_predictions(list(X_test['word']), list(y_test), y_test_pred_crf2)"
   ]
  },
  {
   "cell_type": "code",
   "execution_count": 113,
   "id": "f902c431-098c-4e09-901e-d7cceeea521b",
   "metadata": {
    "scrolled": true
   },
   "outputs": [
    {
     "name": "stdout",
     "output_type": "stream",
     "text": [
      "Validation Dataset\n",
      "False Negatives:\n",
      "\n",
      "False Positives:\n",
      "\n",
      "Test Dataset\n",
      "False Negatives:\n",
      "\n",
      "False Positives:\n"
     ]
    }
   ],
   "source": [
    "print(\"Validation Dataset\")\n",
    "print(\"False Negatives:\")\n",
    "for false_negative in FN_val_crf2:\n",
    "    #print(false_negative)\n",
    "    pass\n",
    "\n",
    "print(\"\\nFalse Positives:\")\n",
    "for false_positive in FP_val_crf2:\n",
    "    #print(false_positive)\n",
    "    pass\n",
    "\n",
    "print(\"\\nTest Dataset\")\n",
    "print(\"False Negatives:\")\n",
    "for false_negative in FN_test_crf2:\n",
    "    #print(false_negative)\n",
    "    pass\n",
    "\n",
    "print(\"\\nFalse Positives:\")\n",
    "for false_positive in FP_test_crf2:\n",
    "    #print(false_positive)\n",
    "    pass"
   ]
  },
  {
   "cell_type": "markdown",
   "id": "b7552a55-c456-4dcd-b1d2-87232dac11f3",
   "metadata": {
    "jp-MarkdownHeadingCollapsed": true
   },
   "source": [
    "##### CRF Model No.4 Contextual + REGEX Feature Set"
   ]
  },
  {
   "cell_type": "code",
   "execution_count": 114,
   "id": "71331dff-cfc6-4bfd-970f-cf09af725e9a",
   "metadata": {},
   "outputs": [],
   "source": [
    "y_val_pred_crf4 = crf4_optimized.predict(X_val_crf4)\n",
    "y_test_pred_crf4 = crf4_optimized.predict(X_test_crf4)\n",
    "\n",
    "FN_val_crf4, FP_val_crf4 = get_false_predictions(list(X_val['word']), list(y_val), y_val_pred_crf4)\n",
    "FN_test_crf4, FP_test_crf4 = get_false_predictions(list(X_test['word']), list(y_test), y_test_pred_crf4)"
   ]
  },
  {
   "cell_type": "code",
   "execution_count": 115,
   "id": "2ea853ca-9ec2-4a08-9b2d-8053957f0d85",
   "metadata": {},
   "outputs": [
    {
     "name": "stdout",
     "output_type": "stream",
     "text": [
      "Validation Dataset\n",
      "False Negatives:\n",
      "\n",
      "False Positives:\n",
      "\n",
      "Test Dataset\n",
      "False Negatives:\n",
      "\n",
      "False Positives:\n"
     ]
    }
   ],
   "source": [
    "print(\"Validation Dataset\")\n",
    "print(\"False Negatives:\")\n",
    "for false_negative in FN_val_crf4:\n",
    "    #print(false_negative)\n",
    "    pass\n",
    "\n",
    "print(\"\\nFalse Positives:\")\n",
    "for false_positive in FP_val_crf4:\n",
    "    #print(false_positive)\n",
    "    pass\n",
    "\n",
    "print(\"\\nTest Dataset\")\n",
    "print(\"False Negatives:\")\n",
    "for false_negative in FN_test_crf4:\n",
    "    #print(false_negative)\n",
    "    pass\n",
    "\n",
    "print(\"\\nFalse Positives:\")\n",
    "for false_positive in FP_test_crf4:\n",
    "    #print(false_positive)\n",
    "    pass"
   ]
  },
  {
   "cell_type": "markdown",
   "id": "ad516368-0e36-4c2b-bf2d-e6aa4004068b",
   "metadata": {
    "jp-MarkdownHeadingCollapsed": true
   },
   "source": [
    "##### CRF Model No.6 Contextual Feature Set + REGEX PostProcessing"
   ]
  },
  {
   "cell_type": "code",
   "execution_count": 116,
   "id": "3e7f9701-46b4-44f2-8758-8829b4716a2d",
   "metadata": {},
   "outputs": [],
   "source": [
    "y_val_pred_crf6 = crf2_optimized.predict(X_val_crf2)\n",
    "y_val_pred_crf6 = REGEX_postprocessing(X_val, y_val_pred_crf6)\n",
    "\n",
    "y_test_pred_crf6 = crf2_optimized.predict(X_test_crf2)\n",
    "y_test_pred_crf6 = REGEX_postprocessing(X_test, y_test_pred_crf6)"
   ]
  },
  {
   "cell_type": "code",
   "execution_count": 117,
   "id": "c8b274d1-6c6e-49b6-8d13-bd4bb224da7b",
   "metadata": {},
   "outputs": [],
   "source": [
    "FN_val_crf6, FP_val_crf6 = get_false_predictions(list(X_val['word']), list(y_val), y_val_pred_crf6)\n",
    "FN_test_crf6, FP_test_crf6 = get_false_predictions(list(X_test['word']), list(y_test), y_test_pred_crf6)"
   ]
  },
  {
   "cell_type": "code",
   "execution_count": 119,
   "id": "ffc4ca8f-34a7-45c4-9440-b91ca208a531",
   "metadata": {},
   "outputs": [
    {
     "name": "stdout",
     "output_type": "stream",
     "text": [
      "Validation Dataset\n",
      "False Negatives:\n",
      "\n",
      "False Positives:\n",
      "\n",
      "Test Dataset\n",
      "False Negatives:\n",
      "\n",
      "False Positives:\n"
     ]
    }
   ],
   "source": [
    "print(\"Validation Dataset\")\n",
    "print(\"False Negatives:\")\n",
    "for false_negative in FN_val_crf6:\n",
    "    #print(false_negative)\n",
    "    pass\n",
    "\n",
    "print(\"\\nFalse Positives:\")\n",
    "for false_positive in FP_val_crf6:\n",
    "    #print(false_positive)\n",
    "    pass\n",
    "\n",
    "print(\"\\nTest Dataset\")\n",
    "print(\"False Negatives:\")\n",
    "for false_negative in FN_test_crf6:\n",
    "    #print(false_negative)\n",
    "    pass\n",
    "\n",
    "print(\"\\nFalse Positives:\")\n",
    "for false_positive in FP_test_crf6:\n",
    "    #print(false_positive)\n",
    "    pass"
   ]
  },
  {
   "cell_type": "markdown",
   "id": "78aebc75-d994-4f14-898a-1779c0ee565f",
   "metadata": {
    "jp-MarkdownHeadingCollapsed": true
   },
   "source": [
    "##### Saving the Best CRF Model"
   ]
  },
  {
   "cell_type": "code",
   "execution_count": 120,
   "id": "a8304fc4-7af4-45a6-8bba-f33f4bea64a4",
   "metadata": {},
   "outputs": [],
   "source": [
    "import pickle\n",
    "\n",
    "with open('./models/crf_model.pkl', 'wb') as file:\n",
    "    pickle.dump(crf4_optimized, file)"
   ]
  },
  {
   "cell_type": "markdown",
   "id": "ed310422-e31d-466a-93fc-2d9f114198c7",
   "metadata": {},
   "source": [
    "### RobeCzech Model"
   ]
  },
  {
   "cell_type": "markdown",
   "id": "29f7ce47-9b85-4c76-b239-1a025faf2ba5",
   "metadata": {
    "jp-MarkdownHeadingCollapsed": true
   },
   "source": [
    "#### Imports"
   ]
  },
  {
   "cell_type": "code",
   "execution_count": 121,
   "id": "058e4ea6-64b0-492f-b35a-6295c4c3a66b",
   "metadata": {},
   "outputs": [],
   "source": [
    "import torch \n",
    "import torch.nn as nn \n",
    "import torch.optim as optim\n",
    "from torch import cuda\n",
    "from transformers import BertTokenizerFast, AutoModelForTokenClassification, TrainingArguments, Trainer\n",
    "from transformers import DataCollatorForTokenClassification, pipeline\n",
    "import datasets\n",
    "from datasets import Dataset, DatasetDict\n",
    "import tqdm    "
   ]
  },
  {
   "cell_type": "markdown",
   "id": "c88d27e0-8399-4d98-b78a-27fc910879d8",
   "metadata": {
    "jp-MarkdownHeadingCollapsed": true
   },
   "source": [
    "#### Evaluation Report Initialization"
   ]
  },
  {
   "cell_type": "code",
   "execution_count": 122,
   "id": "6c1391ce-8ab1-4293-a39d-e371f1393dc8",
   "metadata": {},
   "outputs": [
    {
     "name": "stderr",
     "output_type": "stream",
     "text": [
      "/tmp/ipykernel_7834/1271253569.py:1: FutureWarning: load_metric is deprecated and will be removed in the next major version of datasets. Use 'evaluate.load' instead, from the new library 🤗 Evaluate: https://huggingface.co/docs/evaluate\n",
      "  metrics = datasets.load_metric(\"seqeval\")\n",
      "/usr/local/lib/python3.8/dist-packages/datasets/load.py:753: FutureWarning: The repository for seqeval contains custom code which must be executed to correctly load the metric. You can inspect the repository content at https://raw.githubusercontent.com/huggingface/datasets/2.17.1/metrics/seqeval/seqeval.py\n",
      "You can avoid this message in future by passing the argument `trust_remote_code=True`.\n",
      "Passing `trust_remote_code=True` will be mandatory to load this metric from the next major release of `datasets`.\n",
      "  warnings.warn(\n"
     ]
    }
   ],
   "source": [
    "metrics = datasets.load_metric(\"seqeval\")\n",
    "label_list = [\"O\", \"B-A\"]\n",
    "\n",
    "def compute_metrics(log):\n",
    "    predictions, labels = log\n",
    "    predictions = np.argmax(predictions, axis=2)\n",
    "    true_predictions = [[label_list[pred] for (pred, tag) in zip(prediction,label) if tag != -100] \n",
    "                        for prediction, label in zip(predictions,labels)]\n",
    "    true_labels = [[label_list[tag] for (pred, tag) in zip(prediction, label)if tag != -100] \n",
    "                   for prediction, label in zip(predictions, labels)]\n",
    "    results = metrics.compute(predictions=true_predictions,references=true_labels)\n",
    "\n",
    "    return {\n",
    "        \"Precision\": results[\"overall_precision\"],\n",
    "        \"Recall\": results[\"overall_recall\"],\n",
    "        \"F1 Score\": results[\"overall_f1\"]\n",
    "    }"
   ]
  },
  {
   "cell_type": "markdown",
   "id": "dab80f95-c810-4bb6-803c-4c6227b62030",
   "metadata": {
    "jp-MarkdownHeadingCollapsed": true
   },
   "source": [
    "#### Dataset Preparation"
   ]
  },
  {
   "cell_type": "code",
   "execution_count": 123,
   "id": "a98f21c3-6361-4e6a-bb52-23b5f663a0f6",
   "metadata": {
    "scrolled": true
   },
   "outputs": [],
   "source": [
    "train_robe = robe_dataset(X_train, y_train)\n",
    "val_robe = robe_dataset(X_val, y_val)\n",
    "test_robe = robe_dataset(X_test, y_test)"
   ]
  },
  {
   "cell_type": "code",
   "execution_count": 124,
   "id": "dd152edf-f637-4613-9c6b-c0a1c073aefc",
   "metadata": {},
   "outputs": [],
   "source": [
    "train_dataset = Dataset.from_dict({key: [row[key] for row in train_robe] for key in train_robe[0].keys()})\n",
    "val_dataset = Dataset.from_dict({key: [row[key] for row in val_robe] for key in val_robe[0].keys()})\n",
    "test_dataset = Dataset.from_dict({key: [row[key] for row in test_robe] for key in test_robe[0].keys()})\n",
    "\n",
    "dataset = DatasetDict({'train': train_dataset, \n",
    "                       'validation': val_dataset, \n",
    "                       'test': test_dataset}\n",
    "                     )"
   ]
  },
  {
   "cell_type": "code",
   "execution_count": 125,
   "id": "b898e301-bc40-4f6c-ac20-3b9766afe69a",
   "metadata": {},
   "outputs": [],
   "source": [
    "id2label = {i : label_list[i] for i in range(len(label_list))}\n",
    "label2id = {label_list[i] : i for i in range(len(label_list))}"
   ]
  },
  {
   "cell_type": "markdown",
   "id": "d98deb2a-9ba5-4e63-a5d4-b74b3cbb0cf8",
   "metadata": {
    "jp-MarkdownHeadingCollapsed": true
   },
   "source": [
    "#### Tokenization and Label Alignement"
   ]
  },
  {
   "cell_type": "code",
   "execution_count": 126,
   "id": "88fae02c-9862-4b50-8105-925af69d0894",
   "metadata": {
    "scrolled": true
   },
   "outputs": [],
   "source": [
    "tokenizer = BertTokenizerFast.from_pretrained(\"bert-base-cased\", is_split_into_words=True)"
   ]
  },
  {
   "cell_type": "markdown",
   "id": "a256ab88-7e48-461a-807f-e73cd041ff19",
   "metadata": {},
   "source": [
    "This function is from https://www.kaggle.com/code/vimalpillai/fine-tuning-language-models-for-ner"
   ]
  },
  {
   "cell_type": "code",
   "execution_count": 127,
   "id": "64136e49-c42d-45bf-86c5-e3537375a082",
   "metadata": {},
   "outputs": [],
   "source": [
    "def tokenize_and_align_labels(examples, label_all_tokens=True):\n",
    "    tokenized_inputs = tokenizer(examples[\"words\"],truncation=True, is_split_into_words=True)\n",
    "    labels = []\n",
    "    \n",
    "    for i, label in enumerate(examples[\"tags\"]):\n",
    "        word_ids = tokenized_inputs.word_ids(batch_index=i)\n",
    "        previous_word_idx = None\n",
    "        label_ids = []\n",
    "        \n",
    "        for word_idx in word_ids:\n",
    "            if word_idx is None:\n",
    "                label_ids.append(-100)\n",
    "            elif word_idx != previous_word_idx:\n",
    "                label_ids.append(label[word_idx])\n",
    "            else:\n",
    "                label_ids.append(label[word_idx] if label_all_tokens else -100)\n",
    "            previous_word_idx = word_idx\n",
    "            \n",
    "        labels.append(label_ids)\n",
    "        \n",
    "    tokenized_inputs[\"labels\"] = labels\n",
    "    return tokenized_inputs"
   ]
  },
  {
   "cell_type": "code",
   "execution_count": 128,
   "id": "80ba6eb1-2298-47b2-8a31-b77ba7f4a357",
   "metadata": {},
   "outputs": [
    {
     "data": {
      "application/vnd.jupyter.widget-view+json": {
       "model_id": "51319508baab4a1e8035b32c639692d2",
       "version_major": 2,
       "version_minor": 0
      },
      "text/plain": [
       "Map:   0%|          | 0/5109 [00:00<?, ? examples/s]"
      ]
     },
     "metadata": {},
     "output_type": "display_data"
    },
    {
     "data": {
      "application/vnd.jupyter.widget-view+json": {
       "model_id": "c93304f7732e446ebf99facb1e1dfdc2",
       "version_major": 2,
       "version_minor": 0
      },
      "text/plain": [
       "Map:   0%|          | 0/1095 [00:00<?, ? examples/s]"
      ]
     },
     "metadata": {},
     "output_type": "display_data"
    },
    {
     "data": {
      "application/vnd.jupyter.widget-view+json": {
       "model_id": "d7259f1ab9354206b1c8c1965b68982f",
       "version_major": 2,
       "version_minor": 0
      },
      "text/plain": [
       "Map:   0%|          | 0/1095 [00:00<?, ? examples/s]"
      ]
     },
     "metadata": {},
     "output_type": "display_data"
    }
   ],
   "source": [
    "tokenized_datasets = dataset.map(tokenize_and_align_labels, batched=True)"
   ]
  },
  {
   "cell_type": "code",
   "execution_count": 129,
   "id": "2807394b-5b4a-48c3-a734-3bd7e1fa07c6",
   "metadata": {},
   "outputs": [],
   "source": [
    "data_collator = DataCollatorForTokenClassification(tokenizer)"
   ]
  },
  {
   "cell_type": "markdown",
   "id": "645df19b-a840-4d48-87fd-76e86f2e6bd3",
   "metadata": {
    "jp-MarkdownHeadingCollapsed": true
   },
   "source": [
    "#### RobeCzech Model"
   ]
  },
  {
   "cell_type": "markdown",
   "id": "a7448448-a938-46dd-9821-4a4b612be315",
   "metadata": {},
   "source": [
    "Hyperparameter Search"
   ]
  },
  {
   "cell_type": "code",
   "execution_count": 130,
   "id": "f857279c-6caf-4912-a8d2-584d7edf5490",
   "metadata": {},
   "outputs": [],
   "source": [
    "import optuna\n",
    "import os\n",
    "\n",
    "os.environ[\"WANDB_DISABLED\"] = \"true\""
   ]
  },
  {
   "cell_type": "code",
   "execution_count": 131,
   "id": "d72a23b3-e476-40a3-bbb5-a17fb6d6aeeb",
   "metadata": {},
   "outputs": [],
   "source": [
    "def objective(trial: optuna.Trial):\n",
    "    model = AutoModelForTokenClassification.from_pretrained(\"ufal/robeczech-base\", num_labels=2)\n",
    "    \n",
    "    device = torch.device(\"cuda\" if torch.cuda.is_available() else \"cpu\")\n",
    "    model.to(device)\n",
    "    \n",
    "    training_args = TrainingArguments(\n",
    "        output_dir=\"rcz_results\",\n",
    "        learning_rate=trial.suggest_loguniform(\"learning_rate\", low=1e-5, high=5e-5),\n",
    "        weight_decay=trial.suggest_loguniform(\"weight_decay\", 1e-4, 0.1),\n",
    "        num_train_epochs=trial.suggest_int(\"num_train_epochs\", low=3, high=15),\n",
    "        per_device_train_batch_size=8,\n",
    "        per_device_eval_batch_size=8,\n",
    "        disable_tqdm=False\n",
    "    )\n",
    "    \n",
    "    trainer = Trainer(\n",
    "        model=model,\n",
    "        args=training_args,\n",
    "        train_dataset=tokenized_datasets[\"train\"],\n",
    "        eval_dataset=tokenized_datasets[\"validation\"],\n",
    "        data_collator=data_collator,\n",
    "        tokenizer=tokenizer,\n",
    "        compute_metrics=compute_metrics\n",
    "    )\n",
    "    result = trainer.train()\n",
    "    return result.training_loss"
   ]
  },
  {
   "cell_type": "code",
   "execution_count": 132,
   "id": "14d54cb0-bdac-47b6-9e03-a71746c9aa1a",
   "metadata": {
    "collapsed": true,
    "jupyter": {
     "outputs_hidden": true
    },
    "scrolled": true
   },
   "outputs": [
    {
     "name": "stderr",
     "output_type": "stream",
     "text": [
      "[I 2024-03-31 14:48:44,736] A new study created in memory with name: no-name-66f670b8-69ef-4be4-ac8e-aabf1d626d46\n",
      "[W 2024-03-31 14:48:47,493] Trial 0 failed with parameters: {} because of the following error: KeyboardInterrupt().\n",
      "Traceback (most recent call last):\n",
      "  File \"/usr/local/lib/python3.8/dist-packages/optuna/study/_optimize.py\", line 200, in _run_trial\n",
      "    value_or_values = func(trial)\n",
      "  File \"/tmp/ipykernel_7834/3248843402.py\", line 2, in objective\n",
      "    model = AutoModelForTokenClassification.from_pretrained(\"ufal/robeczech-base\", num_labels=2)\n",
      "  File \"/home/ubuntu/.local/lib/python3.8/site-packages/transformers/models/auto/auto_factory.py\", line 436, in from_pretrained\n",
      "    return model_class.from_pretrained(pretrained_model_name_or_path, *model_args, config=config, **kwargs)\n",
      "  File \"/home/ubuntu/.local/lib/python3.8/site-packages/transformers/modeling_utils.py\", line 1414, in from_pretrained\n",
      "    model = cls(config, *model_args, **model_kwargs)\n",
      "  File \"/home/ubuntu/.local/lib/python3.8/site-packages/transformers/models/roberta/modeling_roberta.py\", line 1363, in __init__\n",
      "    self.roberta = RobertaModel(config, add_pooling_layer=False)\n",
      "  File \"/home/ubuntu/.local/lib/python3.8/site-packages/transformers/models/roberta/modeling_roberta.py\", line 722, in __init__\n",
      "    self.encoder = RobertaEncoder(config)\n",
      "  File \"/home/ubuntu/.local/lib/python3.8/site-packages/transformers/models/roberta/modeling_roberta.py\", line 475, in __init__\n",
      "    self.layer = nn.ModuleList([RobertaLayer(config) for _ in range(config.num_hidden_layers)])\n",
      "  File \"/home/ubuntu/.local/lib/python3.8/site-packages/transformers/models/roberta/modeling_roberta.py\", line 475, in <listcomp>\n",
      "    self.layer = nn.ModuleList([RobertaLayer(config) for _ in range(config.num_hidden_layers)])\n",
      "  File \"/home/ubuntu/.local/lib/python3.8/site-packages/transformers/models/roberta/modeling_roberta.py\", line 397, in __init__\n",
      "    self.intermediate = RobertaIntermediate(config)\n",
      "  File \"/home/ubuntu/.local/lib/python3.8/site-packages/transformers/models/roberta/modeling_roberta.py\", line 357, in __init__\n",
      "    self.dense = nn.Linear(config.hidden_size, config.intermediate_size)\n",
      "  File \"/usr/local/lib/python3.8/dist-packages/torch/nn/modules/linear.py\", line 103, in __init__\n",
      "    self.reset_parameters()\n",
      "  File \"/usr/local/lib/python3.8/dist-packages/torch/nn/modules/linear.py\", line 109, in reset_parameters\n",
      "    init.kaiming_uniform_(self.weight, a=math.sqrt(5))\n",
      "  File \"/usr/local/lib/python3.8/dist-packages/torch/nn/init.py\", line 459, in kaiming_uniform_\n",
      "    return tensor.uniform_(-bound, bound, generator=generator)\n",
      "KeyboardInterrupt\n",
      "[W 2024-03-31 14:48:47,501] Trial 0 failed with value None.\n"
     ]
    },
    {
     "ename": "KeyboardInterrupt",
     "evalue": "",
     "output_type": "error",
     "traceback": [
      "\u001b[0;31m---------------------------------------------------------------------------\u001b[0m",
      "\u001b[0;31mKeyboardInterrupt\u001b[0m                         Traceback (most recent call last)",
      "Cell \u001b[0;32mIn[132], line 2\u001b[0m\n\u001b[1;32m      1\u001b[0m study \u001b[38;5;241m=\u001b[39m optuna\u001b[38;5;241m.\u001b[39mcreate_study(direction\u001b[38;5;241m=\u001b[39m\u001b[38;5;124m'\u001b[39m\u001b[38;5;124mminimize\u001b[39m\u001b[38;5;124m'\u001b[39m) \n\u001b[0;32m----> 2\u001b[0m \u001b[43mstudy\u001b[49m\u001b[38;5;241;43m.\u001b[39;49m\u001b[43moptimize\u001b[49m\u001b[43m(\u001b[49m\u001b[43mfunc\u001b[49m\u001b[38;5;241;43m=\u001b[39;49m\u001b[43mobjective\u001b[49m\u001b[43m,\u001b[49m\u001b[43m \u001b[49m\u001b[43mn_trials\u001b[49m\u001b[38;5;241;43m=\u001b[39;49m\u001b[38;5;241;43m10\u001b[39;49m\u001b[43m)\u001b[49m  \n",
      "File \u001b[0;32m/usr/local/lib/python3.8/dist-packages/optuna/study/study.py:451\u001b[0m, in \u001b[0;36mStudy.optimize\u001b[0;34m(self, func, n_trials, timeout, n_jobs, catch, callbacks, gc_after_trial, show_progress_bar)\u001b[0m\n\u001b[1;32m    348\u001b[0m \u001b[38;5;28;01mdef\u001b[39;00m \u001b[38;5;21moptimize\u001b[39m(\n\u001b[1;32m    349\u001b[0m     \u001b[38;5;28mself\u001b[39m,\n\u001b[1;32m    350\u001b[0m     func: ObjectiveFuncType,\n\u001b[0;32m   (...)\u001b[0m\n\u001b[1;32m    357\u001b[0m     show_progress_bar: \u001b[38;5;28mbool\u001b[39m \u001b[38;5;241m=\u001b[39m \u001b[38;5;28;01mFalse\u001b[39;00m,\n\u001b[1;32m    358\u001b[0m ) \u001b[38;5;241m-\u001b[39m\u001b[38;5;241m>\u001b[39m \u001b[38;5;28;01mNone\u001b[39;00m:\n\u001b[1;32m    359\u001b[0m \u001b[38;5;250m    \u001b[39m\u001b[38;5;124;03m\"\"\"Optimize an objective function.\u001b[39;00m\n\u001b[1;32m    360\u001b[0m \n\u001b[1;32m    361\u001b[0m \u001b[38;5;124;03m    Optimization is done by choosing a suitable set of hyperparameter values from a given\u001b[39;00m\n\u001b[0;32m   (...)\u001b[0m\n\u001b[1;32m    449\u001b[0m \u001b[38;5;124;03m            If nested invocation of this method occurs.\u001b[39;00m\n\u001b[1;32m    450\u001b[0m \u001b[38;5;124;03m    \"\"\"\u001b[39;00m\n\u001b[0;32m--> 451\u001b[0m     \u001b[43m_optimize\u001b[49m\u001b[43m(\u001b[49m\n\u001b[1;32m    452\u001b[0m \u001b[43m        \u001b[49m\u001b[43mstudy\u001b[49m\u001b[38;5;241;43m=\u001b[39;49m\u001b[38;5;28;43mself\u001b[39;49m\u001b[43m,\u001b[49m\n\u001b[1;32m    453\u001b[0m \u001b[43m        \u001b[49m\u001b[43mfunc\u001b[49m\u001b[38;5;241;43m=\u001b[39;49m\u001b[43mfunc\u001b[49m\u001b[43m,\u001b[49m\n\u001b[1;32m    454\u001b[0m \u001b[43m        \u001b[49m\u001b[43mn_trials\u001b[49m\u001b[38;5;241;43m=\u001b[39;49m\u001b[43mn_trials\u001b[49m\u001b[43m,\u001b[49m\n\u001b[1;32m    455\u001b[0m \u001b[43m        \u001b[49m\u001b[43mtimeout\u001b[49m\u001b[38;5;241;43m=\u001b[39;49m\u001b[43mtimeout\u001b[49m\u001b[43m,\u001b[49m\n\u001b[1;32m    456\u001b[0m \u001b[43m        \u001b[49m\u001b[43mn_jobs\u001b[49m\u001b[38;5;241;43m=\u001b[39;49m\u001b[43mn_jobs\u001b[49m\u001b[43m,\u001b[49m\n\u001b[1;32m    457\u001b[0m \u001b[43m        \u001b[49m\u001b[43mcatch\u001b[49m\u001b[38;5;241;43m=\u001b[39;49m\u001b[38;5;28;43mtuple\u001b[39;49m\u001b[43m(\u001b[49m\u001b[43mcatch\u001b[49m\u001b[43m)\u001b[49m\u001b[43m \u001b[49m\u001b[38;5;28;43;01mif\u001b[39;49;00m\u001b[43m \u001b[49m\u001b[38;5;28;43misinstance\u001b[39;49m\u001b[43m(\u001b[49m\u001b[43mcatch\u001b[49m\u001b[43m,\u001b[49m\u001b[43m \u001b[49m\u001b[43mIterable\u001b[49m\u001b[43m)\u001b[49m\u001b[43m \u001b[49m\u001b[38;5;28;43;01melse\u001b[39;49;00m\u001b[43m \u001b[49m\u001b[43m(\u001b[49m\u001b[43mcatch\u001b[49m\u001b[43m,\u001b[49m\u001b[43m)\u001b[49m\u001b[43m,\u001b[49m\n\u001b[1;32m    458\u001b[0m \u001b[43m        \u001b[49m\u001b[43mcallbacks\u001b[49m\u001b[38;5;241;43m=\u001b[39;49m\u001b[43mcallbacks\u001b[49m\u001b[43m,\u001b[49m\n\u001b[1;32m    459\u001b[0m \u001b[43m        \u001b[49m\u001b[43mgc_after_trial\u001b[49m\u001b[38;5;241;43m=\u001b[39;49m\u001b[43mgc_after_trial\u001b[49m\u001b[43m,\u001b[49m\n\u001b[1;32m    460\u001b[0m \u001b[43m        \u001b[49m\u001b[43mshow_progress_bar\u001b[49m\u001b[38;5;241;43m=\u001b[39;49m\u001b[43mshow_progress_bar\u001b[49m\u001b[43m,\u001b[49m\n\u001b[1;32m    461\u001b[0m \u001b[43m    \u001b[49m\u001b[43m)\u001b[49m\n",
      "File \u001b[0;32m/usr/local/lib/python3.8/dist-packages/optuna/study/_optimize.py:66\u001b[0m, in \u001b[0;36m_optimize\u001b[0;34m(study, func, n_trials, timeout, n_jobs, catch, callbacks, gc_after_trial, show_progress_bar)\u001b[0m\n\u001b[1;32m     64\u001b[0m \u001b[38;5;28;01mtry\u001b[39;00m:\n\u001b[1;32m     65\u001b[0m     \u001b[38;5;28;01mif\u001b[39;00m n_jobs \u001b[38;5;241m==\u001b[39m \u001b[38;5;241m1\u001b[39m:\n\u001b[0;32m---> 66\u001b[0m         \u001b[43m_optimize_sequential\u001b[49m\u001b[43m(\u001b[49m\n\u001b[1;32m     67\u001b[0m \u001b[43m            \u001b[49m\u001b[43mstudy\u001b[49m\u001b[43m,\u001b[49m\n\u001b[1;32m     68\u001b[0m \u001b[43m            \u001b[49m\u001b[43mfunc\u001b[49m\u001b[43m,\u001b[49m\n\u001b[1;32m     69\u001b[0m \u001b[43m            \u001b[49m\u001b[43mn_trials\u001b[49m\u001b[43m,\u001b[49m\n\u001b[1;32m     70\u001b[0m \u001b[43m            \u001b[49m\u001b[43mtimeout\u001b[49m\u001b[43m,\u001b[49m\n\u001b[1;32m     71\u001b[0m \u001b[43m            \u001b[49m\u001b[43mcatch\u001b[49m\u001b[43m,\u001b[49m\n\u001b[1;32m     72\u001b[0m \u001b[43m            \u001b[49m\u001b[43mcallbacks\u001b[49m\u001b[43m,\u001b[49m\n\u001b[1;32m     73\u001b[0m \u001b[43m            \u001b[49m\u001b[43mgc_after_trial\u001b[49m\u001b[43m,\u001b[49m\n\u001b[1;32m     74\u001b[0m \u001b[43m            \u001b[49m\u001b[43mreseed_sampler_rng\u001b[49m\u001b[38;5;241;43m=\u001b[39;49m\u001b[38;5;28;43;01mFalse\u001b[39;49;00m\u001b[43m,\u001b[49m\n\u001b[1;32m     75\u001b[0m \u001b[43m            \u001b[49m\u001b[43mtime_start\u001b[49m\u001b[38;5;241;43m=\u001b[39;49m\u001b[38;5;28;43;01mNone\u001b[39;49;00m\u001b[43m,\u001b[49m\n\u001b[1;32m     76\u001b[0m \u001b[43m            \u001b[49m\u001b[43mprogress_bar\u001b[49m\u001b[38;5;241;43m=\u001b[39;49m\u001b[43mprogress_bar\u001b[49m\u001b[43m,\u001b[49m\n\u001b[1;32m     77\u001b[0m \u001b[43m        \u001b[49m\u001b[43m)\u001b[49m\n\u001b[1;32m     78\u001b[0m     \u001b[38;5;28;01melse\u001b[39;00m:\n\u001b[1;32m     79\u001b[0m         \u001b[38;5;28;01mif\u001b[39;00m n_jobs \u001b[38;5;241m==\u001b[39m \u001b[38;5;241m-\u001b[39m\u001b[38;5;241m1\u001b[39m:\n",
      "File \u001b[0;32m/usr/local/lib/python3.8/dist-packages/optuna/study/_optimize.py:163\u001b[0m, in \u001b[0;36m_optimize_sequential\u001b[0;34m(study, func, n_trials, timeout, catch, callbacks, gc_after_trial, reseed_sampler_rng, time_start, progress_bar)\u001b[0m\n\u001b[1;32m    160\u001b[0m         \u001b[38;5;28;01mbreak\u001b[39;00m\n\u001b[1;32m    162\u001b[0m \u001b[38;5;28;01mtry\u001b[39;00m:\n\u001b[0;32m--> 163\u001b[0m     frozen_trial \u001b[38;5;241m=\u001b[39m \u001b[43m_run_trial\u001b[49m\u001b[43m(\u001b[49m\u001b[43mstudy\u001b[49m\u001b[43m,\u001b[49m\u001b[43m \u001b[49m\u001b[43mfunc\u001b[49m\u001b[43m,\u001b[49m\u001b[43m \u001b[49m\u001b[43mcatch\u001b[49m\u001b[43m)\u001b[49m\n\u001b[1;32m    164\u001b[0m \u001b[38;5;28;01mfinally\u001b[39;00m:\n\u001b[1;32m    165\u001b[0m     \u001b[38;5;66;03m# The following line mitigates memory problems that can be occurred in some\u001b[39;00m\n\u001b[1;32m    166\u001b[0m     \u001b[38;5;66;03m# environments (e.g., services that use computing containers such as GitHub Actions).\u001b[39;00m\n\u001b[1;32m    167\u001b[0m     \u001b[38;5;66;03m# Please refer to the following PR for further details:\u001b[39;00m\n\u001b[1;32m    168\u001b[0m     \u001b[38;5;66;03m# https://github.com/optuna/optuna/pull/325.\u001b[39;00m\n\u001b[1;32m    169\u001b[0m     \u001b[38;5;28;01mif\u001b[39;00m gc_after_trial:\n",
      "File \u001b[0;32m/usr/local/lib/python3.8/dist-packages/optuna/study/_optimize.py:251\u001b[0m, in \u001b[0;36m_run_trial\u001b[0;34m(study, func, catch)\u001b[0m\n\u001b[1;32m    244\u001b[0m         \u001b[38;5;28;01massert\u001b[39;00m \u001b[38;5;28;01mFalse\u001b[39;00m, \u001b[38;5;124m\"\u001b[39m\u001b[38;5;124mShould not reach.\u001b[39m\u001b[38;5;124m\"\u001b[39m\n\u001b[1;32m    246\u001b[0m \u001b[38;5;28;01mif\u001b[39;00m (\n\u001b[1;32m    247\u001b[0m     frozen_trial\u001b[38;5;241m.\u001b[39mstate \u001b[38;5;241m==\u001b[39m TrialState\u001b[38;5;241m.\u001b[39mFAIL\n\u001b[1;32m    248\u001b[0m     \u001b[38;5;129;01mand\u001b[39;00m func_err \u001b[38;5;129;01mis\u001b[39;00m \u001b[38;5;129;01mnot\u001b[39;00m \u001b[38;5;28;01mNone\u001b[39;00m\n\u001b[1;32m    249\u001b[0m     \u001b[38;5;129;01mand\u001b[39;00m \u001b[38;5;129;01mnot\u001b[39;00m \u001b[38;5;28misinstance\u001b[39m(func_err, catch)\n\u001b[1;32m    250\u001b[0m ):\n\u001b[0;32m--> 251\u001b[0m     \u001b[38;5;28;01mraise\u001b[39;00m func_err\n\u001b[1;32m    252\u001b[0m \u001b[38;5;28;01mreturn\u001b[39;00m frozen_trial\n",
      "File \u001b[0;32m/usr/local/lib/python3.8/dist-packages/optuna/study/_optimize.py:200\u001b[0m, in \u001b[0;36m_run_trial\u001b[0;34m(study, func, catch)\u001b[0m\n\u001b[1;32m    198\u001b[0m \u001b[38;5;28;01mwith\u001b[39;00m get_heartbeat_thread(trial\u001b[38;5;241m.\u001b[39m_trial_id, study\u001b[38;5;241m.\u001b[39m_storage):\n\u001b[1;32m    199\u001b[0m     \u001b[38;5;28;01mtry\u001b[39;00m:\n\u001b[0;32m--> 200\u001b[0m         value_or_values \u001b[38;5;241m=\u001b[39m \u001b[43mfunc\u001b[49m\u001b[43m(\u001b[49m\u001b[43mtrial\u001b[49m\u001b[43m)\u001b[49m\n\u001b[1;32m    201\u001b[0m     \u001b[38;5;28;01mexcept\u001b[39;00m exceptions\u001b[38;5;241m.\u001b[39mTrialPruned \u001b[38;5;28;01mas\u001b[39;00m e:\n\u001b[1;32m    202\u001b[0m         \u001b[38;5;66;03m# TODO(mamu): Handle multi-objective cases.\u001b[39;00m\n\u001b[1;32m    203\u001b[0m         state \u001b[38;5;241m=\u001b[39m TrialState\u001b[38;5;241m.\u001b[39mPRUNED\n",
      "Cell \u001b[0;32mIn[131], line 2\u001b[0m, in \u001b[0;36mobjective\u001b[0;34m(trial)\u001b[0m\n\u001b[1;32m      1\u001b[0m \u001b[38;5;28;01mdef\u001b[39;00m \u001b[38;5;21mobjective\u001b[39m(trial: optuna\u001b[38;5;241m.\u001b[39mTrial):\n\u001b[0;32m----> 2\u001b[0m     model \u001b[38;5;241m=\u001b[39m \u001b[43mAutoModelForTokenClassification\u001b[49m\u001b[38;5;241;43m.\u001b[39;49m\u001b[43mfrom_pretrained\u001b[49m\u001b[43m(\u001b[49m\u001b[38;5;124;43m\"\u001b[39;49m\u001b[38;5;124;43mufal/robeczech-base\u001b[39;49m\u001b[38;5;124;43m\"\u001b[39;49m\u001b[43m,\u001b[49m\u001b[43m \u001b[49m\u001b[43mnum_labels\u001b[49m\u001b[38;5;241;43m=\u001b[39;49m\u001b[38;5;241;43m2\u001b[39;49m\u001b[43m)\u001b[49m\n\u001b[1;32m      4\u001b[0m     device \u001b[38;5;241m=\u001b[39m torch\u001b[38;5;241m.\u001b[39mdevice(\u001b[38;5;124m\"\u001b[39m\u001b[38;5;124mcuda\u001b[39m\u001b[38;5;124m\"\u001b[39m \u001b[38;5;28;01mif\u001b[39;00m torch\u001b[38;5;241m.\u001b[39mcuda\u001b[38;5;241m.\u001b[39mis_available() \u001b[38;5;28;01melse\u001b[39;00m \u001b[38;5;124m\"\u001b[39m\u001b[38;5;124mcpu\u001b[39m\u001b[38;5;124m\"\u001b[39m)\n\u001b[1;32m      5\u001b[0m     model\u001b[38;5;241m.\u001b[39mto(device)\n",
      "File \u001b[0;32m~/.local/lib/python3.8/site-packages/transformers/models/auto/auto_factory.py:436\u001b[0m, in \u001b[0;36m_BaseAutoModelClass.from_pretrained\u001b[0;34m(cls, pretrained_model_name_or_path, *model_args, **kwargs)\u001b[0m\n\u001b[1;32m    434\u001b[0m \u001b[38;5;28;01melif\u001b[39;00m \u001b[38;5;28mtype\u001b[39m(config) \u001b[38;5;129;01min\u001b[39;00m \u001b[38;5;28mcls\u001b[39m\u001b[38;5;241m.\u001b[39m_model_mapping\u001b[38;5;241m.\u001b[39mkeys():\n\u001b[1;32m    435\u001b[0m     model_class \u001b[38;5;241m=\u001b[39m _get_model_class(config, \u001b[38;5;28mcls\u001b[39m\u001b[38;5;241m.\u001b[39m_model_mapping)\n\u001b[0;32m--> 436\u001b[0m     \u001b[38;5;28;01mreturn\u001b[39;00m \u001b[43mmodel_class\u001b[49m\u001b[38;5;241;43m.\u001b[39;49m\u001b[43mfrom_pretrained\u001b[49m\u001b[43m(\u001b[49m\u001b[43mpretrained_model_name_or_path\u001b[49m\u001b[43m,\u001b[49m\u001b[43m \u001b[49m\u001b[38;5;241;43m*\u001b[39;49m\u001b[43mmodel_args\u001b[49m\u001b[43m,\u001b[49m\u001b[43m \u001b[49m\u001b[43mconfig\u001b[49m\u001b[38;5;241;43m=\u001b[39;49m\u001b[43mconfig\u001b[49m\u001b[43m,\u001b[49m\u001b[43m \u001b[49m\u001b[38;5;241;43m*\u001b[39;49m\u001b[38;5;241;43m*\u001b[39;49m\u001b[43mkwargs\u001b[49m\u001b[43m)\u001b[49m\n\u001b[1;32m    437\u001b[0m \u001b[38;5;28;01mraise\u001b[39;00m \u001b[38;5;167;01mValueError\u001b[39;00m(\n\u001b[1;32m    438\u001b[0m     \u001b[38;5;124mf\u001b[39m\u001b[38;5;124m\"\u001b[39m\u001b[38;5;124mUnrecognized configuration class \u001b[39m\u001b[38;5;132;01m{\u001b[39;00mconfig\u001b[38;5;241m.\u001b[39m\u001b[38;5;18m__class__\u001b[39m\u001b[38;5;132;01m}\u001b[39;00m\u001b[38;5;124m for this kind of AutoModel: \u001b[39m\u001b[38;5;132;01m{\u001b[39;00m\u001b[38;5;28mcls\u001b[39m\u001b[38;5;241m.\u001b[39m\u001b[38;5;18m__name__\u001b[39m\u001b[38;5;132;01m}\u001b[39;00m\u001b[38;5;124m.\u001b[39m\u001b[38;5;130;01m\\n\u001b[39;00m\u001b[38;5;124m\"\u001b[39m\n\u001b[1;32m    439\u001b[0m     \u001b[38;5;124mf\u001b[39m\u001b[38;5;124m\"\u001b[39m\u001b[38;5;124mModel type should be one of \u001b[39m\u001b[38;5;132;01m{\u001b[39;00m\u001b[38;5;124m'\u001b[39m\u001b[38;5;124m, \u001b[39m\u001b[38;5;124m'\u001b[39m\u001b[38;5;241m.\u001b[39mjoin(c\u001b[38;5;241m.\u001b[39m\u001b[38;5;18m__name__\u001b[39m\u001b[38;5;250m \u001b[39m\u001b[38;5;28;01mfor\u001b[39;00m\u001b[38;5;250m \u001b[39mc\u001b[38;5;250m \u001b[39m\u001b[38;5;129;01min\u001b[39;00m\u001b[38;5;250m \u001b[39m\u001b[38;5;28mcls\u001b[39m\u001b[38;5;241m.\u001b[39m_model_mapping\u001b[38;5;241m.\u001b[39mkeys())\u001b[38;5;132;01m}\u001b[39;00m\u001b[38;5;124m.\u001b[39m\u001b[38;5;124m\"\u001b[39m\n\u001b[1;32m    440\u001b[0m )\n",
      "File \u001b[0;32m~/.local/lib/python3.8/site-packages/transformers/modeling_utils.py:1414\u001b[0m, in \u001b[0;36mPreTrainedModel.from_pretrained\u001b[0;34m(cls, pretrained_model_name_or_path, *model_args, **kwargs)\u001b[0m\n\u001b[1;32m   1412\u001b[0m \u001b[38;5;28;01melse\u001b[39;00m:\n\u001b[1;32m   1413\u001b[0m     \u001b[38;5;28;01mwith\u001b[39;00m no_init_weights(_enable\u001b[38;5;241m=\u001b[39m_fast_init):\n\u001b[0;32m-> 1414\u001b[0m         model \u001b[38;5;241m=\u001b[39m \u001b[38;5;28;43mcls\u001b[39;49m\u001b[43m(\u001b[49m\u001b[43mconfig\u001b[49m\u001b[43m,\u001b[49m\u001b[43m \u001b[49m\u001b[38;5;241;43m*\u001b[39;49m\u001b[43mmodel_args\u001b[49m\u001b[43m,\u001b[49m\u001b[43m \u001b[49m\u001b[38;5;241;43m*\u001b[39;49m\u001b[38;5;241;43m*\u001b[39;49m\u001b[43mmodel_kwargs\u001b[49m\u001b[43m)\u001b[49m\n\u001b[1;32m   1416\u001b[0m \u001b[38;5;28;01mif\u001b[39;00m from_pt:\n\u001b[1;32m   1417\u001b[0m     \u001b[38;5;66;03m# restore default dtype\u001b[39;00m\n\u001b[1;32m   1418\u001b[0m     \u001b[38;5;28;01mif\u001b[39;00m dtype_orig \u001b[38;5;129;01mis\u001b[39;00m \u001b[38;5;129;01mnot\u001b[39;00m \u001b[38;5;28;01mNone\u001b[39;00m:\n",
      "File \u001b[0;32m~/.local/lib/python3.8/site-packages/transformers/models/roberta/modeling_roberta.py:1363\u001b[0m, in \u001b[0;36mRobertaForTokenClassification.__init__\u001b[0;34m(self, config)\u001b[0m\n\u001b[1;32m   1360\u001b[0m \u001b[38;5;28msuper\u001b[39m()\u001b[38;5;241m.\u001b[39m\u001b[38;5;21m__init__\u001b[39m(config)\n\u001b[1;32m   1361\u001b[0m \u001b[38;5;28mself\u001b[39m\u001b[38;5;241m.\u001b[39mnum_labels \u001b[38;5;241m=\u001b[39m config\u001b[38;5;241m.\u001b[39mnum_labels\n\u001b[0;32m-> 1363\u001b[0m \u001b[38;5;28mself\u001b[39m\u001b[38;5;241m.\u001b[39mroberta \u001b[38;5;241m=\u001b[39m \u001b[43mRobertaModel\u001b[49m\u001b[43m(\u001b[49m\u001b[43mconfig\u001b[49m\u001b[43m,\u001b[49m\u001b[43m \u001b[49m\u001b[43madd_pooling_layer\u001b[49m\u001b[38;5;241;43m=\u001b[39;49m\u001b[38;5;28;43;01mFalse\u001b[39;49;00m\u001b[43m)\u001b[49m\n\u001b[1;32m   1364\u001b[0m classifier_dropout \u001b[38;5;241m=\u001b[39m (\n\u001b[1;32m   1365\u001b[0m     config\u001b[38;5;241m.\u001b[39mclassifier_dropout \u001b[38;5;28;01mif\u001b[39;00m config\u001b[38;5;241m.\u001b[39mclassifier_dropout \u001b[38;5;129;01mis\u001b[39;00m \u001b[38;5;129;01mnot\u001b[39;00m \u001b[38;5;28;01mNone\u001b[39;00m \u001b[38;5;28;01melse\u001b[39;00m config\u001b[38;5;241m.\u001b[39mhidden_dropout_prob\n\u001b[1;32m   1366\u001b[0m )\n\u001b[1;32m   1367\u001b[0m \u001b[38;5;28mself\u001b[39m\u001b[38;5;241m.\u001b[39mdropout \u001b[38;5;241m=\u001b[39m nn\u001b[38;5;241m.\u001b[39mDropout(classifier_dropout)\n",
      "File \u001b[0;32m~/.local/lib/python3.8/site-packages/transformers/models/roberta/modeling_roberta.py:722\u001b[0m, in \u001b[0;36mRobertaModel.__init__\u001b[0;34m(self, config, add_pooling_layer)\u001b[0m\n\u001b[1;32m    719\u001b[0m \u001b[38;5;28mself\u001b[39m\u001b[38;5;241m.\u001b[39mconfig \u001b[38;5;241m=\u001b[39m config\n\u001b[1;32m    721\u001b[0m \u001b[38;5;28mself\u001b[39m\u001b[38;5;241m.\u001b[39membeddings \u001b[38;5;241m=\u001b[39m RobertaEmbeddings(config)\n\u001b[0;32m--> 722\u001b[0m \u001b[38;5;28mself\u001b[39m\u001b[38;5;241m.\u001b[39mencoder \u001b[38;5;241m=\u001b[39m \u001b[43mRobertaEncoder\u001b[49m\u001b[43m(\u001b[49m\u001b[43mconfig\u001b[49m\u001b[43m)\u001b[49m\n\u001b[1;32m    724\u001b[0m \u001b[38;5;28mself\u001b[39m\u001b[38;5;241m.\u001b[39mpooler \u001b[38;5;241m=\u001b[39m RobertaPooler(config) \u001b[38;5;28;01mif\u001b[39;00m add_pooling_layer \u001b[38;5;28;01melse\u001b[39;00m \u001b[38;5;28;01mNone\u001b[39;00m\n\u001b[1;32m    726\u001b[0m \u001b[38;5;66;03m# Initialize weights and apply final processing\u001b[39;00m\n",
      "File \u001b[0;32m~/.local/lib/python3.8/site-packages/transformers/models/roberta/modeling_roberta.py:475\u001b[0m, in \u001b[0;36mRobertaEncoder.__init__\u001b[0;34m(self, config)\u001b[0m\n\u001b[1;32m    473\u001b[0m \u001b[38;5;28msuper\u001b[39m()\u001b[38;5;241m.\u001b[39m\u001b[38;5;21m__init__\u001b[39m()\n\u001b[1;32m    474\u001b[0m \u001b[38;5;28mself\u001b[39m\u001b[38;5;241m.\u001b[39mconfig \u001b[38;5;241m=\u001b[39m config\n\u001b[0;32m--> 475\u001b[0m \u001b[38;5;28mself\u001b[39m\u001b[38;5;241m.\u001b[39mlayer \u001b[38;5;241m=\u001b[39m nn\u001b[38;5;241m.\u001b[39mModuleList([RobertaLayer(config) \u001b[38;5;28;01mfor\u001b[39;00m _ \u001b[38;5;129;01min\u001b[39;00m \u001b[38;5;28mrange\u001b[39m(config\u001b[38;5;241m.\u001b[39mnum_hidden_layers)])\n\u001b[1;32m    476\u001b[0m \u001b[38;5;28mself\u001b[39m\u001b[38;5;241m.\u001b[39mgradient_checkpointing \u001b[38;5;241m=\u001b[39m \u001b[38;5;28;01mFalse\u001b[39;00m\n",
      "File \u001b[0;32m~/.local/lib/python3.8/site-packages/transformers/models/roberta/modeling_roberta.py:475\u001b[0m, in \u001b[0;36m<listcomp>\u001b[0;34m(.0)\u001b[0m\n\u001b[1;32m    473\u001b[0m \u001b[38;5;28msuper\u001b[39m()\u001b[38;5;241m.\u001b[39m\u001b[38;5;21m__init__\u001b[39m()\n\u001b[1;32m    474\u001b[0m \u001b[38;5;28mself\u001b[39m\u001b[38;5;241m.\u001b[39mconfig \u001b[38;5;241m=\u001b[39m config\n\u001b[0;32m--> 475\u001b[0m \u001b[38;5;28mself\u001b[39m\u001b[38;5;241m.\u001b[39mlayer \u001b[38;5;241m=\u001b[39m nn\u001b[38;5;241m.\u001b[39mModuleList([\u001b[43mRobertaLayer\u001b[49m\u001b[43m(\u001b[49m\u001b[43mconfig\u001b[49m\u001b[43m)\u001b[49m \u001b[38;5;28;01mfor\u001b[39;00m _ \u001b[38;5;129;01min\u001b[39;00m \u001b[38;5;28mrange\u001b[39m(config\u001b[38;5;241m.\u001b[39mnum_hidden_layers)])\n\u001b[1;32m    476\u001b[0m \u001b[38;5;28mself\u001b[39m\u001b[38;5;241m.\u001b[39mgradient_checkpointing \u001b[38;5;241m=\u001b[39m \u001b[38;5;28;01mFalse\u001b[39;00m\n",
      "File \u001b[0;32m~/.local/lib/python3.8/site-packages/transformers/models/roberta/modeling_roberta.py:397\u001b[0m, in \u001b[0;36mRobertaLayer.__init__\u001b[0;34m(self, config)\u001b[0m\n\u001b[1;32m    395\u001b[0m         \u001b[38;5;28;01mraise\u001b[39;00m \u001b[38;5;167;01mValueError\u001b[39;00m(\u001b[38;5;124mf\u001b[39m\u001b[38;5;124m\"\u001b[39m\u001b[38;5;132;01m{\u001b[39;00m\u001b[38;5;28mself\u001b[39m\u001b[38;5;132;01m}\u001b[39;00m\u001b[38;5;124m should be used as a decoder model if cross attention is added\u001b[39m\u001b[38;5;124m\"\u001b[39m)\n\u001b[1;32m    396\u001b[0m     \u001b[38;5;28mself\u001b[39m\u001b[38;5;241m.\u001b[39mcrossattention \u001b[38;5;241m=\u001b[39m RobertaAttention(config, position_embedding_type\u001b[38;5;241m=\u001b[39m\u001b[38;5;124m\"\u001b[39m\u001b[38;5;124mabsolute\u001b[39m\u001b[38;5;124m\"\u001b[39m)\n\u001b[0;32m--> 397\u001b[0m \u001b[38;5;28mself\u001b[39m\u001b[38;5;241m.\u001b[39mintermediate \u001b[38;5;241m=\u001b[39m \u001b[43mRobertaIntermediate\u001b[49m\u001b[43m(\u001b[49m\u001b[43mconfig\u001b[49m\u001b[43m)\u001b[49m\n\u001b[1;32m    398\u001b[0m \u001b[38;5;28mself\u001b[39m\u001b[38;5;241m.\u001b[39moutput \u001b[38;5;241m=\u001b[39m RobertaOutput(config)\n",
      "File \u001b[0;32m~/.local/lib/python3.8/site-packages/transformers/models/roberta/modeling_roberta.py:357\u001b[0m, in \u001b[0;36mRobertaIntermediate.__init__\u001b[0;34m(self, config)\u001b[0m\n\u001b[1;32m    355\u001b[0m \u001b[38;5;28;01mdef\u001b[39;00m \u001b[38;5;21m__init__\u001b[39m(\u001b[38;5;28mself\u001b[39m, config):\n\u001b[1;32m    356\u001b[0m     \u001b[38;5;28msuper\u001b[39m()\u001b[38;5;241m.\u001b[39m\u001b[38;5;21m__init__\u001b[39m()\n\u001b[0;32m--> 357\u001b[0m     \u001b[38;5;28mself\u001b[39m\u001b[38;5;241m.\u001b[39mdense \u001b[38;5;241m=\u001b[39m \u001b[43mnn\u001b[49m\u001b[38;5;241;43m.\u001b[39;49m\u001b[43mLinear\u001b[49m\u001b[43m(\u001b[49m\u001b[43mconfig\u001b[49m\u001b[38;5;241;43m.\u001b[39;49m\u001b[43mhidden_size\u001b[49m\u001b[43m,\u001b[49m\u001b[43m \u001b[49m\u001b[43mconfig\u001b[49m\u001b[38;5;241;43m.\u001b[39;49m\u001b[43mintermediate_size\u001b[49m\u001b[43m)\u001b[49m\n\u001b[1;32m    358\u001b[0m     \u001b[38;5;28;01mif\u001b[39;00m \u001b[38;5;28misinstance\u001b[39m(config\u001b[38;5;241m.\u001b[39mhidden_act, \u001b[38;5;28mstr\u001b[39m):\n\u001b[1;32m    359\u001b[0m         \u001b[38;5;28mself\u001b[39m\u001b[38;5;241m.\u001b[39mintermediate_act_fn \u001b[38;5;241m=\u001b[39m ACT2FN[config\u001b[38;5;241m.\u001b[39mhidden_act]\n",
      "File \u001b[0;32m/usr/local/lib/python3.8/dist-packages/torch/nn/modules/linear.py:103\u001b[0m, in \u001b[0;36mLinear.__init__\u001b[0;34m(self, in_features, out_features, bias, device, dtype)\u001b[0m\n\u001b[1;32m    101\u001b[0m \u001b[38;5;28;01melse\u001b[39;00m:\n\u001b[1;32m    102\u001b[0m     \u001b[38;5;28mself\u001b[39m\u001b[38;5;241m.\u001b[39mregister_parameter(\u001b[38;5;124m'\u001b[39m\u001b[38;5;124mbias\u001b[39m\u001b[38;5;124m'\u001b[39m, \u001b[38;5;28;01mNone\u001b[39;00m)\n\u001b[0;32m--> 103\u001b[0m \u001b[38;5;28;43mself\u001b[39;49m\u001b[38;5;241;43m.\u001b[39;49m\u001b[43mreset_parameters\u001b[49m\u001b[43m(\u001b[49m\u001b[43m)\u001b[49m\n",
      "File \u001b[0;32m/usr/local/lib/python3.8/dist-packages/torch/nn/modules/linear.py:109\u001b[0m, in \u001b[0;36mLinear.reset_parameters\u001b[0;34m(self)\u001b[0m\n\u001b[1;32m    105\u001b[0m \u001b[38;5;28;01mdef\u001b[39;00m \u001b[38;5;21mreset_parameters\u001b[39m(\u001b[38;5;28mself\u001b[39m) \u001b[38;5;241m-\u001b[39m\u001b[38;5;241m>\u001b[39m \u001b[38;5;28;01mNone\u001b[39;00m:\n\u001b[1;32m    106\u001b[0m     \u001b[38;5;66;03m# Setting a=sqrt(5) in kaiming_uniform is the same as initializing with\u001b[39;00m\n\u001b[1;32m    107\u001b[0m     \u001b[38;5;66;03m# uniform(-1/sqrt(in_features), 1/sqrt(in_features)). For details, see\u001b[39;00m\n\u001b[1;32m    108\u001b[0m     \u001b[38;5;66;03m# https://github.com/pytorch/pytorch/issues/57109\u001b[39;00m\n\u001b[0;32m--> 109\u001b[0m     \u001b[43minit\u001b[49m\u001b[38;5;241;43m.\u001b[39;49m\u001b[43mkaiming_uniform_\u001b[49m\u001b[43m(\u001b[49m\u001b[38;5;28;43mself\u001b[39;49m\u001b[38;5;241;43m.\u001b[39;49m\u001b[43mweight\u001b[49m\u001b[43m,\u001b[49m\u001b[43m \u001b[49m\u001b[43ma\u001b[49m\u001b[38;5;241;43m=\u001b[39;49m\u001b[43mmath\u001b[49m\u001b[38;5;241;43m.\u001b[39;49m\u001b[43msqrt\u001b[49m\u001b[43m(\u001b[49m\u001b[38;5;241;43m5\u001b[39;49m\u001b[43m)\u001b[49m\u001b[43m)\u001b[49m\n\u001b[1;32m    110\u001b[0m     \u001b[38;5;28;01mif\u001b[39;00m \u001b[38;5;28mself\u001b[39m\u001b[38;5;241m.\u001b[39mbias \u001b[38;5;129;01mis\u001b[39;00m \u001b[38;5;129;01mnot\u001b[39;00m \u001b[38;5;28;01mNone\u001b[39;00m:\n\u001b[1;32m    111\u001b[0m         fan_in, _ \u001b[38;5;241m=\u001b[39m init\u001b[38;5;241m.\u001b[39m_calculate_fan_in_and_fan_out(\u001b[38;5;28mself\u001b[39m\u001b[38;5;241m.\u001b[39mweight)\n",
      "File \u001b[0;32m/usr/local/lib/python3.8/dist-packages/torch/nn/init.py:459\u001b[0m, in \u001b[0;36mkaiming_uniform_\u001b[0;34m(tensor, a, mode, nonlinearity, generator)\u001b[0m\n\u001b[1;32m    457\u001b[0m bound \u001b[38;5;241m=\u001b[39m math\u001b[38;5;241m.\u001b[39msqrt(\u001b[38;5;241m3.0\u001b[39m) \u001b[38;5;241m*\u001b[39m std  \u001b[38;5;66;03m# Calculate uniform bounds from standard deviation\u001b[39;00m\n\u001b[1;32m    458\u001b[0m \u001b[38;5;28;01mwith\u001b[39;00m torch\u001b[38;5;241m.\u001b[39mno_grad():\n\u001b[0;32m--> 459\u001b[0m     \u001b[38;5;28;01mreturn\u001b[39;00m \u001b[43mtensor\u001b[49m\u001b[38;5;241;43m.\u001b[39;49m\u001b[43muniform_\u001b[49m\u001b[43m(\u001b[49m\u001b[38;5;241;43m-\u001b[39;49m\u001b[43mbound\u001b[49m\u001b[43m,\u001b[49m\u001b[43m \u001b[49m\u001b[43mbound\u001b[49m\u001b[43m,\u001b[49m\u001b[43m \u001b[49m\u001b[43mgenerator\u001b[49m\u001b[38;5;241;43m=\u001b[39;49m\u001b[43mgenerator\u001b[49m\u001b[43m)\u001b[49m\n",
      "\u001b[0;31mKeyboardInterrupt\u001b[0m: "
     ]
    }
   ],
   "source": [
    "study = optuna.create_study(direction='minimize') \n",
    "study.optimize(func=objective, n_trials=10)  "
   ]
  },
  {
   "cell_type": "code",
   "execution_count": 133,
   "id": "a609ae64-a090-4630-9537-9ec0768a3105",
   "metadata": {},
   "outputs": [],
   "source": [
    "best_lr = 1.6851058387426426e-05\n",
    "best_weight_decay = 0.08323798632860356\n",
    "best_epoch = 14"
   ]
  },
  {
   "cell_type": "code",
   "execution_count": 134,
   "id": "b8e06848-fce4-4e9c-bca9-8cc9e9fc1f84",
   "metadata": {
    "collapsed": true,
    "jupyter": {
     "outputs_hidden": true
    },
    "scrolled": true
   },
   "outputs": [
    {
     "name": "stderr",
     "output_type": "stream",
     "text": [
      "Some weights of the model checkpoint at ufal/robeczech-base were not used when initializing RobertaForTokenClassification: ['lm_head.layer_norm.weight', 'lm_head.decoder.weight', 'lm_head.dense.bias', 'lm_head.layer_norm.bias', 'lm_head.decoder.bias', 'lm_head.dense.weight', 'lm_head.bias']\n",
      "- This IS expected if you are initializing RobertaForTokenClassification from the checkpoint of a model trained on another task or with another architecture (e.g. initializing a BertForSequenceClassification model from a BertForPreTraining model).\n",
      "- This IS NOT expected if you are initializing RobertaForTokenClassification from the checkpoint of a model that you expect to be exactly identical (initializing a BertForSequenceClassification model from a BertForSequenceClassification model).\n",
      "Some weights of RobertaForTokenClassification were not initialized from the model checkpoint at ufal/robeczech-base and are newly initialized: ['classifier.weight', 'classifier.bias']\n",
      "You should probably TRAIN this model on a down-stream task to be able to use it for predictions and inference.\n"
     ]
    },
    {
     "data": {
      "text/plain": [
       "RobertaForTokenClassification(\n",
       "  (roberta): RobertaModel(\n",
       "    (embeddings): RobertaEmbeddings(\n",
       "      (word_embeddings): Embedding(51997, 768, padding_idx=1)\n",
       "      (position_embeddings): Embedding(514, 768, padding_idx=1)\n",
       "      (token_type_embeddings): Embedding(1, 768)\n",
       "      (LayerNorm): LayerNorm((768,), eps=1e-05, elementwise_affine=True)\n",
       "      (dropout): Dropout(p=0.1, inplace=False)\n",
       "    )\n",
       "    (encoder): RobertaEncoder(\n",
       "      (layer): ModuleList(\n",
       "        (0-11): 12 x RobertaLayer(\n",
       "          (attention): RobertaAttention(\n",
       "            (self): RobertaSelfAttention(\n",
       "              (query): Linear(in_features=768, out_features=768, bias=True)\n",
       "              (key): Linear(in_features=768, out_features=768, bias=True)\n",
       "              (value): Linear(in_features=768, out_features=768, bias=True)\n",
       "              (dropout): Dropout(p=0.1, inplace=False)\n",
       "            )\n",
       "            (output): RobertaSelfOutput(\n",
       "              (dense): Linear(in_features=768, out_features=768, bias=True)\n",
       "              (LayerNorm): LayerNorm((768,), eps=1e-05, elementwise_affine=True)\n",
       "              (dropout): Dropout(p=0.1, inplace=False)\n",
       "            )\n",
       "          )\n",
       "          (intermediate): RobertaIntermediate(\n",
       "            (dense): Linear(in_features=768, out_features=3072, bias=True)\n",
       "          )\n",
       "          (output): RobertaOutput(\n",
       "            (dense): Linear(in_features=3072, out_features=768, bias=True)\n",
       "            (LayerNorm): LayerNorm((768,), eps=1e-05, elementwise_affine=True)\n",
       "            (dropout): Dropout(p=0.1, inplace=False)\n",
       "          )\n",
       "        )\n",
       "      )\n",
       "    )\n",
       "  )\n",
       "  (dropout): Dropout(p=0.1, inplace=False)\n",
       "  (classifier): Linear(in_features=768, out_features=2, bias=True)\n",
       ")"
      ]
     },
     "execution_count": 134,
     "metadata": {},
     "output_type": "execute_result"
    }
   ],
   "source": [
    "model = AutoModelForTokenClassification.from_pretrained(\"ufal/robeczech-base\", num_labels=2)\n",
    "\n",
    "device = torch.device(\"cuda\" if torch.cuda.is_available() else \"cpu\")\n",
    "model.to(device)"
   ]
  },
  {
   "cell_type": "code",
   "execution_count": 135,
   "id": "7d4f74ab-e61e-4a1e-8eb4-bc7b897cb50a",
   "metadata": {},
   "outputs": [],
   "source": [
    "best_arguments = TrainingArguments(\n",
    "    output_dir=\"./models/result\",\n",
    "    report_to=\"none\",\n",
    "    evaluation_strategy=\"epoch\",\n",
    "    learning_rate=best_lr,\n",
    "    per_device_train_batch_size=8,\n",
    "    per_device_eval_batch_size=8,\n",
    "    num_train_epochs=best_epoch,\n",
    "    weight_decay=best_weight_decay\n",
    "    )"
   ]
  },
  {
   "cell_type": "code",
   "execution_count": 136,
   "id": "cbf924d1-d199-41fa-9e69-0230996fdd24",
   "metadata": {
    "scrolled": true
   },
   "outputs": [],
   "source": [
    "best_trainer = Trainer(\n",
    "    model,\n",
    "    best_arguments,\n",
    "    train_dataset=tokenized_datasets[\"train\"],\n",
    "    eval_dataset=tokenized_datasets[\"validation\"],\n",
    "    data_collator=data_collator,\n",
    "    tokenizer=tokenizer,\n",
    "    compute_metrics=compute_metrics\n",
    "    )"
   ]
  },
  {
   "cell_type": "code",
   "execution_count": null,
   "id": "aff2e8b2-7f35-4be1-bb16-934332dea228",
   "metadata": {},
   "outputs": [],
   "source": [
    "best_trainer.train()"
   ]
  },
  {
   "cell_type": "code",
   "execution_count": 54,
   "id": "dcc8e67d-a41f-4380-a37d-719c76b07ddf",
   "metadata": {},
   "outputs": [
    {
     "name": "stderr",
     "output_type": "stream",
     "text": [
      "Saving model checkpoint to best_model\n",
      "Configuration saved in best_model/config.json\n",
      "Model weights saved in best_model/pytorch_model.bin\n",
      "tokenizer config file saved in best_model/tokenizer_config.json\n",
      "Special tokens file saved in best_model/special_tokens_map.json\n"
     ]
    }
   ],
   "source": [
    "best_trainer.save_model('best_model')"
   ]
  },
  {
   "cell_type": "code",
   "execution_count": 55,
   "id": "ef63c60a-5d54-421b-ae0b-e8491fa7e777",
   "metadata": {},
   "outputs": [],
   "source": [
    "config = json.load(open(\"best_model/config.json\"))\n",
    "config[\"id2label\"] = id2label\n",
    "config[\"label2id\"] = label2id\n",
    "json.dump(config, open(\"best_model/config.json\",\"w\"))"
   ]
  },
  {
   "cell_type": "markdown",
   "id": "27d62aac-5fd7-42c3-983f-b4685cea51f2",
   "metadata": {
    "jp-MarkdownHeadingCollapsed": true
   },
   "source": [
    "#### Final Evaluation"
   ]
  },
  {
   "cell_type": "code",
   "execution_count": 138,
   "id": "5c5c566c-74bc-453d-919d-58d8c04012ac",
   "metadata": {},
   "outputs": [],
   "source": [
    "def cf_pred_format(dataset: List[Dict[str, List[str]]], model: str) -> List[str]:\n",
    "    ner = pipeline(\n",
    "        'token-classification',\n",
    "        model = model,\n",
    "        aggregation_strategy = 'simple' , \n",
    "        device = 0 \n",
    "    )\n",
    "\n",
    "    y_pred = []\n",
    "    for sentence in dataset:\n",
    "        predictions = ner(sentence['words'])\n",
    "        for prediction in predictions:\n",
    "            if not prediction:\n",
    "                y_pred.append('O')\n",
    "            else:\n",
    "                y_pred.append('A')\n",
    "    return y_pred"
   ]
  },
  {
   "cell_type": "code",
   "execution_count": 250,
   "id": "b0a0e2a3-bd6c-425e-a2db-8ee8a2711459",
   "metadata": {
    "collapsed": true,
    "jupyter": {
     "outputs_hidden": true
    },
    "scrolled": true
   },
   "outputs": [
    {
     "name": "stderr",
     "output_type": "stream",
     "text": [
      "loading configuration file best_model/config.json\n",
      "Model config RobertaConfig {\n",
      "  \"_name_or_path\": \"best_model\",\n",
      "  \"architectures\": [\n",
      "    \"RobertaForTokenClassification\"\n",
      "  ],\n",
      "  \"attention_probs_dropout_prob\": 0.1,\n",
      "  \"bos_token_id\": 0,\n",
      "  \"classifier_dropout\": null,\n",
      "  \"eos_token_id\": 2,\n",
      "  \"gradient_checkpointing\": false,\n",
      "  \"hidden_act\": \"gelu\",\n",
      "  \"hidden_dropout_prob\": 0.1,\n",
      "  \"hidden_size\": 768,\n",
      "  \"id2label\": {\n",
      "    \"0\": \"O\",\n",
      "    \"1\": \"B-A\"\n",
      "  },\n",
      "  \"initializer_range\": 0.02,\n",
      "  \"intermediate_size\": 3072,\n",
      "  \"label2id\": {\n",
      "    \"B-A\": 1,\n",
      "    \"O\": 0\n",
      "  },\n",
      "  \"layer_norm_eps\": 1e-05,\n",
      "  \"max_position_embeddings\": 514,\n",
      "  \"model_type\": \"roberta\",\n",
      "  \"num_attention_heads\": 12,\n",
      "  \"num_hidden_layers\": 12,\n",
      "  \"pad_token_id\": 1,\n",
      "  \"position_embedding_type\": \"absolute\",\n",
      "  \"torch_dtype\": \"float32\",\n",
      "  \"transformers_version\": \"4.14.1\",\n",
      "  \"type_vocab_size\": 1,\n",
      "  \"use_cache\": true,\n",
      "  \"vocab_size\": 51997\n",
      "}\n",
      "\n",
      "loading configuration file best_model/config.json\n",
      "Model config RobertaConfig {\n",
      "  \"_name_or_path\": \"best_model\",\n",
      "  \"architectures\": [\n",
      "    \"RobertaForTokenClassification\"\n",
      "  ],\n",
      "  \"attention_probs_dropout_prob\": 0.1,\n",
      "  \"bos_token_id\": 0,\n",
      "  \"classifier_dropout\": null,\n",
      "  \"eos_token_id\": 2,\n",
      "  \"gradient_checkpointing\": false,\n",
      "  \"hidden_act\": \"gelu\",\n",
      "  \"hidden_dropout_prob\": 0.1,\n",
      "  \"hidden_size\": 768,\n",
      "  \"id2label\": {\n",
      "    \"0\": \"O\",\n",
      "    \"1\": \"B-A\"\n",
      "  },\n",
      "  \"initializer_range\": 0.02,\n",
      "  \"intermediate_size\": 3072,\n",
      "  \"label2id\": {\n",
      "    \"B-A\": 1,\n",
      "    \"O\": 0\n",
      "  },\n",
      "  \"layer_norm_eps\": 1e-05,\n",
      "  \"max_position_embeddings\": 514,\n",
      "  \"model_type\": \"roberta\",\n",
      "  \"num_attention_heads\": 12,\n",
      "  \"num_hidden_layers\": 12,\n",
      "  \"pad_token_id\": 1,\n",
      "  \"position_embedding_type\": \"absolute\",\n",
      "  \"torch_dtype\": \"float32\",\n",
      "  \"transformers_version\": \"4.14.1\",\n",
      "  \"type_vocab_size\": 1,\n",
      "  \"use_cache\": true,\n",
      "  \"vocab_size\": 51997\n",
      "}\n",
      "\n",
      "loading weights file best_model/pytorch_model.bin\n",
      "All model checkpoint weights were used when initializing RobertaForTokenClassification.\n",
      "\n",
      "All the weights of RobertaForTokenClassification were initialized from the model checkpoint at best_model.\n",
      "If your task is similar to the task the model of the checkpoint was trained on, you can already use RobertaForTokenClassification for predictions without further training.\n",
      "Didn't find file best_model/added_tokens.json. We won't load it.\n",
      "loading file best_model/vocab.txt\n",
      "loading file best_model/tokenizer.json\n",
      "loading file None\n",
      "loading file best_model/special_tokens_map.json\n",
      "loading file best_model/tokenizer_config.json\n",
      "/home/ubuntu/.local/lib/python3.8/site-packages/transformers/pipelines/base.py:1077: UserWarning: You seem to be using the pipelines sequentially on GPU. In order to maximize efficiency please use a dataset\n",
      "  warnings.warn(\n",
      "loading configuration file best_model/config.json\n",
      "Model config RobertaConfig {\n",
      "  \"_name_or_path\": \"best_model\",\n",
      "  \"architectures\": [\n",
      "    \"RobertaForTokenClassification\"\n",
      "  ],\n",
      "  \"attention_probs_dropout_prob\": 0.1,\n",
      "  \"bos_token_id\": 0,\n",
      "  \"classifier_dropout\": null,\n",
      "  \"eos_token_id\": 2,\n",
      "  \"gradient_checkpointing\": false,\n",
      "  \"hidden_act\": \"gelu\",\n",
      "  \"hidden_dropout_prob\": 0.1,\n",
      "  \"hidden_size\": 768,\n",
      "  \"id2label\": {\n",
      "    \"0\": \"O\",\n",
      "    \"1\": \"B-A\"\n",
      "  },\n",
      "  \"initializer_range\": 0.02,\n",
      "  \"intermediate_size\": 3072,\n",
      "  \"label2id\": {\n",
      "    \"B-A\": 1,\n",
      "    \"O\": 0\n",
      "  },\n",
      "  \"layer_norm_eps\": 1e-05,\n",
      "  \"max_position_embeddings\": 514,\n",
      "  \"model_type\": \"roberta\",\n",
      "  \"num_attention_heads\": 12,\n",
      "  \"num_hidden_layers\": 12,\n",
      "  \"pad_token_id\": 1,\n",
      "  \"position_embedding_type\": \"absolute\",\n",
      "  \"torch_dtype\": \"float32\",\n",
      "  \"transformers_version\": \"4.14.1\",\n",
      "  \"type_vocab_size\": 1,\n",
      "  \"use_cache\": true,\n",
      "  \"vocab_size\": 51997\n",
      "}\n",
      "\n",
      "loading configuration file best_model/config.json\n",
      "Model config RobertaConfig {\n",
      "  \"_name_or_path\": \"best_model\",\n",
      "  \"architectures\": [\n",
      "    \"RobertaForTokenClassification\"\n",
      "  ],\n",
      "  \"attention_probs_dropout_prob\": 0.1,\n",
      "  \"bos_token_id\": 0,\n",
      "  \"classifier_dropout\": null,\n",
      "  \"eos_token_id\": 2,\n",
      "  \"gradient_checkpointing\": false,\n",
      "  \"hidden_act\": \"gelu\",\n",
      "  \"hidden_dropout_prob\": 0.1,\n",
      "  \"hidden_size\": 768,\n",
      "  \"id2label\": {\n",
      "    \"0\": \"O\",\n",
      "    \"1\": \"B-A\"\n",
      "  },\n",
      "  \"initializer_range\": 0.02,\n",
      "  \"intermediate_size\": 3072,\n",
      "  \"label2id\": {\n",
      "    \"B-A\": 1,\n",
      "    \"O\": 0\n",
      "  },\n",
      "  \"layer_norm_eps\": 1e-05,\n",
      "  \"max_position_embeddings\": 514,\n",
      "  \"model_type\": \"roberta\",\n",
      "  \"num_attention_heads\": 12,\n",
      "  \"num_hidden_layers\": 12,\n",
      "  \"pad_token_id\": 1,\n",
      "  \"position_embedding_type\": \"absolute\",\n",
      "  \"torch_dtype\": \"float32\",\n",
      "  \"transformers_version\": \"4.14.1\",\n",
      "  \"type_vocab_size\": 1,\n",
      "  \"use_cache\": true,\n",
      "  \"vocab_size\": 51997\n",
      "}\n",
      "\n",
      "loading weights file best_model/pytorch_model.bin\n",
      "All model checkpoint weights were used when initializing RobertaForTokenClassification.\n",
      "\n",
      "All the weights of RobertaForTokenClassification were initialized from the model checkpoint at best_model.\n",
      "If your task is similar to the task the model of the checkpoint was trained on, you can already use RobertaForTokenClassification for predictions without further training.\n",
      "Didn't find file best_model/added_tokens.json. We won't load it.\n",
      "loading file best_model/vocab.txt\n",
      "loading file best_model/tokenizer.json\n",
      "loading file None\n",
      "loading file best_model/special_tokens_map.json\n",
      "loading file best_model/tokenizer_config.json\n"
     ]
    }
   ],
   "source": [
    "y_test_pred = cf_pred_format(test_robe, 'best_model')"
   ]
  },
  {
   "cell_type": "code",
   "execution_count": 42,
   "id": "62cab4a4-3a2f-4c48-8b7c-c9647d13973f",
   "metadata": {},
   "outputs": [],
   "source": [
    "def show_cf_for_robe(y: List[str], y_pred: List[str]) -> Dict[str, Dict[str, int]]:\n",
    "    disp = ConfusionMatrixDisplay(confusion_matrix(y, y_pred), display_labels=['A', 'O'])\n",
    "    disp.plot(cmap=\"cividis\")\n",
    "    plt.xticks(rotation=90)\n",
    "    plt.yticks(rotation=0)\n",
    "    plt.show()\n",
    "\n",
    "    print(classification_report(y, y_pred, labels=['A', 'O'], target_names=['A', 'O'], digits=4))\n",
    "    return classification_report(y, y_pred, output_dict=True)"
   ]
  },
  {
   "cell_type": "code",
   "execution_count": 254,
   "id": "c5d408bc-b884-4d6f-886a-6c6ed4c97048",
   "metadata": {},
   "outputs": [
    {
     "data": {
      "image/png": "[encoded data removed]",
      "text/plain": [
       "<Figure size 640x480 with 2 Axes>"
      ]
     },
     "metadata": {},
     "output_type": "display_data"
    },
    {
     "name": "stdout",
     "output_type": "stream",
     "text": [
      "              precision    recall  f1-score   support\n",
      "\n",
      "           A     0.7939    0.6037    0.6859       217\n",
      "           O     0.9888    0.9955    0.9921      7607\n",
      "\n",
      "    accuracy                         0.9847      7824\n",
      "   macro avg     0.8914    0.7996    0.8390      7824\n",
      "weighted avg     0.9834    0.9847    0.9836      7824\n",
      "\n"
     ]
    }
   ],
   "source": [
    "robecz_test_evaluation_report = show_cf_for_robe(list(chain.from_iterable(y_test)), y_test_pred)"
   ]
  },
  {
   "cell_type": "code",
   "execution_count": 262,
   "id": "69d2b05d-99bd-4724-a5a1-5bf6c554d440",
   "metadata": {},
   "outputs": [],
   "source": [
    "def get_false_predictions_flattened(X: DataFrame, y: List[List[str]], y_pred: List[List[str]]) -> Tuple[List[Tuple[str, str, str]], List[Tuple[str, str, str]]]:\n",
    "    FN = [(x, true_label, pred_label) for x, true_label, pred_label in zip(X, y, y_pred) if true_label != pred_label and pred_label == 'O']\n",
    "    FP = [(x, true_label, pred_label) for x, true_label, pred_label in zip(X, y, y_pred) if true_label != pred_label and pred_label == 'A']\n",
    "    return FN, FP"
   ]
  },
  {
   "cell_type": "code",
   "execution_count": 263,
   "id": "9215c16f-782c-4244-b7ad-352405927672",
   "metadata": {},
   "outputs": [],
   "source": [
    "FN_test_robe, FP_test_robe = get_false_predictions_flattened(list(chain.from_iterable(list(X_test['word']))), list(chain.from_iterable(y_test)), y_test_pred)"
   ]
  },
  {
   "cell_type": "code",
   "execution_count": null,
   "id": "6beb8a12-4a07-4064-b678-3601e3e80c33",
   "metadata": {},
   "outputs": [],
   "source": [
    "print(\"\\nTest Dataset\")\n",
    "print(\"False Negatives:\")\n",
    "for false_negative in FN_test_robe:\n",
    "    #print(false_negative)\n",
    "    pass\n",
    "\n",
    "print(\"\\nFalse Positives:\")\n",
    "for false_positive in FP_test_robe:\n",
    "    #print(false_positive)\n",
    "    pass\n",
    "\n",
    "print('False negatives test dataset: ', len(FN_test_robe))\n",
    "print('False positives test dataset: ', len(FP_test_robe))"
   ]
  }
 ],
 "metadata": {
  "kernelspec": {
   "display_name": "Python 3 (ipykernel)",
   "language": "python",
   "name": "python3"
  },
  "language_info": {
   "codemirror_mode": {
    "name": "ipython",
    "version": 3
   },
   "file_extension": ".py",
   "mimetype": "text/x-python",
   "name": "python",
   "nbconvert_exporter": "python",
   "pygments_lexer": "ipython3",
   "version": "3.11.4"
  }
 },
 "nbformat": 4,
 "nbformat_minor": 5
}
